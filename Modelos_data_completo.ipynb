{
 "cells": [
  {
   "cell_type": "code",
   "execution_count": 1,
   "id": "328e4471-7886-4cb4-9450-b827e08e4733",
   "metadata": {},
   "outputs": [],
   "source": [
    "import pandas as pd\n",
    "import numpy as np\n",
    "import seaborn as sns\n",
    "import matplotlib.pyplot as plt\n",
    "from xgboost import XGBClassifier\n",
    "from sklearn.linear_model import LogisticRegression\n",
    "from sklearn.preprocessing import OneHotEncoder, StandardScaler\n",
    "from sklearn.compose import ColumnTransformer\n",
    "from sklearn.model_selection import train_test_split\n",
    "from sklearn.metrics import accuracy_score, precision_score, recall_score, f1_score\n",
    "from sklearn.tree import DecisionTreeClassifier\n",
    "from sklearn.preprocessing import LabelEncoder"
   ]
  },
  {
   "cell_type": "code",
   "execution_count": 2,
   "id": "9c77182c-1d89-4de1-b7d8-da38957ba81e",
   "metadata": {},
   "outputs": [],
   "source": [
    "# Cargar los 16 conjuntos de datos\n",
    "dataset1 = pd.read_csv('SUSQ118CLEAN.csv')\n",
    "dataset2 = pd.read_csv('SUSQ119CLEAN.csv')\n",
    "dataset3 = pd.read_csv('SUSQ219CLEAN.csv')\n",
    "dataset4 = pd.read_csv('SUSQ218CLEAN.csv')\n",
    "dataset5 = pd.read_csv('SUSQ318CLEAN.csv')\n",
    "dataset6 = pd.read_csv('SUSQ319CLEAN.csv')\n",
    "dataset7 = pd.read_csv('SUSQ418CLEAN.csv')\n",
    "dataset8 = pd.read_csv('SUSQ419CLEAN.csv')\n",
    "dataset9 = pd.read_csv('CUSQ118CLEAN.csv')\n",
    "dataset10 = pd.read_csv('CUSQ119CLEAN.csv')\n",
    "dataset11 = pd.read_csv('CUSQ219CLEAN.csv')\n",
    "dataset12 = pd.read_csv('CUSQ218CLEAN.csv')\n",
    "dataset13 = pd.read_csv('CUSQ318CLEAN.csv')\n",
    "dataset14 = pd.read_csv('CUSQ319CLEAN.csv')\n",
    "dataset15 = pd.read_csv('CUSQ418CLEAN.csv')\n",
    "dataset16 = pd.read_csv('CUSQ419CLEAN.csv')\n",
    "\n",
    "# Concatenar los conjuntos de datos\n",
    "combined_dataset = pd.concat([dataset1, dataset2,dataset3,dataset4,dataset5,dataset6,dataset7,dataset8,dataset9,dataset10,dataset11,dataset12,dataset13,dataset14,dataset15,dataset16])\n",
    "\n",
    "\n",
    "\n"
   ]
  },
  {
   "cell_type": "code",
   "execution_count": 3,
   "id": "43d16dbd-4b65-403d-8c8f-8c92a0fd6eb0",
   "metadata": {},
   "outputs": [
    {
     "data": {
      "text/plain": [
       "(6684406, 9)"
      ]
     },
     "execution_count": 3,
     "metadata": {},
     "output_type": "execute_result"
    }
   ],
   "source": [
    "combined_dataset.shape"
   ]
  },
  {
   "cell_type": "code",
   "execution_count": 4,
   "id": "90a3ebc6-687a-4e2a-a7b2-241d50894aba",
   "metadata": {},
   "outputs": [],
   "source": [
    "# Eliminar columnas no hacen falta\n",
    "columnas_a_eliminar = ['start_day', 'start_year']\n",
    "data = combined_dataset.drop(columnas_a_eliminar, axis=1)"
   ]
  },
  {
   "cell_type": "code",
   "execution_count": 5,
   "id": "a72d68fa-2830-4f7c-918b-44c2cd7d3eb4",
   "metadata": {},
   "outputs": [
    {
     "data": {
      "text/html": [
       "<div>\n",
       "<style scoped>\n",
       "    .dataframe tbody tr th:only-of-type {\n",
       "        vertical-align: middle;\n",
       "    }\n",
       "\n",
       "    .dataframe tbody tr th {\n",
       "        vertical-align: top;\n",
       "    }\n",
       "\n",
       "    .dataframe thead th {\n",
       "        text-align: right;\n",
       "    }\n",
       "</style>\n",
       "<table border=\"1\" class=\"dataframe\">\n",
       "  <thead>\n",
       "    <tr style=\"text-align: right;\">\n",
       "      <th></th>\n",
       "      <th>tripduration</th>\n",
       "      <th>from_station_name</th>\n",
       "      <th>to_station_name</th>\n",
       "      <th>usertype</th>\n",
       "      <th>gender</th>\n",
       "      <th>start_month</th>\n",
       "      <th>Age_range</th>\n",
       "    </tr>\n",
       "  </thead>\n",
       "  <tbody>\n",
       "    <tr>\n",
       "      <th>0</th>\n",
       "      <td>323.0</td>\n",
       "      <td>Damen Ave &amp; Pierce Ave</td>\n",
       "      <td>Claremont Ave &amp; Hirsch St</td>\n",
       "      <td>Subscriber</td>\n",
       "      <td>Male</td>\n",
       "      <td>1</td>\n",
       "      <td>30-50</td>\n",
       "    </tr>\n",
       "    <tr>\n",
       "      <th>1</th>\n",
       "      <td>377.0</td>\n",
       "      <td>Winthrop Ave &amp; Lawrence Ave</td>\n",
       "      <td>Clark St &amp; Winnemac Ave (Temp)</td>\n",
       "      <td>Subscriber</td>\n",
       "      <td>Male</td>\n",
       "      <td>1</td>\n",
       "      <td>30-50</td>\n",
       "    </tr>\n",
       "    <tr>\n",
       "      <th>2</th>\n",
       "      <td>2904.0</td>\n",
       "      <td>LaSalle St &amp; Washington St</td>\n",
       "      <td>Troy St &amp; North Ave</td>\n",
       "      <td>Subscriber</td>\n",
       "      <td>Male</td>\n",
       "      <td>1</td>\n",
       "      <td>30-50</td>\n",
       "    </tr>\n",
       "    <tr>\n",
       "      <th>3</th>\n",
       "      <td>747.0</td>\n",
       "      <td>Rush St &amp; Hubbard St</td>\n",
       "      <td>Larrabee St &amp; Oak St</td>\n",
       "      <td>Subscriber</td>\n",
       "      <td>Male</td>\n",
       "      <td>1</td>\n",
       "      <td>30-50</td>\n",
       "    </tr>\n",
       "    <tr>\n",
       "      <th>4</th>\n",
       "      <td>183.0</td>\n",
       "      <td>Blue Island Ave &amp; 18th St</td>\n",
       "      <td>Paulina St &amp; 18th St</td>\n",
       "      <td>Subscriber</td>\n",
       "      <td>Male</td>\n",
       "      <td>1</td>\n",
       "      <td>30-50</td>\n",
       "    </tr>\n",
       "  </tbody>\n",
       "</table>\n",
       "</div>"
      ],
      "text/plain": [
       "   tripduration            from_station_name                 to_station_name  \\\n",
       "0         323.0       Damen Ave & Pierce Ave       Claremont Ave & Hirsch St   \n",
       "1         377.0  Winthrop Ave & Lawrence Ave  Clark St & Winnemac Ave (Temp)   \n",
       "2        2904.0   LaSalle St & Washington St             Troy St & North Ave   \n",
       "3         747.0         Rush St & Hubbard St            Larrabee St & Oak St   \n",
       "4         183.0    Blue Island Ave & 18th St            Paulina St & 18th St   \n",
       "\n",
       "     usertype gender  start_month Age_range  \n",
       "0  Subscriber   Male            1     30-50  \n",
       "1  Subscriber   Male            1     30-50  \n",
       "2  Subscriber   Male            1     30-50  \n",
       "3  Subscriber   Male            1     30-50  \n",
       "4  Subscriber   Male            1     30-50  "
      ]
     },
     "execution_count": 5,
     "metadata": {},
     "output_type": "execute_result"
    }
   ],
   "source": [
    "data.head()"
   ]
  },
  {
   "cell_type": "code",
   "execution_count": 6,
   "id": "8ff1ccaf-592b-4d8e-bcd7-6a71c216c240",
   "metadata": {},
   "outputs": [
    {
     "data": {
      "text/html": [
       "<div>\n",
       "<style scoped>\n",
       "    .dataframe tbody tr th:only-of-type {\n",
       "        vertical-align: middle;\n",
       "    }\n",
       "\n",
       "    .dataframe tbody tr th {\n",
       "        vertical-align: top;\n",
       "    }\n",
       "\n",
       "    .dataframe thead th {\n",
       "        text-align: right;\n",
       "    }\n",
       "</style>\n",
       "<table border=\"1\" class=\"dataframe\">\n",
       "  <thead>\n",
       "    <tr style=\"text-align: right;\">\n",
       "      <th></th>\n",
       "      <th>tripduration</th>\n",
       "      <th>from_station_name</th>\n",
       "      <th>to_station_name</th>\n",
       "      <th>usertype</th>\n",
       "      <th>gender</th>\n",
       "      <th>start_month</th>\n",
       "      <th>Age_range</th>\n",
       "    </tr>\n",
       "  </thead>\n",
       "  <tbody>\n",
       "    <tr>\n",
       "      <th>0</th>\n",
       "      <td>1481.0</td>\n",
       "      <td>Lake Shore Dr &amp; Ohio St</td>\n",
       "      <td>Lake Shore Dr &amp; Ohio St</td>\n",
       "      <td>Customer</td>\n",
       "      <td>Male</td>\n",
       "      <td>1</td>\n",
       "      <td>30-50</td>\n",
       "    </tr>\n",
       "    <tr>\n",
       "      <th>1</th>\n",
       "      <td>1361.0</td>\n",
       "      <td>Lake Shore Dr &amp; Ohio St</td>\n",
       "      <td>Lake Shore Dr &amp; Ohio St</td>\n",
       "      <td>Customer</td>\n",
       "      <td>Male</td>\n",
       "      <td>1</td>\n",
       "      <td>30-50</td>\n",
       "    </tr>\n",
       "    <tr>\n",
       "      <th>2</th>\n",
       "      <td>3133.0</td>\n",
       "      <td>Mies van der Rohe Way &amp; Chicago Ave</td>\n",
       "      <td>Shedd Aquarium</td>\n",
       "      <td>Customer</td>\n",
       "      <td>Male</td>\n",
       "      <td>1</td>\n",
       "      <td>30-50</td>\n",
       "    </tr>\n",
       "    <tr>\n",
       "      <th>3</th>\n",
       "      <td>3158.0</td>\n",
       "      <td>Mies van der Rohe Way &amp; Chicago Ave</td>\n",
       "      <td>Shedd Aquarium</td>\n",
       "      <td>Customer</td>\n",
       "      <td>Male</td>\n",
       "      <td>1</td>\n",
       "      <td>30-50</td>\n",
       "    </tr>\n",
       "    <tr>\n",
       "      <th>4</th>\n",
       "      <td>2958.0</td>\n",
       "      <td>Mies van der Rohe Way &amp; Chicago Ave</td>\n",
       "      <td>Shedd Aquarium</td>\n",
       "      <td>Customer</td>\n",
       "      <td>Male</td>\n",
       "      <td>1</td>\n",
       "      <td>30-50</td>\n",
       "    </tr>\n",
       "  </tbody>\n",
       "</table>\n",
       "</div>"
      ],
      "text/plain": [
       "   tripduration                    from_station_name          to_station_name  \\\n",
       "0        1481.0              Lake Shore Dr & Ohio St  Lake Shore Dr & Ohio St   \n",
       "1        1361.0              Lake Shore Dr & Ohio St  Lake Shore Dr & Ohio St   \n",
       "2        3133.0  Mies van der Rohe Way & Chicago Ave           Shedd Aquarium   \n",
       "3        3158.0  Mies van der Rohe Way & Chicago Ave           Shedd Aquarium   \n",
       "4        2958.0  Mies van der Rohe Way & Chicago Ave           Shedd Aquarium   \n",
       "\n",
       "   usertype gender  start_month Age_range  \n",
       "0  Customer   Male            1     30-50  \n",
       "1  Customer   Male            1     30-50  \n",
       "2  Customer   Male            1     30-50  \n",
       "3  Customer   Male            1     30-50  \n",
       "4  Customer   Male            1     30-50  "
      ]
     },
     "execution_count": 6,
     "metadata": {},
     "output_type": "execute_result"
    }
   ],
   "source": [
    "data200 = data.loc[data['usertype'] == 'Customer'].copy()\n",
    "data200.head()"
   ]
  },
  {
   "cell_type": "markdown",
   "id": "18e35ff4-9d6c-471f-82b8-8d31103be537",
   "metadata": {},
   "source": [
    "# Modelos Usertype"
   ]
  },
  {
   "cell_type": "markdown",
   "id": "a37085ea-c088-43b2-a99b-d973a8c70418",
   "metadata": {},
   "source": [
    "# Entrenamiento y normalizacion"
   ]
  },
  {
   "cell_type": "markdown",
   "id": "973d2f8e-5e24-4ec8-aa14-3b9f0cd49384",
   "metadata": {},
   "source": [
    "Hacer grupos para minimizar las variables categoricas"
   ]
  },
  {
   "cell_type": "code",
   "execution_count": 7,
   "id": "27ea1051-db51-4c1f-b8c9-6427576ca9d4",
   "metadata": {},
   "outputs": [
    {
     "data": {
      "text/plain": [
       "Index(['Streeter Dr & Grand Ave', 'Canal St & Adams St',\n",
       "       'Clinton St & Washington Blvd', 'Clinton St & Madison St',\n",
       "       'Michigan Ave & Washington St', 'Kingsbury St & Kinzie St',\n",
       "       'Daley Center Plaza', 'Lake Shore Dr & North Blvd',\n",
       "       'Canal St & Madison St', 'Millennium Park', 'Franklin St & Monroe St',\n",
       "       'Theater on the Lake', 'Michigan Ave & Oak St',\n",
       "       'Lake Shore Dr & Monroe St', 'Clark St & Elm St',\n",
       "       'LaSalle St & Jackson Blvd', 'Clinton St & Lake St',\n",
       "       'Dearborn St & Erie St', 'Larrabee St & Kingsbury St',\n",
       "       'St. Clair St & Erie St'],\n",
       "      dtype='object')"
      ]
     },
     "execution_count": 7,
     "metadata": {},
     "output_type": "execute_result"
    }
   ],
   "source": [
    "data['to_station_name'].value_counts().index[:20]"
   ]
  },
  {
   "cell_type": "code",
   "execution_count": 8,
   "id": "b4c7e252-93a9-4135-ba32-713fc3fb641a",
   "metadata": {},
   "outputs": [
    {
     "data": {
      "text/plain": [
       "Index(['Columbus Dr & Randolph St', 'Wabash Ave & Roosevelt Rd',\n",
       "       'Wells St & Concord Ln', 'Orleans St & Merchandise Mart Plaza',\n",
       "       'Wabash Ave & Grand Ave', 'Michigan Ave & Lake St',\n",
       "       'LaSalle St & Illinois St', 'Wells St & Huron St',\n",
       "       'Fairbanks Ct & Grand Ave', 'Clark St & Armitage Ave',\n",
       "       'Morgan St & Lake St', 'Dearborn St & Monroe St',\n",
       "       'Damen Ave & Pierce Ave', 'State St & Kinzie St',\n",
       "       'Wells St & Hubbard St', 'Ashland Ave & Division St',\n",
       "       'Franklin St & Jackson Blvd', 'State St & Randolph St',\n",
       "       'Kingsbury St & Erie St', 'Indiana Ave & Roosevelt Rd'],\n",
       "      dtype='object')"
      ]
     },
     "execution_count": 8,
     "metadata": {},
     "output_type": "execute_result"
    }
   ],
   "source": [
    "data['to_station_name'].value_counts().index[20:40]"
   ]
  },
  {
   "cell_type": "code",
   "execution_count": 9,
   "id": "eca902e4-ccea-4321-bef3-286e84d12081",
   "metadata": {},
   "outputs": [
    {
     "data": {
      "text/plain": [
       "Index(['Desplaines St & Kinzie St', 'Green St & Madison St',\n",
       "       'Wilton Ave & Belmont Ave', 'Clark St & Lincoln Ave',\n",
       "       'McClurg Ct & Illinois St', 'Dearborn Pkwy & Delaware Pl',\n",
       "       'Shedd Aquarium', 'Sheffield Ave & Fullerton Ave',\n",
       "       'Broadway & Barry Ave', 'Wacker Dr & Washington St',\n",
       "       'Clark St & Randolph St', 'Green St & Randolph St',\n",
       "       'Clark St & Lake St', 'Clark St & Wrightwood Ave',\n",
       "       'McClurg Ct & Erie St', 'Wilton Ave & Diversey Pkwy',\n",
       "       'Bissell St & Armitage Ave', 'Clark St & Drummond Pl',\n",
       "       'Ravenswood Ave & Lawrence Ave', 'Franklin St & Lake St'],\n",
       "      dtype='object')"
      ]
     },
     "execution_count": 9,
     "metadata": {},
     "output_type": "execute_result"
    }
   ],
   "source": [
    "data['to_station_name'].value_counts().index[40:60]"
   ]
  },
  {
   "cell_type": "code",
   "execution_count": 10,
   "id": "35c5e8b5",
   "metadata": {},
   "outputs": [
    {
     "data": {
      "text/plain": [
       "Index(['Marshfield Ave & Cortland St', 'Morgan St & Polk St',\n",
       "       'Wells St & Elm St', 'Milwaukee Ave & Grand Ave',\n",
       "       'Desplaines St & Jackson Blvd', 'Sheffield Ave & Waveland Ave',\n",
       "       'Wells St & Evergreen Ave', 'Michigan Ave & Jackson Blvd',\n",
       "       'Southport Ave & Roscoe St', 'Lakeview Ave & Fullerton Pkwy',\n",
       "       'Peoria St & Jackson Blvd', 'Sedgwick St & Huron St',\n",
       "       'Rush St & Hubbard St', 'Sheffield Ave & Wellington Ave',\n",
       "       'Rush St & Superior St', 'Sedgwick St & North Ave',\n",
       "       'Mies van der Rohe Way & Chestnut St', 'Aberdeen St & Jackson Blvd',\n",
       "       'Loomis St & Lexington St', 'Federal St & Polk St'],\n",
       "      dtype='object')"
      ]
     },
     "execution_count": 10,
     "metadata": {},
     "output_type": "execute_result"
    }
   ],
   "source": [
    "data['to_station_name'].value_counts().index[60:80]"
   ]
  },
  {
   "cell_type": "code",
   "execution_count": 11,
   "id": "93c7cee8",
   "metadata": {},
   "outputs": [
    {
     "data": {
      "text/plain": [
       "Index(['Marshfield Ave & Cortland St', 'Morgan St & Polk St',\n",
       "       'Wells St & Elm St', 'Milwaukee Ave & Grand Ave',\n",
       "       'Desplaines St & Jackson Blvd', 'Sheffield Ave & Waveland Ave',\n",
       "       'Wells St & Evergreen Ave', 'Michigan Ave & Jackson Blvd',\n",
       "       'Southport Ave & Roscoe St', 'Lakeview Ave & Fullerton Pkwy',\n",
       "       'Peoria St & Jackson Blvd', 'Sedgwick St & Huron St',\n",
       "       'Rush St & Hubbard St', 'Sheffield Ave & Wellington Ave',\n",
       "       'Rush St & Superior St', 'Sedgwick St & North Ave',\n",
       "       'Mies van der Rohe Way & Chestnut St', 'Aberdeen St & Jackson Blvd',\n",
       "       'Loomis St & Lexington St', 'Federal St & Polk St'],\n",
       "      dtype='object')"
      ]
     },
     "execution_count": 11,
     "metadata": {},
     "output_type": "execute_result"
    }
   ],
   "source": [
    "data['to_station_name'].value_counts().index[60:80]"
   ]
  },
  {
   "cell_type": "code",
   "execution_count": 12,
   "id": "ae28b887-2f9c-46e4-9a5c-1509cc2edcf8",
   "metadata": {},
   "outputs": [
    {
     "data": {
      "text/plain": [
       "Index(['LaSalle St & Washington St', 'Clark St & Wellington Ave',\n",
       "       'Broadway & Belmont Ave', 'Wabash Ave & Wacker Pl',\n",
       "       'Southport Ave & Waveland Ave', 'Halsted St & Roscoe St',\n",
       "       'Lake Shore Dr & Wellington Ave', 'Wood St & Milwaukee Ave',\n",
       "       'Dusable Harbor', 'Michigan Ave & Madison St',\n",
       "       'Franklin St & Chicago Ave', 'Michigan Ave & 8th St',\n",
       "       'Pine Grove Ave & Waveland Ave', 'Damen Ave & Chicago Ave',\n",
       "       'Lake Shore Dr & Diversey Pkwy', 'Aberdeen St & Monroe St',\n",
       "       'Southport Ave & Wellington Ave', 'Halsted St & Dickens Ave',\n",
       "       'State St & Van Buren St', 'State St & Pearson St'],\n",
       "      dtype='object')"
      ]
     },
     "execution_count": 12,
     "metadata": {},
     "output_type": "execute_result"
    }
   ],
   "source": [
    "data['to_station_name'].value_counts().index[100:120]"
   ]
  },
  {
   "cell_type": "code",
   "execution_count": 13,
   "id": "b07b746d-cc97-4e8f-b29b-4ddddc9587fa",
   "metadata": {},
   "outputs": [
    {
     "data": {
      "text/plain": [
       "Index(['Dayton St & North Ave', 'Halsted St & Clybourn Ave (*)',\n",
       "       'Stetson Ave & South Water St', 'Broadway & Waveland Ave',\n",
       "       'Wabash Ave & 16th St', 'Stockton Dr & Wrightwood Ave',\n",
       "       'Montrose Harbor', 'Michigan Ave & 18th St',\n",
       "       'Kedzie Ave & Milwaukee Ave', 'Field Blvd & South Water St',\n",
       "       'Clark St & Chicago Ave', 'Michigan Ave & Pearson St',\n",
       "       'Lincoln Ave & Roscoe St', 'Larrabee St & Oak St',\n",
       "       'Sheffield Ave & Willow St', 'Milwaukee Ave & Wabansia Ave',\n",
       "       'Michigan Ave & 14th St', 'Larrabee St & Division St', 'Burnham Harbor',\n",
       "       'Ogden Ave & Chicago Ave'],\n",
       "      dtype='object')"
      ]
     },
     "execution_count": 13,
     "metadata": {},
     "output_type": "execute_result"
    }
   ],
   "source": [
    "data['to_station_name'].value_counts().index[120:140]"
   ]
  },
  {
   "cell_type": "code",
   "execution_count": 14,
   "id": "3f343bcb-9463-4307-b5bc-12a0a2b46add",
   "metadata": {},
   "outputs": [],
   "source": [
    "grupo_1=['Streeter Dr & Grand Ave', 'Canal St & Adams St',\n",
    "       'Clinton St & Washington Blvd', 'Clinton St & Madison St',\n",
    "       'Michigan Ave & Washington St', 'Kingsbury St & Kinzie St',\n",
    "       'Daley Center Plaza', 'Lake Shore Dr & North Blvd',\n",
    "       'Canal St & Madison St', 'Millennium Park', 'Franklin St & Monroe St',\n",
    "       'Theater on the Lake', 'Michigan Ave & Oak St',\n",
    "       'Lake Shore Dr & Monroe St', 'Clark St & Elm St',\n",
    "       'LaSalle St & Jackson Blvd', 'Clinton St & Lake St',\n",
    "       'Dearborn St & Erie St', 'Larrabee St & Kingsbury St',\n",
    "       'St. Clair St & Erie St']\n",
    "grupo_2=['Columbus Dr & Randolph St', 'Wabash Ave & Roosevelt Rd',\n",
    "       'Wells St & Concord Ln', 'Orleans St & Merchandise Mart Plaza',\n",
    "       'Wabash Ave & Grand Ave', 'Michigan Ave & Lake St',\n",
    "       'LaSalle St & Illinois St', 'Wells St & Huron St',\n",
    "       'Fairbanks Ct & Grand Ave', 'Clark St & Armitage Ave',\n",
    "       'Morgan St & Lake St', 'Dearborn St & Monroe St',\n",
    "       'Damen Ave & Pierce Ave', 'State St & Kinzie St',\n",
    "       'Wells St & Hubbard St', 'Ashland Ave & Division St',\n",
    "       'Franklin St & Jackson Blvd', 'State St & Randolph St',\n",
    "       'Kingsbury St & Erie St', 'Indiana Ave & Roosevelt Rd']\n",
    "grupo_3=['Desplaines St & Kinzie St', 'Green St & Madison St',\n",
    "       'Wilton Ave & Belmont Ave', 'Clark St & Lincoln Ave',\n",
    "       'McClurg Ct & Illinois St', 'Dearborn Pkwy & Delaware Pl',\n",
    "       'Shedd Aquarium', 'Sheffield Ave & Fullerton Ave',\n",
    "       'Broadway & Barry Ave', 'Wacker Dr & Washington St',\n",
    "       'Clark St & Randolph St', 'Green St & Randolph St',\n",
    "       'Clark St & Lake St', 'Clark St & Wrightwood Ave',\n",
    "       'McClurg Ct & Erie St', 'Wilton Ave & Diversey Pkwy',\n",
    "       'Bissell St & Armitage Ave', 'Clark St & Drummond Pl',\n",
    "       'Ravenswood Ave & Lawrence Ave', 'Franklin St & Lake St']\n",
    "grupo_4=['Marshfield Ave & Cortland St', 'Morgan St & Polk St',\n",
    "       'Wells St & Elm St', 'Milwaukee Ave & Grand Ave',\n",
    "       'Desplaines St & Jackson Blvd', 'Sheffield Ave & Waveland Ave',\n",
    "       'Wells St & Evergreen Ave', 'Michigan Ave & Jackson Blvd',\n",
    "       'Southport Ave & Roscoe St', 'Lakeview Ave & Fullerton Pkwy',\n",
    "       'Peoria St & Jackson Blvd', 'Sedgwick St & Huron St',\n",
    "       'Rush St & Hubbard St', 'Sheffield Ave & Wellington Ave',\n",
    "       'Rush St & Superior St', 'Sedgwick St & North Ave',\n",
    "       'Mies van der Rohe Way & Chestnut St', 'Aberdeen St & Jackson Blvd',\n",
    "       'Loomis St & Lexington St', 'Federal St & Polk St']\n",
    "grupo_5=['Mies van der Rohe Way & Chicago Ave', 'Rush St & Cedar St',\n",
    "       'Adler Planetarium', 'University Ave & 57th St',\n",
    "       'Sheridan Rd & Irving Park Rd', 'Sheffield Ave & Webster Ave',\n",
    "       'Wabash Ave & 9th St', 'Larrabee St & Webster Ave',\n",
    "       'Cityfront Plaza Dr & Pioneer Ct', 'Lake Shore Dr & Ohio St',\n",
    "       'Lincoln Ave & Fullerton Ave', 'Lake Shore Dr & Belmont Ave',\n",
    "       'Sheffield Ave & Kingsbury St', 'Canal St & Jackson Blvd',\n",
    "       'Wabash Ave & Adams St', 'Dearborn St & Adams St',\n",
    "       'Sedgwick St & Webster Ave', 'Clark St & Schiller St',\n",
    "       'Broadway & Cornelia Ave', 'Desplaines St & Randolph St']\n",
    "grupo_6=['LaSalle St & Washington St', 'Clark St & Wellington Ave',\n",
    "       'Broadway & Belmont Ave', 'Wabash Ave & Wacker Pl',\n",
    "       'Southport Ave & Waveland Ave', 'Halsted St & Roscoe St',\n",
    "       'Lake Shore Dr & Wellington Ave', 'Wood St & Milwaukee Ave',\n",
    "       'Dusable Harbor', 'Michigan Ave & Madison St',\n",
    "       'Franklin St & Chicago Ave', 'Michigan Ave & 8th St',\n",
    "       'Pine Grove Ave & Waveland Ave', 'Damen Ave & Chicago Ave',\n",
    "       'Lake Shore Dr & Diversey Pkwy', 'Aberdeen St & Monroe St',\n",
    "       'Southport Ave & Wellington Ave', 'Halsted St & Dickens Ave',\n",
    "       'State St & Van Buren St', 'State St & Pearson St']\n",
    "grupo_7=['Dayton St & North Ave', 'Halsted St & Clybourn Ave (*)',\n",
    "       'Stetson Ave & South Water St', 'Broadway & Waveland Ave',\n",
    "       'Wabash Ave & 16th St', 'Stockton Dr & Wrightwood Ave',\n",
    "       'Montrose Harbor', 'Michigan Ave & 18th St',\n",
    "       'Kedzie Ave & Milwaukee Ave', 'Field Blvd & South Water St',\n",
    "       'Clark St & Chicago Ave', 'Michigan Ave & Pearson St',\n",
    "       'Lincoln Ave & Roscoe St', 'Larrabee St & Oak St',\n",
    "       'Sheffield Ave & Willow St', 'Milwaukee Ave & Wabansia Ave',\n",
    "       'Michigan Ave & 14th St', 'Larrabee St & Division St', 'Burnham Harbor',\n",
    "       'Ogden Ave & Chicago Ave']"
   ]
  },
  {
   "cell_type": "code",
   "execution_count": 15,
   "id": "8a20d3cf-474b-4320-989c-32421b6b47a8",
   "metadata": {},
   "outputs": [],
   "source": [
    "# Crear la nueva columna utilizando np.where()\n",
    "data['to_station'] = np.where(data['to_station_name'].isin(grupo_1), 'grupo_1',\n",
    "                         np.where(data['to_station_name'].isin(grupo_2), 'grupo_2',\n",
    "                                  np.where(data['to_station_name'].isin(grupo_3), 'grupo_3',\n",
    "                                           np.where(data['to_station_name'].isin(grupo_4), 'grupo_4',\n",
    "                                                    np.where(data['to_station_name'].isin(grupo_5), 'grupo_5',\n",
    "                                                             np.where(data['to_station_name'].isin(grupo_6), 'grupo_6',\n",
    "                                                                      np.where(data['to_station_name'].isin(grupo_7), 'grupo_7', 'otro')\n",
    "                                                                     )\n",
    "                                                            )\n",
    "                                                   )\n",
    "                                          )\n",
    "                                 )\n",
    "                        )\n"
   ]
  },
  {
   "cell_type": "code",
   "execution_count": 16,
   "id": "51a032f7-dd8c-4180-9be9-3fc5ae1c4b9e",
   "metadata": {},
   "outputs": [
    {
     "data": {
      "text/plain": [
       "Index(['Canal St & Adams St', 'Streeter Dr & Grand Ave',\n",
       "       'Clinton St & Madison St', 'Clinton St & Washington Blvd',\n",
       "       'Michigan Ave & Washington St', 'Columbus Dr & Randolph St',\n",
       "       'Lake Shore Dr & Monroe St', 'Kingsbury St & Kinzie St',\n",
       "       'Franklin St & Monroe St', 'Daley Center Plaza',\n",
       "       'Canal St & Madison St', 'Lake Shore Dr & North Blvd',\n",
       "       'Millennium Park', 'Orleans St & Merchandise Mart Plaza',\n",
       "       'Theater on the Lake', 'LaSalle St & Jackson Blvd',\n",
       "       'Michigan Ave & Oak St', 'Clark St & Elm St', 'Clinton St & Lake St',\n",
       "       'Dearborn St & Erie St'],\n",
       "      dtype='object')"
      ]
     },
     "execution_count": 16,
     "metadata": {},
     "output_type": "execute_result"
    }
   ],
   "source": [
    "data['from_station_name'].value_counts().index[:20]"
   ]
  },
  {
   "cell_type": "code",
   "execution_count": 17,
   "id": "52c96bcf-3331-4f63-a19f-00db8a08e48b",
   "metadata": {},
   "outputs": [
    {
     "data": {
      "text/plain": [
       "Index(['Larrabee St & Kingsbury St', 'Wells St & Huron St',\n",
       "       'Wells St & Concord Ln', 'Michigan Ave & Lake St',\n",
       "       'Wabash Ave & Grand Ave', 'Desplaines St & Kinzie St', 'Shedd Aquarium',\n",
       "       'Dearborn St & Monroe St', 'Kingsbury St & Erie St',\n",
       "       'Wabash Ave & Roosevelt Rd', 'Fairbanks Ct & Grand Ave',\n",
       "       'St. Clair St & Erie St', 'Franklin St & Jackson Blvd',\n",
       "       'State St & Randolph St', 'Clark St & Armitage Ave',\n",
       "       'Wells St & Hubbard St', 'LaSalle St & Illinois St',\n",
       "       'Indiana Ave & Roosevelt Rd', 'Damen Ave & Pierce Ave',\n",
       "       'Ashland Ave & Division St'],\n",
       "      dtype='object')"
      ]
     },
     "execution_count": 17,
     "metadata": {},
     "output_type": "execute_result"
    }
   ],
   "source": [
    "data['from_station_name'].value_counts().index[20:40]"
   ]
  },
  {
   "cell_type": "code",
   "execution_count": 18,
   "id": "1a890694-ba9b-4810-8ef2-191edb598e21",
   "metadata": {},
   "outputs": [
    {
     "data": {
      "text/plain": [
       "Index(['State St & Kinzie St', 'Wilton Ave & Belmont Ave',\n",
       "       'McClurg Ct & Illinois St', 'Wacker Dr & Washington St',\n",
       "       'Clark St & Lincoln Ave', 'Sheffield Ave & Fullerton Ave',\n",
       "       'Morgan St & Lake St', 'Green St & Madison St',\n",
       "       'Dearborn Pkwy & Delaware Pl', 'Clark St & Lake St',\n",
       "       'Franklin St & Lake St', 'Broadway & Barry Ave',\n",
       "       'Clark St & Randolph St', 'McClurg Ct & Erie St',\n",
       "       'Clark St & Wrightwood Ave', 'Marshfield Ave & Cortland St',\n",
       "       'Ravenswood Ave & Lawrence Ave', 'Milwaukee Ave & Grand Ave',\n",
       "       'Wilton Ave & Diversey Pkwy', 'Morgan St & Polk St'],\n",
       "      dtype='object')"
      ]
     },
     "execution_count": 18,
     "metadata": {},
     "output_type": "execute_result"
    }
   ],
   "source": [
    "data['from_station_name'].value_counts().index[40:60]"
   ]
  },
  {
   "cell_type": "code",
   "execution_count": 19,
   "id": "7f62f641-862e-42ac-9d71-428280c3a267",
   "metadata": {},
   "outputs": [
    {
     "data": {
      "text/plain": [
       "Index(['Wells St & Elm St', 'Desplaines St & Jackson Blvd',\n",
       "       'Green St & Randolph St', 'Peoria St & Jackson Blvd',\n",
       "       'Bissell St & Armitage Ave', 'Wells St & Evergreen Ave',\n",
       "       'Sedgwick St & Huron St', 'Michigan Ave & Jackson Blvd',\n",
       "       'Cityfront Plaza Dr & Pioneer Ct', 'Sedgwick St & North Ave',\n",
       "       'Mies van der Rohe Way & Chestnut St', 'Adler Planetarium',\n",
       "       'Dusable Harbor', 'Lakeview Ave & Fullerton Pkwy',\n",
       "       'Loomis St & Lexington St', 'Stetson Ave & South Water St',\n",
       "       'Rush St & Superior St', 'Clark St & Schiller St',\n",
       "       'Aberdeen St & Jackson Blvd', 'Clark St & Drummond Pl'],\n",
       "      dtype='object')"
      ]
     },
     "execution_count": 19,
     "metadata": {},
     "output_type": "execute_result"
    }
   ],
   "source": [
    "data['from_station_name'].value_counts().index[60:80]"
   ]
  },
  {
   "cell_type": "code",
   "execution_count": 20,
   "id": "895f0de0-71b4-4c15-8fde-a5f36a130c32",
   "metadata": {},
   "outputs": [
    {
     "data": {
      "text/plain": [
       "Index(['Wabash Ave & 9th St', 'Federal St & Polk St',\n",
       "       'LaSalle St & Washington St', 'Sheffield Ave & Wellington Ave',\n",
       "       'Southport Ave & Roscoe St', 'Mies van der Rohe Way & Chicago Ave',\n",
       "       'Sheridan Rd & Irving Park Rd', 'University Ave & 57th St',\n",
       "       'Dearborn St & Adams St', 'Rush St & Cedar St',\n",
       "       'Lake Shore Dr & Ohio St', 'Larrabee St & Webster Ave',\n",
       "       'Franklin St & Chicago Ave', 'Sheffield Ave & Webster Ave',\n",
       "       'Desplaines St & Randolph St', 'Sheffield Ave & Waveland Ave',\n",
       "       'Sedgwick St & Webster Ave', 'Michigan Ave & 8th St',\n",
       "       'Canal St & Jackson Blvd', 'State St & Pearson St'],\n",
       "      dtype='object')"
      ]
     },
     "execution_count": 20,
     "metadata": {},
     "output_type": "execute_result"
    }
   ],
   "source": [
    "data['from_station_name'].value_counts().index[80:100]"
   ]
  },
  {
   "cell_type": "code",
   "execution_count": 21,
   "id": "12cd25cc-d7bd-4692-ad07-a18cffa65b3a",
   "metadata": {},
   "outputs": [
    {
     "data": {
      "text/plain": [
       "Index(['Rush St & Hubbard St', 'Lake Shore Dr & Belmont Ave',\n",
       "       'Lincoln Ave & Fullerton Ave', 'Wabash Ave & Adams St',\n",
       "       'Wabash Ave & Wacker Pl', 'State St & Van Buren St',\n",
       "       'Clark St & Wellington Ave', 'Broadway & Cornelia Ave',\n",
       "       'Sheffield Ave & Kingsbury St', 'Halsted St & Roscoe St',\n",
       "       'Southport Ave & Wellington Ave', 'Michigan Ave & Madison St',\n",
       "       'Southport Ave & Waveland Ave', 'Pine Grove Ave & Waveland Ave',\n",
       "       'Clark St & Chicago Ave', 'Montrose Harbor',\n",
       "       'Lake Shore Dr & Wellington Ave', 'Canal St & Monroe St (*)',\n",
       "       'Dayton St & North Ave', 'Broadway & Belmont Ave'],\n",
       "      dtype='object')"
      ]
     },
     "execution_count": 21,
     "metadata": {},
     "output_type": "execute_result"
    }
   ],
   "source": [
    "data['from_station_name'].value_counts().index[100:120]"
   ]
  },
  {
   "cell_type": "code",
   "execution_count": 22,
   "id": "023fd768-34ac-498b-af08-97367a626652",
   "metadata": {},
   "outputs": [
    {
     "data": {
      "text/plain": [
       "Index(['Wood St & Milwaukee Ave', 'Aberdeen St & Monroe St',\n",
       "       'Larrabee St & Division St', 'Lake Shore Dr & Diversey Pkwy',\n",
       "       'Halsted St & Clybourn Ave (*)', 'Halsted St & Dickens Ave',\n",
       "       'Field Blvd & South Water St', 'Broadway & Waveland Ave',\n",
       "       'Ogden Ave & Chicago Ave', 'Damen Ave & Chicago Ave',\n",
       "       'Stockton Dr & Wrightwood Ave', 'Larrabee St & Oak St',\n",
       "       'Halsted St & Wrightwood Ave', 'Michigan Ave & Pearson St',\n",
       "       'Franklin St & Quincy St', 'Burnham Harbor',\n",
       "       'California Ave & Milwaukee Ave', 'Wolcott Ave & Polk St',\n",
       "       'Milwaukee Ave & Wabansia Ave', 'Sheffield Ave & Willow St'],\n",
       "      dtype='object')"
      ]
     },
     "execution_count": 22,
     "metadata": {},
     "output_type": "execute_result"
    }
   ],
   "source": [
    "data['from_station_name'].value_counts().index[120:140]"
   ]
  },
  {
   "cell_type": "code",
   "execution_count": 23,
   "id": "d9d96aea-a613-409e-aaa1-10dd8789115a",
   "metadata": {},
   "outputs": [],
   "source": [
    "grupo_1=['Canal St & Adams St', 'Streeter Dr & Grand Ave',\n",
    "       'Clinton St & Madison St', 'Clinton St & Washington Blvd',\n",
    "       'Michigan Ave & Washington St', 'Columbus Dr & Randolph St',\n",
    "       'Lake Shore Dr & Monroe St', 'Kingsbury St & Kinzie St',\n",
    "       'Franklin St & Monroe St', 'Daley Center Plaza',\n",
    "       'Canal St & Madison St', 'Lake Shore Dr & North Blvd',\n",
    "       'Millennium Park', 'Orleans St & Merchandise Mart Plaza',\n",
    "       'Theater on the Lake', 'LaSalle St & Jackson Blvd',\n",
    "       'Michigan Ave & Oak St', 'Clark St & Elm St', 'Clinton St & Lake St',\n",
    "       'Dearborn St & Erie St']\n",
    "grupo_2=['Larrabee St & Kingsbury St', 'Wells St & Huron St',\n",
    "       'Wells St & Concord Ln', 'Michigan Ave & Lake St',\n",
    "       'Wabash Ave & Grand Ave', 'Desplaines St & Kinzie St', 'Shedd Aquarium',\n",
    "       'Dearborn St & Monroe St', 'Kingsbury St & Erie St',\n",
    "       'Wabash Ave & Roosevelt Rd', 'Fairbanks Ct & Grand Ave',\n",
    "       'St. Clair St & Erie St', 'Franklin St & Jackson Blvd',\n",
    "       'State St & Randolph St', 'Clark St & Armitage Ave',\n",
    "       'Wells St & Hubbard St', 'LaSalle St & Illinois St',\n",
    "       'Indiana Ave & Roosevelt Rd', 'Damen Ave & Pierce Ave',\n",
    "       'Ashland Ave & Division St']\n",
    "grupo_3=['State St & Kinzie St', 'Wilton Ave & Belmont Ave',\n",
    "       'McClurg Ct & Illinois St', 'Wacker Dr & Washington St',\n",
    "       'Clark St & Lincoln Ave', 'Sheffield Ave & Fullerton Ave',\n",
    "       'Morgan St & Lake St', 'Green St & Madison St',\n",
    "       'Dearborn Pkwy & Delaware Pl', 'Clark St & Lake St',\n",
    "       'Franklin St & Lake St', 'Broadway & Barry Ave',\n",
    "       'Clark St & Randolph St', 'McClurg Ct & Erie St',\n",
    "       'Clark St & Wrightwood Ave', 'Marshfield Ave & Cortland St',\n",
    "       'Ravenswood Ave & Lawrence Ave', 'Milwaukee Ave & Grand Ave',\n",
    "       'Wilton Ave & Diversey Pkwy', 'Morgan St & Polk St']\n",
    "grupo_4=['Wells St & Elm St', 'Desplaines St & Jackson Blvd',\n",
    "       'Green St & Randolph St', 'Peoria St & Jackson Blvd',\n",
    "       'Bissell St & Armitage Ave', 'Wells St & Evergreen Ave',\n",
    "       'Sedgwick St & Huron St', 'Michigan Ave & Jackson Blvd',\n",
    "       'Cityfront Plaza Dr & Pioneer Ct', 'Sedgwick St & North Ave',\n",
    "       'Mies van der Rohe Way & Chestnut St', 'Adler Planetarium',\n",
    "       'Dusable Harbor', 'Lakeview Ave & Fullerton Pkwy',\n",
    "       'Loomis St & Lexington St', 'Stetson Ave & South Water St',\n",
    "       'Rush St & Superior St', 'Clark St & Schiller St',\n",
    "       'Aberdeen St & Jackson Blvd', 'Clark St & Drummond Pl']\n",
    "grupo_5=['Wabash Ave & 9th St', 'Federal St & Polk St',\n",
    "       'LaSalle St & Washington St', 'Sheffield Ave & Wellington Ave',\n",
    "       'Southport Ave & Roscoe St', 'Mies van der Rohe Way & Chicago Ave',\n",
    "       'Sheridan Rd & Irving Park Rd', 'University Ave & 57th St',\n",
    "       'Dearborn St & Adams St', 'Rush St & Cedar St',\n",
    "       'Lake Shore Dr & Ohio St', 'Larrabee St & Webster Ave',\n",
    "       'Franklin St & Chicago Ave', 'Sheffield Ave & Webster Ave',\n",
    "       'Desplaines St & Randolph St', 'Sheffield Ave & Waveland Ave',\n",
    "       'Sedgwick St & Webster Ave', 'Michigan Ave & 8th St',\n",
    "       'Canal St & Jackson Blvd', 'State St & Pearson St']\n",
    "grupo_6=['Rush St & Hubbard St', 'Lake Shore Dr & Belmont Ave',\n",
    "       'Lincoln Ave & Fullerton Ave', 'Wabash Ave & Adams St',\n",
    "       'Wabash Ave & Wacker Pl', 'State St & Van Buren St',\n",
    "       'Clark St & Wellington Ave', 'Broadway & Cornelia Ave',\n",
    "       'Sheffield Ave & Kingsbury St', 'Halsted St & Roscoe St',\n",
    "       'Southport Ave & Wellington Ave', 'Michigan Ave & Madison St',\n",
    "       'Southport Ave & Waveland Ave', 'Pine Grove Ave & Waveland Ave',\n",
    "       'Clark St & Chicago Ave', 'Montrose Harbor',\n",
    "       'Lake Shore Dr & Wellington Ave', 'Canal St & Monroe St (*)',\n",
    "       'Dayton St & North Ave', 'Broadway & Belmont Ave']\n",
    "grupo_7=['Wood St & Milwaukee Ave', 'Aberdeen St & Monroe St',\n",
    "       'Larrabee St & Division St', 'Lake Shore Dr & Diversey Pkwy',\n",
    "       'Halsted St & Clybourn Ave (*)', 'Halsted St & Dickens Ave',\n",
    "       'Field Blvd & South Water St', 'Broadway & Waveland Ave',\n",
    "       'Ogden Ave & Chicago Ave', 'Damen Ave & Chicago Ave',\n",
    "       'Stockton Dr & Wrightwood Ave', 'Larrabee St & Oak St',\n",
    "       'Halsted St & Wrightwood Ave', 'Michigan Ave & Pearson St',\n",
    "       'Franklin St & Quincy St', 'Burnham Harbor',\n",
    "       'California Ave & Milwaukee Ave', 'Wolcott Ave & Polk St',\n",
    "       'Milwaukee Ave & Wabansia Ave', 'Sheffield Ave & Willow St']"
   ]
  },
  {
   "cell_type": "code",
   "execution_count": 24,
   "id": "c71bf7b8-f39d-4346-ab83-e6ba7a64de00",
   "metadata": {},
   "outputs": [],
   "source": [
    "# Crear la nueva columna utilizando np.where()\n",
    "data['from_station'] = np.where(data['from_station_name'].isin(grupo_1), 'grupo_1',\n",
    "                         np.where(data['from_station_name'].isin(grupo_2), 'grupo_2',\n",
    "                                  np.where(data['from_station_name'].isin(grupo_3), 'grupo_3',\n",
    "                                           np.where(data['from_station_name'].isin(grupo_4), 'grupo_4',\n",
    "                                                    np.where(data['from_station_name'].isin(grupo_5), 'grupo_5',\n",
    "                                                             np.where(data['from_station_name'].isin(grupo_6), 'grupo_6',\n",
    "                                                                      np.where(data['from_station_name'].isin(grupo_7), 'grupo_7', 'otro')\n",
    "                                                                     )\n",
    "                                                            )\n",
    "                                                   )\n",
    "                                          )\n",
    "                                 )\n",
    "                        )\n"
   ]
  },
  {
   "cell_type": "code",
   "execution_count": 25,
   "id": "3e30dc25-20de-48d0-af39-ca63d54ee94e",
   "metadata": {},
   "outputs": [
    {
     "data": {
      "text/html": [
       "<div>\n",
       "<style scoped>\n",
       "    .dataframe tbody tr th:only-of-type {\n",
       "        vertical-align: middle;\n",
       "    }\n",
       "\n",
       "    .dataframe tbody tr th {\n",
       "        vertical-align: top;\n",
       "    }\n",
       "\n",
       "    .dataframe thead th {\n",
       "        text-align: right;\n",
       "    }\n",
       "</style>\n",
       "<table border=\"1\" class=\"dataframe\">\n",
       "  <thead>\n",
       "    <tr style=\"text-align: right;\">\n",
       "      <th></th>\n",
       "      <th>tripduration</th>\n",
       "      <th>from_station_name</th>\n",
       "      <th>to_station_name</th>\n",
       "      <th>usertype</th>\n",
       "      <th>gender</th>\n",
       "      <th>start_month</th>\n",
       "      <th>Age_range</th>\n",
       "      <th>to_station</th>\n",
       "      <th>from_station</th>\n",
       "    </tr>\n",
       "  </thead>\n",
       "  <tbody>\n",
       "    <tr>\n",
       "      <th>0</th>\n",
       "      <td>323.0</td>\n",
       "      <td>Damen Ave &amp; Pierce Ave</td>\n",
       "      <td>Claremont Ave &amp; Hirsch St</td>\n",
       "      <td>Subscriber</td>\n",
       "      <td>Male</td>\n",
       "      <td>1</td>\n",
       "      <td>30-50</td>\n",
       "      <td>otro</td>\n",
       "      <td>grupo_2</td>\n",
       "    </tr>\n",
       "    <tr>\n",
       "      <th>1</th>\n",
       "      <td>377.0</td>\n",
       "      <td>Winthrop Ave &amp; Lawrence Ave</td>\n",
       "      <td>Clark St &amp; Winnemac Ave (Temp)</td>\n",
       "      <td>Subscriber</td>\n",
       "      <td>Male</td>\n",
       "      <td>1</td>\n",
       "      <td>30-50</td>\n",
       "      <td>otro</td>\n",
       "      <td>otro</td>\n",
       "    </tr>\n",
       "    <tr>\n",
       "      <th>2</th>\n",
       "      <td>2904.0</td>\n",
       "      <td>LaSalle St &amp; Washington St</td>\n",
       "      <td>Troy St &amp; North Ave</td>\n",
       "      <td>Subscriber</td>\n",
       "      <td>Male</td>\n",
       "      <td>1</td>\n",
       "      <td>30-50</td>\n",
       "      <td>otro</td>\n",
       "      <td>grupo_5</td>\n",
       "    </tr>\n",
       "    <tr>\n",
       "      <th>3</th>\n",
       "      <td>747.0</td>\n",
       "      <td>Rush St &amp; Hubbard St</td>\n",
       "      <td>Larrabee St &amp; Oak St</td>\n",
       "      <td>Subscriber</td>\n",
       "      <td>Male</td>\n",
       "      <td>1</td>\n",
       "      <td>30-50</td>\n",
       "      <td>grupo_7</td>\n",
       "      <td>grupo_6</td>\n",
       "    </tr>\n",
       "    <tr>\n",
       "      <th>4</th>\n",
       "      <td>183.0</td>\n",
       "      <td>Blue Island Ave &amp; 18th St</td>\n",
       "      <td>Paulina St &amp; 18th St</td>\n",
       "      <td>Subscriber</td>\n",
       "      <td>Male</td>\n",
       "      <td>1</td>\n",
       "      <td>30-50</td>\n",
       "      <td>otro</td>\n",
       "      <td>otro</td>\n",
       "    </tr>\n",
       "  </tbody>\n",
       "</table>\n",
       "</div>"
      ],
      "text/plain": [
       "   tripduration            from_station_name                 to_station_name  \\\n",
       "0         323.0       Damen Ave & Pierce Ave       Claremont Ave & Hirsch St   \n",
       "1         377.0  Winthrop Ave & Lawrence Ave  Clark St & Winnemac Ave (Temp)   \n",
       "2        2904.0   LaSalle St & Washington St             Troy St & North Ave   \n",
       "3         747.0         Rush St & Hubbard St            Larrabee St & Oak St   \n",
       "4         183.0    Blue Island Ave & 18th St            Paulina St & 18th St   \n",
       "\n",
       "     usertype gender  start_month Age_range to_station from_station  \n",
       "0  Subscriber   Male            1     30-50       otro      grupo_2  \n",
       "1  Subscriber   Male            1     30-50       otro         otro  \n",
       "2  Subscriber   Male            1     30-50       otro      grupo_5  \n",
       "3  Subscriber   Male            1     30-50    grupo_7      grupo_6  \n",
       "4  Subscriber   Male            1     30-50       otro         otro  "
      ]
     },
     "execution_count": 25,
     "metadata": {},
     "output_type": "execute_result"
    }
   ],
   "source": [
    "data.head()"
   ]
  },
  {
   "cell_type": "code",
   "execution_count": 26,
   "id": "325e19ba-2db6-4326-b62e-f49fe0673dca",
   "metadata": {},
   "outputs": [],
   "source": [
    "# Separar las variables predictoras (X) y la variable objetivo (y)\n",
    "X = data.drop('usertype', axis=1)\n",
    "y = data['usertype']\n",
    "\n",
    "# Definir las columnas categóricas y numéricas\n",
    "categorical_features = ['from_station', 'to_station', 'gender', 'start_month', 'Age_range']\n",
    "numeric_features = ['tripduration']"
   ]
  },
  {
   "cell_type": "code",
   "execution_count": 27,
   "id": "6828e8fb-eb96-4dac-ab24-6e3fedbe6be2",
   "metadata": {},
   "outputs": [],
   "source": [
    "# Crear el preprocesador utilizando ColumnTransformer\n",
    "preprocessor = ColumnTransformer(\n",
    "    transformers=[\n",
    "        ('onehot', OneHotEncoder(), categorical_features),\n",
    "        ('scaler', StandardScaler(), numeric_features)\n",
    "    ])\n",
    "\n",
    "# Aplicar el preprocesador a los datos\n",
    "X_preprocessed = preprocessor.fit_transform(X)\n"
   ]
  },
  {
   "cell_type": "code",
   "execution_count": 28,
   "id": "2e56358b-52b7-4807-b1cc-1ca8a7e8797c",
   "metadata": {},
   "outputs": [],
   "source": [
    "# Dividir los datos en conjuntos de entrenamiento y prueba\n",
    "X_train, X_test, y_train, y_test = train_test_split(X_preprocessed, y, test_size=0.2, random_state=42)"
   ]
  },
  {
   "cell_type": "code",
   "execution_count": 29,
   "id": "b8631ae8-0549-493f-a6b8-deb3758950c1",
   "metadata": {},
   "outputs": [
    {
     "data": {
      "text/plain": [
       "70513     Subscriber\n",
       "179575    Subscriber\n",
       "680612    Subscriber\n",
       "630498    Subscriber\n",
       "381413    Subscriber\n",
       "Name: usertype, dtype: object"
      ]
     },
     "execution_count": 29,
     "metadata": {},
     "output_type": "execute_result"
    }
   ],
   "source": [
    "y_test.head()"
   ]
  },
  {
   "cell_type": "markdown",
   "id": "e08a747f-a6f1-4d32-86a3-69f185ef6480",
   "metadata": {},
   "source": [
    "Regresion Logistica"
   ]
  },
  {
   "cell_type": "code",
   "execution_count": 30,
   "id": "b2a5f5f7-4a39-436c-a6c4-0a6df644591e",
   "metadata": {},
   "outputs": [
    {
     "data": {
      "text/html": [
       "<style>#sk-container-id-1 {color: black;background-color: white;}#sk-container-id-1 pre{padding: 0;}#sk-container-id-1 div.sk-toggleable {background-color: white;}#sk-container-id-1 label.sk-toggleable__label {cursor: pointer;display: block;width: 100%;margin-bottom: 0;padding: 0.3em;box-sizing: border-box;text-align: center;}#sk-container-id-1 label.sk-toggleable__label-arrow:before {content: \"▸\";float: left;margin-right: 0.25em;color: #696969;}#sk-container-id-1 label.sk-toggleable__label-arrow:hover:before {color: black;}#sk-container-id-1 div.sk-estimator:hover label.sk-toggleable__label-arrow:before {color: black;}#sk-container-id-1 div.sk-toggleable__content {max-height: 0;max-width: 0;overflow: hidden;text-align: left;background-color: #f0f8ff;}#sk-container-id-1 div.sk-toggleable__content pre {margin: 0.2em;color: black;border-radius: 0.25em;background-color: #f0f8ff;}#sk-container-id-1 input.sk-toggleable__control:checked~div.sk-toggleable__content {max-height: 200px;max-width: 100%;overflow: auto;}#sk-container-id-1 input.sk-toggleable__control:checked~label.sk-toggleable__label-arrow:before {content: \"▾\";}#sk-container-id-1 div.sk-estimator input.sk-toggleable__control:checked~label.sk-toggleable__label {background-color: #d4ebff;}#sk-container-id-1 div.sk-label input.sk-toggleable__control:checked~label.sk-toggleable__label {background-color: #d4ebff;}#sk-container-id-1 input.sk-hidden--visually {border: 0;clip: rect(1px 1px 1px 1px);clip: rect(1px, 1px, 1px, 1px);height: 1px;margin: -1px;overflow: hidden;padding: 0;position: absolute;width: 1px;}#sk-container-id-1 div.sk-estimator {font-family: monospace;background-color: #f0f8ff;border: 1px dotted black;border-radius: 0.25em;box-sizing: border-box;margin-bottom: 0.5em;}#sk-container-id-1 div.sk-estimator:hover {background-color: #d4ebff;}#sk-container-id-1 div.sk-parallel-item::after {content: \"\";width: 100%;border-bottom: 1px solid gray;flex-grow: 1;}#sk-container-id-1 div.sk-label:hover label.sk-toggleable__label {background-color: #d4ebff;}#sk-container-id-1 div.sk-serial::before {content: \"\";position: absolute;border-left: 1px solid gray;box-sizing: border-box;top: 0;bottom: 0;left: 50%;z-index: 0;}#sk-container-id-1 div.sk-serial {display: flex;flex-direction: column;align-items: center;background-color: white;padding-right: 0.2em;padding-left: 0.2em;position: relative;}#sk-container-id-1 div.sk-item {position: relative;z-index: 1;}#sk-container-id-1 div.sk-parallel {display: flex;align-items: stretch;justify-content: center;background-color: white;position: relative;}#sk-container-id-1 div.sk-item::before, #sk-container-id-1 div.sk-parallel-item::before {content: \"\";position: absolute;border-left: 1px solid gray;box-sizing: border-box;top: 0;bottom: 0;left: 50%;z-index: -1;}#sk-container-id-1 div.sk-parallel-item {display: flex;flex-direction: column;z-index: 1;position: relative;background-color: white;}#sk-container-id-1 div.sk-parallel-item:first-child::after {align-self: flex-end;width: 50%;}#sk-container-id-1 div.sk-parallel-item:last-child::after {align-self: flex-start;width: 50%;}#sk-container-id-1 div.sk-parallel-item:only-child::after {width: 0;}#sk-container-id-1 div.sk-dashed-wrapped {border: 1px dashed gray;margin: 0 0.4em 0.5em 0.4em;box-sizing: border-box;padding-bottom: 0.4em;background-color: white;}#sk-container-id-1 div.sk-label label {font-family: monospace;font-weight: bold;display: inline-block;line-height: 1.2em;}#sk-container-id-1 div.sk-label-container {text-align: center;}#sk-container-id-1 div.sk-container {/* jupyter's `normalize.less` sets `[hidden] { display: none; }` but bootstrap.min.css set `[hidden] { display: none !important; }` so we also need the `!important` here to be able to override the default hidden behavior on the sphinx rendered scikit-learn.org. See: https://github.com/scikit-learn/scikit-learn/issues/21755 */display: inline-block !important;position: relative;}#sk-container-id-1 div.sk-text-repr-fallback {display: none;}</style><div id=\"sk-container-id-1\" class=\"sk-top-container\"><div class=\"sk-text-repr-fallback\"><pre>LogisticRegression(max_iter=2000)</pre><b>In a Jupyter environment, please rerun this cell to show the HTML representation or trust the notebook. <br />On GitHub, the HTML representation is unable to render, please try loading this page with nbviewer.org.</b></div><div class=\"sk-container\" hidden><div class=\"sk-item\"><div class=\"sk-estimator sk-toggleable\"><input class=\"sk-toggleable__control sk-hidden--visually\" id=\"sk-estimator-id-1\" type=\"checkbox\" checked><label for=\"sk-estimator-id-1\" class=\"sk-toggleable__label sk-toggleable__label-arrow\">LogisticRegression</label><div class=\"sk-toggleable__content\"><pre>LogisticRegression(max_iter=2000)</pre></div></div></div></div></div>"
      ],
      "text/plain": [
       "LogisticRegression(max_iter=2000)"
      ]
     },
     "execution_count": 30,
     "metadata": {},
     "output_type": "execute_result"
    }
   ],
   "source": [
    "# Crear y entrenar el modelo de regresión logística\n",
    "logistic_regression = LogisticRegression(max_iter=2000)\n",
    "# Entrenar el modelo de regresión logística\n",
    "logistic_regression.fit(X_train, y_train)"
   ]
  },
  {
   "cell_type": "code",
   "execution_count": 31,
   "id": "75b06afe-01fd-40ea-a420-d4472747c894",
   "metadata": {},
   "outputs": [
    {
     "name": "stdout",
     "output_type": "stream",
     "text": [
      "\n",
      "Regresión Logística:\n",
      "Accuracy: 0.8674782067527276\n",
      "Precision: 0.8559864791625668\n",
      "Recall: 0.8674782067527276\n",
      "F1-score: 0.846522347497678\n"
     ]
    }
   ],
   "source": [
    "# Realizar predicciones en el conjunto de prueba\n",
    "y_pred = logistic_regression.predict(X_test)\n",
    "\n",
    "# Calcular las métricas de evaluación\n",
    "accuracy = accuracy_score(y_test, y_pred)\n",
    "precision = precision_score(y_test, y_pred, average='weighted')\n",
    "recall = recall_score(y_test, y_pred, average='weighted')\n",
    "f1 = f1_score(y_test, y_pred, average='weighted')\n",
    "\n",
    "# Imprimir las métricas de evaluación\n",
    "print(\"\\nRegresión Logística:\")\n",
    "print(\"Accuracy:\", accuracy)\n",
    "print(\"Precision:\", precision)\n",
    "print(\"Recall:\", recall)\n",
    "print(\"F1-score:\", f1)"
   ]
  },
  {
   "cell_type": "markdown",
   "id": "f641ab08-77c5-459e-a1af-8de3fa3fb2f7",
   "metadata": {},
   "source": [
    "Arbol de decisión"
   ]
  },
  {
   "cell_type": "code",
   "execution_count": 32,
   "id": "2a1a5234-868f-45d9-9f9c-76d1cb542807",
   "metadata": {},
   "outputs": [
    {
     "data": {
      "text/html": [
       "<style>#sk-container-id-2 {color: black;background-color: white;}#sk-container-id-2 pre{padding: 0;}#sk-container-id-2 div.sk-toggleable {background-color: white;}#sk-container-id-2 label.sk-toggleable__label {cursor: pointer;display: block;width: 100%;margin-bottom: 0;padding: 0.3em;box-sizing: border-box;text-align: center;}#sk-container-id-2 label.sk-toggleable__label-arrow:before {content: \"▸\";float: left;margin-right: 0.25em;color: #696969;}#sk-container-id-2 label.sk-toggleable__label-arrow:hover:before {color: black;}#sk-container-id-2 div.sk-estimator:hover label.sk-toggleable__label-arrow:before {color: black;}#sk-container-id-2 div.sk-toggleable__content {max-height: 0;max-width: 0;overflow: hidden;text-align: left;background-color: #f0f8ff;}#sk-container-id-2 div.sk-toggleable__content pre {margin: 0.2em;color: black;border-radius: 0.25em;background-color: #f0f8ff;}#sk-container-id-2 input.sk-toggleable__control:checked~div.sk-toggleable__content {max-height: 200px;max-width: 100%;overflow: auto;}#sk-container-id-2 input.sk-toggleable__control:checked~label.sk-toggleable__label-arrow:before {content: \"▾\";}#sk-container-id-2 div.sk-estimator input.sk-toggleable__control:checked~label.sk-toggleable__label {background-color: #d4ebff;}#sk-container-id-2 div.sk-label input.sk-toggleable__control:checked~label.sk-toggleable__label {background-color: #d4ebff;}#sk-container-id-2 input.sk-hidden--visually {border: 0;clip: rect(1px 1px 1px 1px);clip: rect(1px, 1px, 1px, 1px);height: 1px;margin: -1px;overflow: hidden;padding: 0;position: absolute;width: 1px;}#sk-container-id-2 div.sk-estimator {font-family: monospace;background-color: #f0f8ff;border: 1px dotted black;border-radius: 0.25em;box-sizing: border-box;margin-bottom: 0.5em;}#sk-container-id-2 div.sk-estimator:hover {background-color: #d4ebff;}#sk-container-id-2 div.sk-parallel-item::after {content: \"\";width: 100%;border-bottom: 1px solid gray;flex-grow: 1;}#sk-container-id-2 div.sk-label:hover label.sk-toggleable__label {background-color: #d4ebff;}#sk-container-id-2 div.sk-serial::before {content: \"\";position: absolute;border-left: 1px solid gray;box-sizing: border-box;top: 0;bottom: 0;left: 50%;z-index: 0;}#sk-container-id-2 div.sk-serial {display: flex;flex-direction: column;align-items: center;background-color: white;padding-right: 0.2em;padding-left: 0.2em;position: relative;}#sk-container-id-2 div.sk-item {position: relative;z-index: 1;}#sk-container-id-2 div.sk-parallel {display: flex;align-items: stretch;justify-content: center;background-color: white;position: relative;}#sk-container-id-2 div.sk-item::before, #sk-container-id-2 div.sk-parallel-item::before {content: \"\";position: absolute;border-left: 1px solid gray;box-sizing: border-box;top: 0;bottom: 0;left: 50%;z-index: -1;}#sk-container-id-2 div.sk-parallel-item {display: flex;flex-direction: column;z-index: 1;position: relative;background-color: white;}#sk-container-id-2 div.sk-parallel-item:first-child::after {align-self: flex-end;width: 50%;}#sk-container-id-2 div.sk-parallel-item:last-child::after {align-self: flex-start;width: 50%;}#sk-container-id-2 div.sk-parallel-item:only-child::after {width: 0;}#sk-container-id-2 div.sk-dashed-wrapped {border: 1px dashed gray;margin: 0 0.4em 0.5em 0.4em;box-sizing: border-box;padding-bottom: 0.4em;background-color: white;}#sk-container-id-2 div.sk-label label {font-family: monospace;font-weight: bold;display: inline-block;line-height: 1.2em;}#sk-container-id-2 div.sk-label-container {text-align: center;}#sk-container-id-2 div.sk-container {/* jupyter's `normalize.less` sets `[hidden] { display: none; }` but bootstrap.min.css set `[hidden] { display: none !important; }` so we also need the `!important` here to be able to override the default hidden behavior on the sphinx rendered scikit-learn.org. See: https://github.com/scikit-learn/scikit-learn/issues/21755 */display: inline-block !important;position: relative;}#sk-container-id-2 div.sk-text-repr-fallback {display: none;}</style><div id=\"sk-container-id-2\" class=\"sk-top-container\"><div class=\"sk-text-repr-fallback\"><pre>DecisionTreeClassifier(max_depth=10)</pre><b>In a Jupyter environment, please rerun this cell to show the HTML representation or trust the notebook. <br />On GitHub, the HTML representation is unable to render, please try loading this page with nbviewer.org.</b></div><div class=\"sk-container\" hidden><div class=\"sk-item\"><div class=\"sk-estimator sk-toggleable\"><input class=\"sk-toggleable__control sk-hidden--visually\" id=\"sk-estimator-id-2\" type=\"checkbox\" checked><label for=\"sk-estimator-id-2\" class=\"sk-toggleable__label sk-toggleable__label-arrow\">DecisionTreeClassifier</label><div class=\"sk-toggleable__content\"><pre>DecisionTreeClassifier(max_depth=10)</pre></div></div></div></div></div>"
      ],
      "text/plain": [
       "DecisionTreeClassifier(max_depth=10)"
      ]
     },
     "execution_count": 32,
     "metadata": {},
     "output_type": "execute_result"
    }
   ],
   "source": [
    "# Construir y entrenar el modelo DecisionTreeClassifier\n",
    "decision_tree = DecisionTreeClassifier(max_depth=10)\n",
    "decision_tree.fit(X_train, y_train)"
   ]
  },
  {
   "cell_type": "code",
   "execution_count": 33,
   "id": "e7b9240b-8a6c-4193-9f16-4482a090903d",
   "metadata": {},
   "outputs": [],
   "source": [
    "# Realizar predicciones en el conjunto de prueba\n",
    "y_pred = decision_tree.predict(X_test)"
   ]
  },
  {
   "cell_type": "code",
   "execution_count": 34,
   "id": "c778e69a-5598-4c36-b965-f17fb38e042d",
   "metadata": {},
   "outputs": [
    {
     "name": "stdout",
     "output_type": "stream",
     "text": [
      "\n",
      "Decision Tree Classifier:\n",
      "Accuracy: 0.8717283948770348\n",
      "Precision: 0.862697839925924\n",
      "Recall: 0.8717283948770348\n",
      "F1-score: 0.8512346731411812\n"
     ]
    }
   ],
   "source": [
    "# Calcular las métricas de evaluación\n",
    "accuracy = accuracy_score(y_test, y_pred)\n",
    "precision = precision_score(y_test, y_pred, average='weighted')\n",
    "recall = recall_score(y_test, y_pred, average='weighted')\n",
    "f1 = f1_score(y_test, y_pred, average='weighted')\n",
    "\n",
    "# Imprimir las métricas de evaluación\n",
    "print(\"\\nDecision Tree Classifier:\")\n",
    "print(\"Accuracy:\", accuracy)\n",
    "print(\"Precision:\", precision)\n",
    "print(\"Recall:\", recall)\n",
    "print(\"F1-score:\", f1)"
   ]
  },
  {
   "cell_type": "markdown",
   "id": "655f366f-4435-425f-9898-eaba667b9d64",
   "metadata": {},
   "source": [
    "RANDOM FOREST"
   ]
  },
  {
   "cell_type": "code",
   "execution_count": 35,
   "id": "b8279783-bd10-4530-9746-b6d90769b107",
   "metadata": {},
   "outputs": [
    {
     "data": {
      "text/html": [
       "<style>#sk-container-id-3 {color: black;background-color: white;}#sk-container-id-3 pre{padding: 0;}#sk-container-id-3 div.sk-toggleable {background-color: white;}#sk-container-id-3 label.sk-toggleable__label {cursor: pointer;display: block;width: 100%;margin-bottom: 0;padding: 0.3em;box-sizing: border-box;text-align: center;}#sk-container-id-3 label.sk-toggleable__label-arrow:before {content: \"▸\";float: left;margin-right: 0.25em;color: #696969;}#sk-container-id-3 label.sk-toggleable__label-arrow:hover:before {color: black;}#sk-container-id-3 div.sk-estimator:hover label.sk-toggleable__label-arrow:before {color: black;}#sk-container-id-3 div.sk-toggleable__content {max-height: 0;max-width: 0;overflow: hidden;text-align: left;background-color: #f0f8ff;}#sk-container-id-3 div.sk-toggleable__content pre {margin: 0.2em;color: black;border-radius: 0.25em;background-color: #f0f8ff;}#sk-container-id-3 input.sk-toggleable__control:checked~div.sk-toggleable__content {max-height: 200px;max-width: 100%;overflow: auto;}#sk-container-id-3 input.sk-toggleable__control:checked~label.sk-toggleable__label-arrow:before {content: \"▾\";}#sk-container-id-3 div.sk-estimator input.sk-toggleable__control:checked~label.sk-toggleable__label {background-color: #d4ebff;}#sk-container-id-3 div.sk-label input.sk-toggleable__control:checked~label.sk-toggleable__label {background-color: #d4ebff;}#sk-container-id-3 input.sk-hidden--visually {border: 0;clip: rect(1px 1px 1px 1px);clip: rect(1px, 1px, 1px, 1px);height: 1px;margin: -1px;overflow: hidden;padding: 0;position: absolute;width: 1px;}#sk-container-id-3 div.sk-estimator {font-family: monospace;background-color: #f0f8ff;border: 1px dotted black;border-radius: 0.25em;box-sizing: border-box;margin-bottom: 0.5em;}#sk-container-id-3 div.sk-estimator:hover {background-color: #d4ebff;}#sk-container-id-3 div.sk-parallel-item::after {content: \"\";width: 100%;border-bottom: 1px solid gray;flex-grow: 1;}#sk-container-id-3 div.sk-label:hover label.sk-toggleable__label {background-color: #d4ebff;}#sk-container-id-3 div.sk-serial::before {content: \"\";position: absolute;border-left: 1px solid gray;box-sizing: border-box;top: 0;bottom: 0;left: 50%;z-index: 0;}#sk-container-id-3 div.sk-serial {display: flex;flex-direction: column;align-items: center;background-color: white;padding-right: 0.2em;padding-left: 0.2em;position: relative;}#sk-container-id-3 div.sk-item {position: relative;z-index: 1;}#sk-container-id-3 div.sk-parallel {display: flex;align-items: stretch;justify-content: center;background-color: white;position: relative;}#sk-container-id-3 div.sk-item::before, #sk-container-id-3 div.sk-parallel-item::before {content: \"\";position: absolute;border-left: 1px solid gray;box-sizing: border-box;top: 0;bottom: 0;left: 50%;z-index: -1;}#sk-container-id-3 div.sk-parallel-item {display: flex;flex-direction: column;z-index: 1;position: relative;background-color: white;}#sk-container-id-3 div.sk-parallel-item:first-child::after {align-self: flex-end;width: 50%;}#sk-container-id-3 div.sk-parallel-item:last-child::after {align-self: flex-start;width: 50%;}#sk-container-id-3 div.sk-parallel-item:only-child::after {width: 0;}#sk-container-id-3 div.sk-dashed-wrapped {border: 1px dashed gray;margin: 0 0.4em 0.5em 0.4em;box-sizing: border-box;padding-bottom: 0.4em;background-color: white;}#sk-container-id-3 div.sk-label label {font-family: monospace;font-weight: bold;display: inline-block;line-height: 1.2em;}#sk-container-id-3 div.sk-label-container {text-align: center;}#sk-container-id-3 div.sk-container {/* jupyter's `normalize.less` sets `[hidden] { display: none; }` but bootstrap.min.css set `[hidden] { display: none !important; }` so we also need the `!important` here to be able to override the default hidden behavior on the sphinx rendered scikit-learn.org. See: https://github.com/scikit-learn/scikit-learn/issues/21755 */display: inline-block !important;position: relative;}#sk-container-id-3 div.sk-text-repr-fallback {display: none;}</style><div id=\"sk-container-id-3\" class=\"sk-top-container\"><div class=\"sk-text-repr-fallback\"><pre>RandomForestClassifier(max_depth=10)</pre><b>In a Jupyter environment, please rerun this cell to show the HTML representation or trust the notebook. <br />On GitHub, the HTML representation is unable to render, please try loading this page with nbviewer.org.</b></div><div class=\"sk-container\" hidden><div class=\"sk-item\"><div class=\"sk-estimator sk-toggleable\"><input class=\"sk-toggleable__control sk-hidden--visually\" id=\"sk-estimator-id-3\" type=\"checkbox\" checked><label for=\"sk-estimator-id-3\" class=\"sk-toggleable__label sk-toggleable__label-arrow\">RandomForestClassifier</label><div class=\"sk-toggleable__content\"><pre>RandomForestClassifier(max_depth=10)</pre></div></div></div></div></div>"
      ],
      "text/plain": [
       "RandomForestClassifier(max_depth=10)"
      ]
     },
     "execution_count": 35,
     "metadata": {},
     "output_type": "execute_result"
    }
   ],
   "source": [
    "from sklearn.ensemble import RandomForestClassifier\n",
    "\n",
    "# Crear una instancia del clasificador Random Forest\n",
    "random_forest = RandomForestClassifier(max_depth=10)\n",
    "\n",
    "# Entrenar el clasificador Random Forest\n",
    "random_forest.fit(X_train, y_train)"
   ]
  },
  {
   "cell_type": "code",
   "execution_count": 36,
   "id": "2b842d75-0eb6-4dbb-af30-45267699e6d2",
   "metadata": {},
   "outputs": [],
   "source": [
    "# Realizar predicciones en el conjunto de prueba\n",
    "y_pred = random_forest.predict(X_test)"
   ]
  },
  {
   "cell_type": "code",
   "execution_count": 37,
   "id": "03eb067d-1d7c-487b-95a6-ec9c3b0bd1d5",
   "metadata": {},
   "outputs": [
    {
     "name": "stdout",
     "output_type": "stream",
     "text": [
      "\n",
      "Random Forest Classifier:\n",
      "Accuracy: 0.871659578033065\n",
      "Precision: 0.8630213833423457\n",
      "Recall: 0.871659578033065\n",
      "F1-score: 0.8506875102526914\n"
     ]
    }
   ],
   "source": [
    "accuracy = accuracy_score(y_test, y_pred)\n",
    "precision = precision_score(y_test, y_pred, average='weighted', zero_division=1)\n",
    "recall = recall_score(y_test, y_pred, average='weighted', zero_division=1)\n",
    "f1 = f1_score(y_test, y_pred, average='weighted', zero_division=1)\n",
    "\n",
    "# Imprimir las métricas de evaluación\n",
    "print(\"\\nRandom Forest Classifier:\")\n",
    "print(\"Accuracy:\", accuracy)\n",
    "print(\"Precision:\", precision)\n",
    "print(\"Recall:\", recall)\n",
    "print(\"F1-score:\", f1)\n"
   ]
  },
  {
   "cell_type": "markdown",
   "id": "41c510b6-404e-47ca-adf5-4105ceb4ccd8",
   "metadata": {
    "tags": []
   },
   "source": [
    "XGBOOST"
   ]
  },
  {
   "cell_type": "code",
   "execution_count": 38,
   "id": "30a0ad9b-008b-4338-91db-11dd999d4c7c",
   "metadata": {},
   "outputs": [],
   "source": [
    "# Convertir las etiquetas de clase a valores numéricos utilizando LabelEncoder\n",
    "label_encoder = LabelEncoder()\n",
    "y_train_encoded = label_encoder.fit_transform(y_train)\n",
    "y_test_encoded = label_encoder.transform(y_test)"
   ]
  },
  {
   "cell_type": "code",
   "execution_count": 39,
   "id": "59e3cc18-f5c7-48a9-b295-fe192ebc8fa0",
   "metadata": {},
   "outputs": [
    {
     "data": {
      "text/plain": [
       "array([1, 1, 1, ..., 0, 0, 0])"
      ]
     },
     "execution_count": 39,
     "metadata": {},
     "output_type": "execute_result"
    }
   ],
   "source": [
    "y_train_encoded"
   ]
  },
  {
   "cell_type": "code",
   "execution_count": 40,
   "id": "1a3cf386-21e7-4c00-a8e8-f810fa4e8cef",
   "metadata": {},
   "outputs": [
    {
     "data": {
      "text/plain": [
       "array([1, 1, 1, ..., 1, 1, 0])"
      ]
     },
     "execution_count": 40,
     "metadata": {},
     "output_type": "execute_result"
    }
   ],
   "source": [
    "y_test_encoded"
   ]
  },
  {
   "cell_type": "code",
   "execution_count": 41,
   "id": "68a30036-5f6b-4406-8fb2-704530a3adb7",
   "metadata": {},
   "outputs": [
    {
     "data": {
      "text/html": [
       "<style>#sk-container-id-4 {color: black;background-color: white;}#sk-container-id-4 pre{padding: 0;}#sk-container-id-4 div.sk-toggleable {background-color: white;}#sk-container-id-4 label.sk-toggleable__label {cursor: pointer;display: block;width: 100%;margin-bottom: 0;padding: 0.3em;box-sizing: border-box;text-align: center;}#sk-container-id-4 label.sk-toggleable__label-arrow:before {content: \"▸\";float: left;margin-right: 0.25em;color: #696969;}#sk-container-id-4 label.sk-toggleable__label-arrow:hover:before {color: black;}#sk-container-id-4 div.sk-estimator:hover label.sk-toggleable__label-arrow:before {color: black;}#sk-container-id-4 div.sk-toggleable__content {max-height: 0;max-width: 0;overflow: hidden;text-align: left;background-color: #f0f8ff;}#sk-container-id-4 div.sk-toggleable__content pre {margin: 0.2em;color: black;border-radius: 0.25em;background-color: #f0f8ff;}#sk-container-id-4 input.sk-toggleable__control:checked~div.sk-toggleable__content {max-height: 200px;max-width: 100%;overflow: auto;}#sk-container-id-4 input.sk-toggleable__control:checked~label.sk-toggleable__label-arrow:before {content: \"▾\";}#sk-container-id-4 div.sk-estimator input.sk-toggleable__control:checked~label.sk-toggleable__label {background-color: #d4ebff;}#sk-container-id-4 div.sk-label input.sk-toggleable__control:checked~label.sk-toggleable__label {background-color: #d4ebff;}#sk-container-id-4 input.sk-hidden--visually {border: 0;clip: rect(1px 1px 1px 1px);clip: rect(1px, 1px, 1px, 1px);height: 1px;margin: -1px;overflow: hidden;padding: 0;position: absolute;width: 1px;}#sk-container-id-4 div.sk-estimator {font-family: monospace;background-color: #f0f8ff;border: 1px dotted black;border-radius: 0.25em;box-sizing: border-box;margin-bottom: 0.5em;}#sk-container-id-4 div.sk-estimator:hover {background-color: #d4ebff;}#sk-container-id-4 div.sk-parallel-item::after {content: \"\";width: 100%;border-bottom: 1px solid gray;flex-grow: 1;}#sk-container-id-4 div.sk-label:hover label.sk-toggleable__label {background-color: #d4ebff;}#sk-container-id-4 div.sk-serial::before {content: \"\";position: absolute;border-left: 1px solid gray;box-sizing: border-box;top: 0;bottom: 0;left: 50%;z-index: 0;}#sk-container-id-4 div.sk-serial {display: flex;flex-direction: column;align-items: center;background-color: white;padding-right: 0.2em;padding-left: 0.2em;position: relative;}#sk-container-id-4 div.sk-item {position: relative;z-index: 1;}#sk-container-id-4 div.sk-parallel {display: flex;align-items: stretch;justify-content: center;background-color: white;position: relative;}#sk-container-id-4 div.sk-item::before, #sk-container-id-4 div.sk-parallel-item::before {content: \"\";position: absolute;border-left: 1px solid gray;box-sizing: border-box;top: 0;bottom: 0;left: 50%;z-index: -1;}#sk-container-id-4 div.sk-parallel-item {display: flex;flex-direction: column;z-index: 1;position: relative;background-color: white;}#sk-container-id-4 div.sk-parallel-item:first-child::after {align-self: flex-end;width: 50%;}#sk-container-id-4 div.sk-parallel-item:last-child::after {align-self: flex-start;width: 50%;}#sk-container-id-4 div.sk-parallel-item:only-child::after {width: 0;}#sk-container-id-4 div.sk-dashed-wrapped {border: 1px dashed gray;margin: 0 0.4em 0.5em 0.4em;box-sizing: border-box;padding-bottom: 0.4em;background-color: white;}#sk-container-id-4 div.sk-label label {font-family: monospace;font-weight: bold;display: inline-block;line-height: 1.2em;}#sk-container-id-4 div.sk-label-container {text-align: center;}#sk-container-id-4 div.sk-container {/* jupyter's `normalize.less` sets `[hidden] { display: none; }` but bootstrap.min.css set `[hidden] { display: none !important; }` so we also need the `!important` here to be able to override the default hidden behavior on the sphinx rendered scikit-learn.org. See: https://github.com/scikit-learn/scikit-learn/issues/21755 */display: inline-block !important;position: relative;}#sk-container-id-4 div.sk-text-repr-fallback {display: none;}</style><div id=\"sk-container-id-4\" class=\"sk-top-container\"><div class=\"sk-text-repr-fallback\"><pre>XGBClassifier(base_score=None, booster=None, callbacks=None,\n",
       "              colsample_bylevel=None, colsample_bynode=None,\n",
       "              colsample_bytree=None, early_stopping_rounds=None,\n",
       "              enable_categorical=False, eval_metric=None, feature_types=None,\n",
       "              gamma=None, gpu_id=None, grow_policy=None, importance_type=None,\n",
       "              interaction_constraints=None, learning_rate=None, max_bin=None,\n",
       "              max_cat_threshold=None, max_cat_to_onehot=None,\n",
       "              max_delta_step=None, max_depth=10, max_leaves=None,\n",
       "              min_child_weight=None, missing=nan, monotone_constraints=None,\n",
       "              n_estimators=100, n_jobs=None, num_parallel_tree=None,\n",
       "              predictor=None, random_state=None, ...)</pre><b>In a Jupyter environment, please rerun this cell to show the HTML representation or trust the notebook. <br />On GitHub, the HTML representation is unable to render, please try loading this page with nbviewer.org.</b></div><div class=\"sk-container\" hidden><div class=\"sk-item\"><div class=\"sk-estimator sk-toggleable\"><input class=\"sk-toggleable__control sk-hidden--visually\" id=\"sk-estimator-id-4\" type=\"checkbox\" checked><label for=\"sk-estimator-id-4\" class=\"sk-toggleable__label sk-toggleable__label-arrow\">XGBClassifier</label><div class=\"sk-toggleable__content\"><pre>XGBClassifier(base_score=None, booster=None, callbacks=None,\n",
       "              colsample_bylevel=None, colsample_bynode=None,\n",
       "              colsample_bytree=None, early_stopping_rounds=None,\n",
       "              enable_categorical=False, eval_metric=None, feature_types=None,\n",
       "              gamma=None, gpu_id=None, grow_policy=None, importance_type=None,\n",
       "              interaction_constraints=None, learning_rate=None, max_bin=None,\n",
       "              max_cat_threshold=None, max_cat_to_onehot=None,\n",
       "              max_delta_step=None, max_depth=10, max_leaves=None,\n",
       "              min_child_weight=None, missing=nan, monotone_constraints=None,\n",
       "              n_estimators=100, n_jobs=None, num_parallel_tree=None,\n",
       "              predictor=None, random_state=None, ...)</pre></div></div></div></div></div>"
      ],
      "text/plain": [
       "XGBClassifier(base_score=None, booster=None, callbacks=None,\n",
       "              colsample_bylevel=None, colsample_bynode=None,\n",
       "              colsample_bytree=None, early_stopping_rounds=None,\n",
       "              enable_categorical=False, eval_metric=None, feature_types=None,\n",
       "              gamma=None, gpu_id=None, grow_policy=None, importance_type=None,\n",
       "              interaction_constraints=None, learning_rate=None, max_bin=None,\n",
       "              max_cat_threshold=None, max_cat_to_onehot=None,\n",
       "              max_delta_step=None, max_depth=10, max_leaves=None,\n",
       "              min_child_weight=None, missing=nan, monotone_constraints=None,\n",
       "              n_estimators=100, n_jobs=None, num_parallel_tree=None,\n",
       "              predictor=None, random_state=None, ...)"
      ]
     },
     "execution_count": 41,
     "metadata": {},
     "output_type": "execute_result"
    }
   ],
   "source": [
    "# Crear una instancia del clasificador XGBoost\n",
    "xgb_classifier = XGBClassifier(max_depth=10)\n",
    "\n",
    "# Entrenar el clasificador XGBoost\n",
    "xgb_classifier.fit(X_train, y_train_encoded)  \n"
   ]
  },
  {
   "cell_type": "code",
   "execution_count": 42,
   "id": "fedf3f37-69d6-463b-af1c-fa194d39a380",
   "metadata": {},
   "outputs": [],
   "source": [
    "# Realizar predicciones en el conjunto de prueba\n",
    "y_pred = xgb_classifier.predict(X_test)"
   ]
  },
  {
   "cell_type": "code",
   "execution_count": 43,
   "id": "01289859-b7e8-4246-b8b2-58f30ce4633b",
   "metadata": {},
   "outputs": [
    {
     "data": {
      "text/plain": [
       "array([1, 1, 1, ..., 1, 1, 0])"
      ]
     },
     "execution_count": 43,
     "metadata": {},
     "output_type": "execute_result"
    }
   ],
   "source": [
    "y_pred"
   ]
  },
  {
   "cell_type": "code",
   "execution_count": 44,
   "id": "356983dd-f77f-4cb9-a774-684c36040a82",
   "metadata": {},
   "outputs": [
    {
     "data": {
      "text/plain": [
       "70513     Subscriber\n",
       "179575    Subscriber\n",
       "680612    Subscriber\n",
       "630498    Subscriber\n",
       "381413    Subscriber\n",
       "             ...    \n",
       "765941    Subscriber\n",
       "140744    Subscriber\n",
       "862257    Subscriber\n",
       "188638    Subscriber\n",
       "72513       Customer\n",
       "Name: usertype, Length: 1336882, dtype: object"
      ]
     },
     "execution_count": 44,
     "metadata": {},
     "output_type": "execute_result"
    }
   ],
   "source": [
    "y_test"
   ]
  },
  {
   "cell_type": "code",
   "execution_count": 45,
   "id": "2eb065c3-dba7-4d91-91c0-e7328eaafcc0",
   "metadata": {},
   "outputs": [
    {
     "name": "stdout",
     "output_type": "stream",
     "text": [
      "\n",
      "XGBoost Classifier:\n",
      "Accuracy: 0.8757975647813345\n",
      "Precision: 0.8653293877988089\n",
      "Recall: 0.8757975647813345\n",
      "F1-score: 0.8610714050997124\n"
     ]
    }
   ],
   "source": [
    "# Calcular las métricas de evaluación\n",
    "accuracy = accuracy_score(y_test_encoded, y_pred)\n",
    "precision = precision_score(y_test_encoded, y_pred, average='weighted')\n",
    "recall = recall_score(y_test_encoded, y_pred, average='weighted')\n",
    "f1 = f1_score(y_test_encoded, y_pred, average='weighted')\n",
    "\n",
    "\n",
    "# Imprimir las métricas de evaluación\n",
    "print(\"\\nXGBoost Classifier:\")\n",
    "print(\"Accuracy:\", accuracy)\n",
    "print(\"Precision:\", precision)\n",
    "print(\"Recall:\", recall)\n",
    "print(\"F1-score:\", f1)"
   ]
  },
  {
   "cell_type": "markdown",
   "id": "40d452d7-0815-4e41-a26f-a7268b839cfa",
   "metadata": {
    "tags": []
   },
   "source": [
    "# QUITAMOS GENDER Y PROBAMOS REGRESION LOGISTICA Y XGBOOST"
   ]
  },
  {
   "cell_type": "code",
   "execution_count": 46,
   "id": "a9ebcf35-6557-4e26-9092-82d4666f437e",
   "metadata": {},
   "outputs": [
    {
     "data": {
      "text/html": [
       "<div>\n",
       "<style scoped>\n",
       "    .dataframe tbody tr th:only-of-type {\n",
       "        vertical-align: middle;\n",
       "    }\n",
       "\n",
       "    .dataframe tbody tr th {\n",
       "        vertical-align: top;\n",
       "    }\n",
       "\n",
       "    .dataframe thead th {\n",
       "        text-align: right;\n",
       "    }\n",
       "</style>\n",
       "<table border=\"1\" class=\"dataframe\">\n",
       "  <thead>\n",
       "    <tr style=\"text-align: right;\">\n",
       "      <th></th>\n",
       "      <th>tripduration</th>\n",
       "      <th>from_station_name</th>\n",
       "      <th>to_station_name</th>\n",
       "      <th>usertype</th>\n",
       "      <th>start_month</th>\n",
       "      <th>Age_range</th>\n",
       "      <th>to_station</th>\n",
       "      <th>from_station</th>\n",
       "    </tr>\n",
       "  </thead>\n",
       "  <tbody>\n",
       "    <tr>\n",
       "      <th>0</th>\n",
       "      <td>323.0</td>\n",
       "      <td>Damen Ave &amp; Pierce Ave</td>\n",
       "      <td>Claremont Ave &amp; Hirsch St</td>\n",
       "      <td>Subscriber</td>\n",
       "      <td>1</td>\n",
       "      <td>30-50</td>\n",
       "      <td>otro</td>\n",
       "      <td>grupo_2</td>\n",
       "    </tr>\n",
       "    <tr>\n",
       "      <th>1</th>\n",
       "      <td>377.0</td>\n",
       "      <td>Winthrop Ave &amp; Lawrence Ave</td>\n",
       "      <td>Clark St &amp; Winnemac Ave (Temp)</td>\n",
       "      <td>Subscriber</td>\n",
       "      <td>1</td>\n",
       "      <td>30-50</td>\n",
       "      <td>otro</td>\n",
       "      <td>otro</td>\n",
       "    </tr>\n",
       "    <tr>\n",
       "      <th>2</th>\n",
       "      <td>2904.0</td>\n",
       "      <td>LaSalle St &amp; Washington St</td>\n",
       "      <td>Troy St &amp; North Ave</td>\n",
       "      <td>Subscriber</td>\n",
       "      <td>1</td>\n",
       "      <td>30-50</td>\n",
       "      <td>otro</td>\n",
       "      <td>grupo_5</td>\n",
       "    </tr>\n",
       "    <tr>\n",
       "      <th>3</th>\n",
       "      <td>747.0</td>\n",
       "      <td>Rush St &amp; Hubbard St</td>\n",
       "      <td>Larrabee St &amp; Oak St</td>\n",
       "      <td>Subscriber</td>\n",
       "      <td>1</td>\n",
       "      <td>30-50</td>\n",
       "      <td>grupo_7</td>\n",
       "      <td>grupo_6</td>\n",
       "    </tr>\n",
       "    <tr>\n",
       "      <th>4</th>\n",
       "      <td>183.0</td>\n",
       "      <td>Blue Island Ave &amp; 18th St</td>\n",
       "      <td>Paulina St &amp; 18th St</td>\n",
       "      <td>Subscriber</td>\n",
       "      <td>1</td>\n",
       "      <td>30-50</td>\n",
       "      <td>otro</td>\n",
       "      <td>otro</td>\n",
       "    </tr>\n",
       "  </tbody>\n",
       "</table>\n",
       "</div>"
      ],
      "text/plain": [
       "   tripduration            from_station_name                 to_station_name  \\\n",
       "0         323.0       Damen Ave & Pierce Ave       Claremont Ave & Hirsch St   \n",
       "1         377.0  Winthrop Ave & Lawrence Ave  Clark St & Winnemac Ave (Temp)   \n",
       "2        2904.0   LaSalle St & Washington St             Troy St & North Ave   \n",
       "3         747.0         Rush St & Hubbard St            Larrabee St & Oak St   \n",
       "4         183.0    Blue Island Ave & 18th St            Paulina St & 18th St   \n",
       "\n",
       "     usertype  start_month Age_range to_station from_station  \n",
       "0  Subscriber            1     30-50       otro      grupo_2  \n",
       "1  Subscriber            1     30-50       otro         otro  \n",
       "2  Subscriber            1     30-50       otro      grupo_5  \n",
       "3  Subscriber            1     30-50    grupo_7      grupo_6  \n",
       "4  Subscriber            1     30-50       otro         otro  "
      ]
     },
     "execution_count": 46,
     "metadata": {},
     "output_type": "execute_result"
    }
   ],
   "source": [
    "data2 = data.drop('gender', axis=1)\n",
    "data2.head()"
   ]
  },
  {
   "cell_type": "markdown",
   "id": "fb7b6f2c-1fe1-4a3f-9568-b5e74f2cda49",
   "metadata": {},
   "source": [
    "REGRESION LOGISTICA"
   ]
  },
  {
   "cell_type": "code",
   "execution_count": 47,
   "id": "bc31f10c-4670-4b37-9024-fc4db4bf7943",
   "metadata": {},
   "outputs": [],
   "source": [
    "# Separar las variables predictoras (X) y la variable objetivo (y)\n",
    "X2 = data2.drop('usertype', axis=1)\n",
    "y2 = data2['usertype']\n",
    "\n",
    "# Definir las columnas categóricas y numéricas\n",
    "categorical_features = ['from_station', 'to_station', 'start_month', 'Age_range']\n",
    "numeric_features = ['tripduration']"
   ]
  },
  {
   "cell_type": "code",
   "execution_count": 48,
   "id": "7dc635c7-ab63-43ac-a0ed-e27c6eb76b46",
   "metadata": {},
   "outputs": [],
   "source": [
    "# Crear el preprocesador utilizando ColumnTransformer\n",
    "preprocessor = ColumnTransformer(\n",
    "    transformers=[\n",
    "        ('onehot', OneHotEncoder(), categorical_features),\n",
    "        ('scaler', StandardScaler(), numeric_features)\n",
    "    ])\n",
    "\n",
    "# Aplicar el preprocesador a los datos\n",
    "X_preprocessed2 = preprocessor.fit_transform(X)\n",
    "\n",
    "# Dividir los datos en conjuntos de entrenamiento y prueba\n",
    "X2_train, X2_test, y2_train, y2_test = train_test_split(X_preprocessed2, y2, test_size=0.2, random_state=42)"
   ]
  },
  {
   "cell_type": "markdown",
   "id": "befc0290-a61c-4971-921a-831333acec4e",
   "metadata": {},
   "source": [
    "Regresion logistica"
   ]
  },
  {
   "cell_type": "code",
   "execution_count": 49,
   "id": "3773bed2-469a-4b51-bfb0-b2ec1f29e73a",
   "metadata": {},
   "outputs": [],
   "source": [
    "# Crear y entrenar el modelo de regresión logística\n",
    "logreg2 = LogisticRegression(max_iter=2000)\n",
    "\n",
    "# Entrenar el modelo de regresión logística\n",
    "logreg2.fit(X2_train, y2_train)\n",
    "\n",
    "# Calcular las predicciones en el conjunto de entrenamiento y prueba\n",
    "train_predictions5 = logreg2.predict(X2_train)\n",
    "test_predictions5 = logreg2.predict(X2_test)\n"
   ]
  },
  {
   "cell_type": "code",
   "execution_count": 50,
   "id": "b1300d63-30c7-4a16-a366-1496cd4f012e",
   "metadata": {},
   "outputs": [
    {
     "name": "stdout",
     "output_type": "stream",
     "text": [
      "\n",
      "Regresion Logistica:\n",
      "Accuracy: 0.8642804675356539\n",
      "Precision: 0.8517518779638592\n",
      "Recall: 0.8642804675356539\n",
      "F1-score: 0.8416562469117723\n"
     ]
    }
   ],
   "source": [
    "# Calcular las métricas de evaluación\n",
    "accuracy2 = accuracy_score(y2_test, test_predictions5)\n",
    "precision2 = precision_score(y2_test, test_predictions5, average='weighted')\n",
    "recall2 = recall_score(y2_test, test_predictions5, average='weighted')\n",
    "f12 = f1_score(y2_test, test_predictions5, average='weighted')\n",
    "\n",
    "# Imprimir las métricas de evaluación\n",
    "print(\"\\nRegresion Logistica:\")\n",
    "print(\"Accuracy:\", accuracy2)\n",
    "print(\"Precision:\", precision2)\n",
    "print(\"Recall:\", recall2)\n",
    "print(\"F1-score:\", f12)"
   ]
  },
  {
   "cell_type": "markdown",
   "id": "7ded2a1f-17f3-40f8-95f3-441f9e0b9b75",
   "metadata": {},
   "source": [
    "XGBOOST"
   ]
  },
  {
   "cell_type": "code",
   "execution_count": 51,
   "id": "95573ec4-272e-4b2c-9600-045d967f92a1",
   "metadata": {},
   "outputs": [],
   "source": [
    "# Convertir las etiquetas de clase a valores numéricos utilizando LabelEncoder\n",
    "label_encoder = LabelEncoder()\n",
    "y_train_encoded2 = label_encoder.fit_transform(y2_train)\n",
    "y_test_encoded2 = label_encoder.transform(y2_test)"
   ]
  },
  {
   "cell_type": "code",
   "execution_count": 52,
   "id": "b16694b0-8bda-40eb-9e30-9ca71a1d0264",
   "metadata": {},
   "outputs": [],
   "source": [
    "# Crear una instancia del clasificador XGBoost\n",
    "xgb_classifier2 = XGBClassifier(max_depth=10)\n",
    "\n",
    "# Entrenar el clasificador XGBoost\n",
    "xgb_classifier2.fit(X2_train, y_train_encoded2)\n",
    "\n",
    "# Realizar predicciones en el conjunto de prueba\n",
    "y_pred2 = xgb_classifier2.predict(X2_test)"
   ]
  },
  {
   "cell_type": "code",
   "execution_count": 53,
   "id": "e958fe62-ddc8-4698-8990-30631891dbac",
   "metadata": {},
   "outputs": [
    {
     "name": "stdout",
     "output_type": "stream",
     "text": [
      "\n",
      "XGBoost Classifier:\n",
      "Accuracy: 0.8710649107400653\n",
      "Precision: 0.8604202774808307\n",
      "Recall: 0.8710649107400653\n",
      "F1-score: 0.8521488796705952\n"
     ]
    }
   ],
   "source": [
    "# Calcular las métricas de evaluación\n",
    "accuracy2 = accuracy_score(y_test_encoded2, y_pred2)\n",
    "precision2 = precision_score(y_test_encoded2, y_pred2, average='weighted')\n",
    "recall2 = recall_score(y_test_encoded2, y_pred2, average='weighted')\n",
    "f12 = f1_score(y_test_encoded2, y_pred2, average='weighted')\n",
    "\n",
    "# Imprimir las métricas de evaluación\n",
    "print(\"\\nXGBoost Classifier:\")\n",
    "print(\"Accuracy:\", accuracy2)\n",
    "print(\"Precision:\", precision2)\n",
    "print(\"Recall:\", recall2)\n",
    "print(\"F1-score:\", f12)"
   ]
  },
  {
   "cell_type": "markdown",
   "id": "4a7bed0f-1b1a-44b5-9e59-417b8b4e111b",
   "metadata": {},
   "source": [
    "# CONCLUSIONES MODELOS"
   ]
  },
  {
   "cell_type": "raw",
   "id": "990860fc-2b54-4489-83e6-0407cd23f020",
   "metadata": {},
   "source": [
    "1.\tPrecisión y Recall:\n",
    "Para todos los modelos, la precisión y el recall son relativamente altos, lo que indica que ambos modelos son capaces de clasificar correctamente una gran proporción de instancias positivas (verdaderos positivos) y tienen una baja tasa de falsos positivos.\n",
    "\n",
    "2.\tAccuracy:\n",
    "Todos los modelos tienen una accuracy (exactitud) cercana al 87%, lo que significa que aciertan en clasificar correctamente alrededor del 87% de todas las instancias, independientemente de si son verdaderos positivos o verdaderos negativos.\n",
    "\n",
    "3.\tF1-score:\n",
    "El F1-score, que es una medida que combina tanto la precisión como el recall, también es alto para ambos modelos, lo que indica un buen equilibrio entre la precisión y el recall.\n"
   ]
  }
 ],
 "metadata": {
  "kernelspec": {
   "display_name": "Python 3 (ipykernel)",
   "language": "python",
   "name": "python3"
  },
  "language_info": {
   "codemirror_mode": {
    "name": "ipython",
    "version": 3
   },
   "file_extension": ".py",
   "mimetype": "text/x-python",
   "name": "python",
   "nbconvert_exporter": "python",
   "pygments_lexer": "ipython3",
   "version": "3.10.8"
  }
 },
 "nbformat": 4,
 "nbformat_minor": 5
}
