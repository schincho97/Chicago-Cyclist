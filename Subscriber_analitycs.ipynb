{
 "cells": [
  {
   "cell_type": "code",
   "execution_count": 1,
   "id": "debec1f5-02bb-4b41-855a-fafc99e26abc",
   "metadata": {},
   "outputs": [],
   "source": [
    "import pandas as pd\n",
    "import numpy as np\n",
    "import seaborn as sns\n",
    "import matplotlib.pyplot as plt"
   ]
  },
  {
   "cell_type": "markdown",
   "id": "78679046-1523-43af-87cd-3725cff8717c",
   "metadata": {
    "tags": []
   },
   "source": [
    "# 1º TRIMESTRE 2018 y 2019"
   ]
  },
  {
   "cell_type": "code",
   "execution_count": 2,
   "id": "e50e11b4-49a9-45f1-a28b-2d71e47c416f",
   "metadata": {},
   "outputs": [],
   "source": [
    "# Cargar los dataset dataset\n",
    "Q12018 = pd.read_csv('SUSQ118CLEAN.csv')\n",
    "Q12019 = pd.read_csv('SUSQ119CLEAN.csv')\n",
    "# Fusionar los datasets por columnas comunes\n",
    "Q1 = pd.concat([Q12018, Q12019])"
   ]
  },
  {
   "cell_type": "code",
   "execution_count": 3,
   "id": "df6057ac-a231-46d4-ac44-ad61165c3616",
   "metadata": {},
   "outputs": [
    {
     "data": {
      "text/html": [
       "<div>\n",
       "<style scoped>\n",
       "    .dataframe tbody tr th:only-of-type {\n",
       "        vertical-align: middle;\n",
       "    }\n",
       "\n",
       "    .dataframe tbody tr th {\n",
       "        vertical-align: top;\n",
       "    }\n",
       "\n",
       "    .dataframe thead th {\n",
       "        text-align: right;\n",
       "    }\n",
       "</style>\n",
       "<table border=\"1\" class=\"dataframe\">\n",
       "  <thead>\n",
       "    <tr style=\"text-align: right;\">\n",
       "      <th></th>\n",
       "      <th>tripduration</th>\n",
       "      <th>from_station_name</th>\n",
       "      <th>to_station_name</th>\n",
       "      <th>usertype</th>\n",
       "      <th>gender</th>\n",
       "      <th>start_day</th>\n",
       "      <th>start_month</th>\n",
       "      <th>start_year</th>\n",
       "      <th>Age_range</th>\n",
       "    </tr>\n",
       "  </thead>\n",
       "  <tbody>\n",
       "    <tr>\n",
       "      <th>0</th>\n",
       "      <td>323.0</td>\n",
       "      <td>Damen Ave &amp; Pierce Ave</td>\n",
       "      <td>Claremont Ave &amp; Hirsch St</td>\n",
       "      <td>Subscriber</td>\n",
       "      <td>Male</td>\n",
       "      <td>1</td>\n",
       "      <td>1</td>\n",
       "      <td>2018</td>\n",
       "      <td>30-50</td>\n",
       "    </tr>\n",
       "    <tr>\n",
       "      <th>1</th>\n",
       "      <td>377.0</td>\n",
       "      <td>Winthrop Ave &amp; Lawrence Ave</td>\n",
       "      <td>Clark St &amp; Winnemac Ave (Temp)</td>\n",
       "      <td>Subscriber</td>\n",
       "      <td>Male</td>\n",
       "      <td>1</td>\n",
       "      <td>1</td>\n",
       "      <td>2018</td>\n",
       "      <td>30-50</td>\n",
       "    </tr>\n",
       "    <tr>\n",
       "      <th>2</th>\n",
       "      <td>2904.0</td>\n",
       "      <td>LaSalle St &amp; Washington St</td>\n",
       "      <td>Troy St &amp; North Ave</td>\n",
       "      <td>Subscriber</td>\n",
       "      <td>Male</td>\n",
       "      <td>1</td>\n",
       "      <td>1</td>\n",
       "      <td>2018</td>\n",
       "      <td>30-50</td>\n",
       "    </tr>\n",
       "    <tr>\n",
       "      <th>3</th>\n",
       "      <td>747.0</td>\n",
       "      <td>Rush St &amp; Hubbard St</td>\n",
       "      <td>Larrabee St &amp; Oak St</td>\n",
       "      <td>Subscriber</td>\n",
       "      <td>Male</td>\n",
       "      <td>1</td>\n",
       "      <td>1</td>\n",
       "      <td>2018</td>\n",
       "      <td>30-50</td>\n",
       "    </tr>\n",
       "    <tr>\n",
       "      <th>4</th>\n",
       "      <td>183.0</td>\n",
       "      <td>Blue Island Ave &amp; 18th St</td>\n",
       "      <td>Paulina St &amp; 18th St</td>\n",
       "      <td>Subscriber</td>\n",
       "      <td>Male</td>\n",
       "      <td>1</td>\n",
       "      <td>1</td>\n",
       "      <td>2018</td>\n",
       "      <td>30-50</td>\n",
       "    </tr>\n",
       "  </tbody>\n",
       "</table>\n",
       "</div>"
      ],
      "text/plain": [
       "   tripduration            from_station_name                 to_station_name  \\\n",
       "0         323.0       Damen Ave & Pierce Ave       Claremont Ave & Hirsch St   \n",
       "1         377.0  Winthrop Ave & Lawrence Ave  Clark St & Winnemac Ave (Temp)   \n",
       "2        2904.0   LaSalle St & Washington St             Troy St & North Ave   \n",
       "3         747.0         Rush St & Hubbard St            Larrabee St & Oak St   \n",
       "4         183.0    Blue Island Ave & 18th St            Paulina St & 18th St   \n",
       "\n",
       "     usertype gender  start_day  start_month  start_year Age_range  \n",
       "0  Subscriber   Male          1            1        2018     30-50  \n",
       "1  Subscriber   Male          1            1        2018     30-50  \n",
       "2  Subscriber   Male          1            1        2018     30-50  \n",
       "3  Subscriber   Male          1            1        2018     30-50  \n",
       "4  Subscriber   Male          1            1        2018     30-50  "
      ]
     },
     "execution_count": 3,
     "metadata": {},
     "output_type": "execute_result"
    }
   ],
   "source": [
    "Q1.head()"
   ]
  },
  {
   "cell_type": "code",
   "execution_count": 4,
   "id": "970fd2b8-cbe9-4e52-960e-0a619bdfde0c",
   "metadata": {},
   "outputs": [
    {
     "name": "stdout",
     "output_type": "stream",
     "text": [
      "<class 'pandas.core.frame.DataFrame'>\n",
      "Int64Index: 694561 entries, 0 to 336350\n",
      "Data columns (total 9 columns):\n",
      " #   Column             Non-Null Count   Dtype  \n",
      "---  ------             --------------   -----  \n",
      " 0   tripduration       694561 non-null  float64\n",
      " 1   from_station_name  694561 non-null  object \n",
      " 2   to_station_name    694561 non-null  object \n",
      " 3   usertype           694561 non-null  object \n",
      " 4   gender             694561 non-null  object \n",
      " 5   start_day          694561 non-null  int64  \n",
      " 6   start_month        694561 non-null  int64  \n",
      " 7   start_year         694561 non-null  int64  \n",
      " 8   Age_range          694561 non-null  object \n",
      "dtypes: float64(1), int64(3), object(5)\n",
      "memory usage: 53.0+ MB\n"
     ]
    }
   ],
   "source": [
    "Q1.info()"
   ]
  },
  {
   "cell_type": "code",
   "execution_count": 5,
   "id": "5f8bec94-96de-4844-bbbe-c731734d2c4a",
   "metadata": {},
   "outputs": [
    {
     "data": {
      "text/plain": [
       "(694561, 9)"
      ]
     },
     "execution_count": 5,
     "metadata": {},
     "output_type": "execute_result"
    }
   ],
   "source": [
    "Q1.shape"
   ]
  },
  {
   "cell_type": "code",
   "execution_count": 6,
   "id": "841cedce-81a3-487e-abe7-ceed8a1dab10",
   "metadata": {},
   "outputs": [
    {
     "data": {
      "text/html": [
       "<div>\n",
       "<style scoped>\n",
       "    .dataframe tbody tr th:only-of-type {\n",
       "        vertical-align: middle;\n",
       "    }\n",
       "\n",
       "    .dataframe tbody tr th {\n",
       "        vertical-align: top;\n",
       "    }\n",
       "\n",
       "    .dataframe thead th {\n",
       "        text-align: right;\n",
       "    }\n",
       "</style>\n",
       "<table border=\"1\" class=\"dataframe\">\n",
       "  <thead>\n",
       "    <tr style=\"text-align: right;\">\n",
       "      <th></th>\n",
       "      <th>tripduration</th>\n",
       "      <th>start_day</th>\n",
       "      <th>start_month</th>\n",
       "      <th>start_year</th>\n",
       "    </tr>\n",
       "  </thead>\n",
       "  <tbody>\n",
       "    <tr>\n",
       "      <th>count</th>\n",
       "      <td>694561.00</td>\n",
       "      <td>694561.00</td>\n",
       "      <td>694561.00</td>\n",
       "      <td>694561.00</td>\n",
       "    </tr>\n",
       "    <tr>\n",
       "      <th>mean</th>\n",
       "      <td>628.57</td>\n",
       "      <td>16.30</td>\n",
       "      <td>2.15</td>\n",
       "      <td>2018.48</td>\n",
       "    </tr>\n",
       "    <tr>\n",
       "      <th>std</th>\n",
       "      <td>494.83</td>\n",
       "      <td>8.51</td>\n",
       "      <td>0.84</td>\n",
       "      <td>0.50</td>\n",
       "    </tr>\n",
       "    <tr>\n",
       "      <th>min</th>\n",
       "      <td>61.00</td>\n",
       "      <td>1.00</td>\n",
       "      <td>1.00</td>\n",
       "      <td>2018.00</td>\n",
       "    </tr>\n",
       "    <tr>\n",
       "      <th>25%</th>\n",
       "      <td>315.00</td>\n",
       "      <td>9.00</td>\n",
       "      <td>1.00</td>\n",
       "      <td>2018.00</td>\n",
       "    </tr>\n",
       "    <tr>\n",
       "      <th>50%</th>\n",
       "      <td>494.00</td>\n",
       "      <td>16.00</td>\n",
       "      <td>2.00</td>\n",
       "      <td>2018.00</td>\n",
       "    </tr>\n",
       "    <tr>\n",
       "      <th>75%</th>\n",
       "      <td>786.00</td>\n",
       "      <td>24.00</td>\n",
       "      <td>3.00</td>\n",
       "      <td>2019.00</td>\n",
       "    </tr>\n",
       "    <tr>\n",
       "      <th>max</th>\n",
       "      <td>12502.00</td>\n",
       "      <td>31.00</td>\n",
       "      <td>3.00</td>\n",
       "      <td>2019.00</td>\n",
       "    </tr>\n",
       "  </tbody>\n",
       "</table>\n",
       "</div>"
      ],
      "text/plain": [
       "       tripduration  start_day  start_month  start_year\n",
       "count     694561.00  694561.00    694561.00   694561.00\n",
       "mean         628.57      16.30         2.15     2018.48\n",
       "std          494.83       8.51         0.84        0.50\n",
       "min           61.00       1.00         1.00     2018.00\n",
       "25%          315.00       9.00         1.00     2018.00\n",
       "50%          494.00      16.00         2.00     2018.00\n",
       "75%          786.00      24.00         3.00     2019.00\n",
       "max        12502.00      31.00         3.00     2019.00"
      ]
     },
     "execution_count": 6,
     "metadata": {},
     "output_type": "execute_result"
    }
   ],
   "source": [
    "# Desactivar la notación científica\n",
    "pd.set_option('display.float_format', '{:.2f}'.format)\n",
    "Q1.describe()"
   ]
  },
  {
   "cell_type": "markdown",
   "id": "98c71c9c-f1c5-4501-8399-8c627ac2cbbe",
   "metadata": {},
   "source": [
    "Trabajo con la edad"
   ]
  },
  {
   "cell_type": "code",
   "execution_count": 7,
   "id": "0a3faedd-d244-4b7d-9cb9-7f681bb41360",
   "metadata": {},
   "outputs": [
    {
     "data": {
      "text/html": [
       "<div>\n",
       "<style scoped>\n",
       "    .dataframe tbody tr th:only-of-type {\n",
       "        vertical-align: middle;\n",
       "    }\n",
       "\n",
       "    .dataframe tbody tr th {\n",
       "        vertical-align: top;\n",
       "    }\n",
       "\n",
       "    .dataframe thead th {\n",
       "        text-align: right;\n",
       "    }\n",
       "</style>\n",
       "<table border=\"1\" class=\"dataframe\">\n",
       "  <thead>\n",
       "    <tr style=\"text-align: right;\">\n",
       "      <th></th>\n",
       "      <th>Age_range</th>\n",
       "      <th>start_year</th>\n",
       "      <th>count</th>\n",
       "    </tr>\n",
       "  </thead>\n",
       "  <tbody>\n",
       "    <tr>\n",
       "      <th>0</th>\n",
       "      <td>18-29</td>\n",
       "      <td>2018</td>\n",
       "      <td>85149</td>\n",
       "    </tr>\n",
       "    <tr>\n",
       "      <th>1</th>\n",
       "      <td>18-29</td>\n",
       "      <td>2019</td>\n",
       "      <td>94575</td>\n",
       "    </tr>\n",
       "    <tr>\n",
       "      <th>2</th>\n",
       "      <td>30-50</td>\n",
       "      <td>2018</td>\n",
       "      <td>218746</td>\n",
       "    </tr>\n",
       "    <tr>\n",
       "      <th>3</th>\n",
       "      <td>30-50</td>\n",
       "      <td>2019</td>\n",
       "      <td>194046</td>\n",
       "    </tr>\n",
       "    <tr>\n",
       "      <th>4</th>\n",
       "      <td>50-65</td>\n",
       "      <td>2018</td>\n",
       "      <td>54315</td>\n",
       "    </tr>\n",
       "    <tr>\n",
       "      <th>5</th>\n",
       "      <td>50-65</td>\n",
       "      <td>2019</td>\n",
       "      <td>47730</td>\n",
       "    </tr>\n",
       "  </tbody>\n",
       "</table>\n",
       "</div>"
      ],
      "text/plain": [
       "  Age_range  start_year   count\n",
       "0     18-29        2018   85149\n",
       "1     18-29        2019   94575\n",
       "2     30-50        2018  218746\n",
       "3     30-50        2019  194046\n",
       "4     50-65        2018   54315\n",
       "5     50-65        2019   47730"
      ]
     },
     "execution_count": 7,
     "metadata": {},
     "output_type": "execute_result"
    }
   ],
   "source": [
    "# Calcular la suma de cada rango de edad\n",
    "rang_anoS = Q1.groupby(['Age_range','start_year']).size().reset_index(name='count')\n",
    "rang_anoS"
   ]
  },
  {
   "cell_type": "code",
   "execution_count": 8,
   "id": "dff3f084-9676-4a95-b84f-bbbb6d1d1656",
   "metadata": {},
   "outputs": [
    {
     "data": {
      "image/png": "[encoded data removed]",
      "text/plain": [
       "<Figure size 640x480 with 1 Axes>"
      ]
     },
     "metadata": {},
     "output_type": "display_data"
    }
   ],
   "source": [
    "# Crear el gráfico de barras utilizando Seaborn\n",
    "sns.barplot(x='Age_range', y='count', hue='start_year', data=rang_anoS)\n",
    "\n",
    "# Configurar el título del gráfico\n",
    "plt.title('Rango de Edad por Año de los Suscriptores en el 1º Trimestre')\n",
    "\n",
    "# Establecer límites del eje y del gráfico \n",
    "plt.ylim(0, 600000)\n",
    "\n",
    "# Mostrar el gráfico\n",
    "plt.show()"
   ]
  },
  {
   "cell_type": "markdown",
   "id": "0f2827f5-bc3e-423c-a2c7-8271a7a6d273",
   "metadata": {},
   "source": [
    "Trabajar con Tripduration"
   ]
  },
  {
   "cell_type": "code",
   "execution_count": 9,
   "id": "c3c7a87a-b01a-4524-baba-cca718b6d111",
   "metadata": {},
   "outputs": [
    {
     "data": {
      "text/html": [
       "<div>\n",
       "<style scoped>\n",
       "    .dataframe tbody tr th:only-of-type {\n",
       "        vertical-align: middle;\n",
       "    }\n",
       "\n",
       "    .dataframe tbody tr th {\n",
       "        vertical-align: top;\n",
       "    }\n",
       "\n",
       "    .dataframe thead th {\n",
       "        text-align: right;\n",
       "    }\n",
       "</style>\n",
       "<table border=\"1\" class=\"dataframe\">\n",
       "  <thead>\n",
       "    <tr style=\"text-align: right;\">\n",
       "      <th></th>\n",
       "      <th>Age_range</th>\n",
       "      <th>start_year</th>\n",
       "      <th>mean_tripduration</th>\n",
       "    </tr>\n",
       "  </thead>\n",
       "  <tbody>\n",
       "    <tr>\n",
       "      <th>0</th>\n",
       "      <td>18-29</td>\n",
       "      <td>2018</td>\n",
       "      <td>598.43</td>\n",
       "    </tr>\n",
       "    <tr>\n",
       "      <th>1</th>\n",
       "      <td>18-29</td>\n",
       "      <td>2019</td>\n",
       "      <td>626.93</td>\n",
       "    </tr>\n",
       "    <tr>\n",
       "      <th>2</th>\n",
       "      <td>30-50</td>\n",
       "      <td>2018</td>\n",
       "      <td>619.30</td>\n",
       "    </tr>\n",
       "    <tr>\n",
       "      <th>3</th>\n",
       "      <td>30-50</td>\n",
       "      <td>2019</td>\n",
       "      <td>657.48</td>\n",
       "    </tr>\n",
       "    <tr>\n",
       "      <th>4</th>\n",
       "      <td>50-65</td>\n",
       "      <td>2018</td>\n",
       "      <td>603.99</td>\n",
       "    </tr>\n",
       "    <tr>\n",
       "      <th>5</th>\n",
       "      <td>50-65</td>\n",
       "      <td>2019</td>\n",
       "      <td>638.46</td>\n",
       "    </tr>\n",
       "  </tbody>\n",
       "</table>\n",
       "</div>"
      ],
      "text/plain": [
       "  Age_range  start_year  mean_tripduration\n",
       "0     18-29        2018             598.43\n",
       "1     18-29        2019             626.93\n",
       "2     30-50        2018             619.30\n",
       "3     30-50        2019             657.48\n",
       "4     50-65        2018             603.99\n",
       "5     50-65        2019             638.46"
      ]
     },
     "execution_count": 9,
     "metadata": {},
     "output_type": "execute_result"
    }
   ],
   "source": [
    "# Calcular la media de la columna 'tripduration' por rango de edad y año\n",
    "trip = Q1.groupby(['Age_range', 'start_year'])['tripduration'].mean().reset_index(name='mean_tripduration')\n",
    "trip"
   ]
  },
  {
   "cell_type": "code",
   "execution_count": 10,
   "id": "1201c921-9ec5-4fda-92ad-784afeca29b0",
   "metadata": {},
   "outputs": [
    {
     "data": {
      "image/png": "[encoded data removed]",
      "text/plain": [
       "<Figure size 640x480 with 1 Axes>"
      ]
     },
     "metadata": {},
     "output_type": "display_data"
    }
   ],
   "source": [
    "# Crear el gráfico de barras utilizando Seaborn\n",
    "sns.barplot(x='Age_range', y='mean_tripduration', hue='start_year', data=trip)\n",
    "\n",
    "# Configurar el título del gráfico\n",
    "plt.title('Duración del Viaje de los Suscriptores en el 1º Trimestre')\n",
    "\n",
    "# Establecer límites del eje y del gráfico \n",
    "plt.ylim(0, 1000)\n",
    "# Mostrar el gráfico\n",
    "plt.show()"
   ]
  },
  {
   "cell_type": "markdown",
   "id": "9c00e20a-3a9e-46d4-9e6d-f05addb0f2e3",
   "metadata": {},
   "source": [
    "Trabajar con gender"
   ]
  },
  {
   "cell_type": "code",
   "execution_count": 11,
   "id": "a179667e-5ce8-4942-ab30-026c7b88d51f",
   "metadata": {},
   "outputs": [
    {
     "data": {
      "text/html": [
       "<div>\n",
       "<style scoped>\n",
       "    .dataframe tbody tr th:only-of-type {\n",
       "        vertical-align: middle;\n",
       "    }\n",
       "\n",
       "    .dataframe tbody tr th {\n",
       "        vertical-align: top;\n",
       "    }\n",
       "\n",
       "    .dataframe thead th {\n",
       "        text-align: right;\n",
       "    }\n",
       "</style>\n",
       "<table border=\"1\" class=\"dataframe\">\n",
       "  <thead>\n",
       "    <tr style=\"text-align: right;\">\n",
       "      <th></th>\n",
       "      <th>gender</th>\n",
       "      <th>start_year</th>\n",
       "      <th>count</th>\n",
       "    </tr>\n",
       "  </thead>\n",
       "  <tbody>\n",
       "    <tr>\n",
       "      <th>0</th>\n",
       "      <td>Female</td>\n",
       "      <td>2018</td>\n",
       "      <td>70256</td>\n",
       "    </tr>\n",
       "    <tr>\n",
       "      <th>1</th>\n",
       "      <td>Female</td>\n",
       "      <td>2019</td>\n",
       "      <td>64330</td>\n",
       "    </tr>\n",
       "    <tr>\n",
       "      <th>2</th>\n",
       "      <td>Male</td>\n",
       "      <td>2018</td>\n",
       "      <td>287954</td>\n",
       "    </tr>\n",
       "    <tr>\n",
       "      <th>3</th>\n",
       "      <td>Male</td>\n",
       "      <td>2019</td>\n",
       "      <td>272021</td>\n",
       "    </tr>\n",
       "  </tbody>\n",
       "</table>\n",
       "</div>"
      ],
      "text/plain": [
       "   gender  start_year   count\n",
       "0  Female        2018   70256\n",
       "1  Female        2019   64330\n",
       "2    Male        2018  287954\n",
       "3    Male        2019  272021"
      ]
     },
     "execution_count": 11,
     "metadata": {},
     "output_type": "execute_result"
    }
   ],
   "source": [
    "# Calcular la suma de cada rango de edad\n",
    "gend_ano = Q1.groupby(['gender','start_year']).size().reset_index(name='count')\n",
    "gend_ano"
   ]
  },
  {
   "cell_type": "code",
   "execution_count": 12,
   "id": "ee78d1d3-784f-40b7-a4c4-79c1300b6338",
   "metadata": {},
   "outputs": [
    {
     "data": {
      "image/png": "[encoded data removed]",
      "text/plain": [
       "<Figure size 640x480 with 1 Axes>"
      ]
     },
     "metadata": {},
     "output_type": "display_data"
    }
   ],
   "source": [
    "# Crear el gráfico de barras utilizando Seaborn\n",
    "sns.barplot(x='gender', y='count', hue='start_year', data=gend_ano)\n",
    "\n",
    "# Establecer el título del gráfico\n",
    "plt.title('Género en los Suscriptores en el 1º Trimestre')\n",
    "\n",
    "# Establecer límites del eje y del gráfico \n",
    "plt.ylim(0, 900000)\n",
    "\n",
    "# Mostrar el gráfico\n",
    "plt.show()"
   ]
  },
  {
   "cell_type": "markdown",
   "id": "1b5dbe34-9c50-439f-8e23-fd15e807ef6f",
   "metadata": {},
   "source": [
    "DIA DE INICIO POR AÑO Y MES"
   ]
  },
  {
   "cell_type": "code",
   "execution_count": 13,
   "id": "0a7b7f35-e018-4905-ac26-528508a11fa4",
   "metadata": {},
   "outputs": [
    {
     "data": {
      "text/html": [
       "<div>\n",
       "<style scoped>\n",
       "    .dataframe tbody tr th:only-of-type {\n",
       "        vertical-align: middle;\n",
       "    }\n",
       "\n",
       "    .dataframe tbody tr th {\n",
       "        vertical-align: top;\n",
       "    }\n",
       "\n",
       "    .dataframe thead th {\n",
       "        text-align: right;\n",
       "    }\n",
       "</style>\n",
       "<table border=\"1\" class=\"dataframe\">\n",
       "  <thead>\n",
       "    <tr style=\"text-align: right;\">\n",
       "      <th></th>\n",
       "      <th>start_year</th>\n",
       "      <th>start_month</th>\n",
       "      <th>dia_frecuente</th>\n",
       "    </tr>\n",
       "  </thead>\n",
       "  <tbody>\n",
       "    <tr>\n",
       "      <th>0</th>\n",
       "      <td>2018</td>\n",
       "      <td>1</td>\n",
       "      <td>26</td>\n",
       "    </tr>\n",
       "    <tr>\n",
       "      <th>1</th>\n",
       "      <td>2018</td>\n",
       "      <td>2</td>\n",
       "      <td>27</td>\n",
       "    </tr>\n",
       "    <tr>\n",
       "      <th>2</th>\n",
       "      <td>2018</td>\n",
       "      <td>3</td>\n",
       "      <td>28</td>\n",
       "    </tr>\n",
       "    <tr>\n",
       "      <th>3</th>\n",
       "      <td>2019</td>\n",
       "      <td>1</td>\n",
       "      <td>8</td>\n",
       "    </tr>\n",
       "    <tr>\n",
       "      <th>4</th>\n",
       "      <td>2019</td>\n",
       "      <td>2</td>\n",
       "      <td>14</td>\n",
       "    </tr>\n",
       "    <tr>\n",
       "      <th>5</th>\n",
       "      <td>2019</td>\n",
       "      <td>3</td>\n",
       "      <td>28</td>\n",
       "    </tr>\n",
       "  </tbody>\n",
       "</table>\n",
       "</div>"
      ],
      "text/plain": [
       "   start_year  start_month  dia_frecuente\n",
       "0        2018            1             26\n",
       "1        2018            2             27\n",
       "2        2018            3             28\n",
       "3        2019            1              8\n",
       "4        2019            2             14\n",
       "5        2019            3             28"
      ]
     },
     "execution_count": 13,
     "metadata": {},
     "output_type": "execute_result"
    }
   ],
   "source": [
    "# Calcular la moda de la columna 'star_day' agrupada por 'Start Year' y star_month\n",
    "moda_por_day = Q1.groupby(['start_year','start_month'])['start_day'].apply(lambda x: x.mode()).reset_index(name='dia_frecuente')\n",
    "moda_por_day = moda_por_day.drop(columns='level_2')\n",
    "moda_por_day"
   ]
  },
  {
   "cell_type": "code",
   "execution_count": 14,
   "id": "e62526c5-0c71-4886-b0a6-affb6b432bfb",
   "metadata": {},
   "outputs": [
    {
     "data": {
      "image/png": "[encoded data removed]",
      "text/plain": [
       "<Figure size 640x480 with 1 Axes>"
      ]
     },
     "metadata": {},
     "output_type": "display_data"
    }
   ],
   "source": [
    "# Crear el gráfico de barras utilizando Seaborn\n",
    "sns.pointplot(x='start_month', y='dia_frecuente', hue='start_year', data=moda_por_day)\n",
    "\n",
    "# Configurar el título del gráfico\n",
    "plt.title('Moda del Día de Inicio por Mes y Año')\n",
    "\n",
    "# Establecer el rango del eje y desde 0 hasta 30\n",
    "plt.ylim(0, 30)\n",
    "\n",
    "# Mostrar el gráfico\n",
    "plt.show()"
   ]
  },
  {
   "cell_type": "markdown",
   "id": "c93d5328-9ac7-4302-a530-125fabac1e97",
   "metadata": {},
   "source": [
    "ESTACIONES MEJORES DE INICIO Y FINAL"
   ]
  },
  {
   "cell_type": "code",
   "execution_count": 15,
   "id": "abacba4d-5f80-4157-acc7-d2ccd2d06a13",
   "metadata": {},
   "outputs": [
    {
     "data": {
      "text/plain": [
       "Clinton St & Washington Blvd    14883\n",
       "Canal St & Adams St             14317\n",
       "Clinton St & Madison St         12092\n",
       "Canal St & Madison St            8848\n",
       "Kingsbury St & Kinzie St         8742\n",
       "Name: from_station_name, dtype: int64"
      ]
     },
     "execution_count": 15,
     "metadata": {},
     "output_type": "execute_result"
    }
   ],
   "source": [
    "# Contar las repeticiones de valores en la columna 'from_station_name', para saber las mejores estaciones\n",
    "mejores_estaciones1 = Q1['from_station_name'].value_counts().head(5)\n",
    "mejores_estaciones1"
   ]
  },
  {
   "cell_type": "code",
   "execution_count": 16,
   "id": "13ca1eae-8dbe-4cc2-9ce8-7692d164f899",
   "metadata": {},
   "outputs": [
    {
     "data": {
      "image/png": "[encoded data removed]",
      "text/plain": [
       "<Figure size 1000x600 with 1 Axes>"
      ]
     },
     "metadata": {},
     "output_type": "display_data"
    }
   ],
   "source": [
    "# Crear el gráfico de barras\n",
    "plt.figure(figsize=(10, 6))\n",
    "sns.barplot(x=mejores_estaciones1.index, y=mejores_estaciones1.values, color='yellow')\n",
    "plt.xlabel('Estación')\n",
    "plt.ylabel('Cantidad')\n",
    "plt.title('Mejores Estaciones de Inicio de los Suscriptores en el 1º Trimestre')\n",
    "# Establecer límites del eje y del gráfico \n",
    "plt.ylim(0, 40000)\n",
    "plt.xticks(rotation=45)\n",
    "\n",
    "# Mostrar el gráfico\n",
    "plt.show()"
   ]
  },
  {
   "cell_type": "raw",
   "id": "ab5552b6-6bba-40d1-ba7c-fe99bcd25e6c",
   "metadata": {},
   "source": [
    "Si vemos un mapa de Chicago, vemos como todas a excepcion de Kingsbury St & Kinzie St, se encuentran muy cerca, debido a que es un complejo de oficinas cerca del edificio de oficinas 500 West Madison y tienen muy cerca estaciones de trenes. Las de inicio y final son parecidas"
   ]
  },
  {
   "cell_type": "code",
   "execution_count": 17,
   "id": "a587544e-6c5a-46cc-b381-cc08195493b2",
   "metadata": {},
   "outputs": [
    {
     "data": {
      "text/plain": [
       "Canal St & Adams St             15337\n",
       "Clinton St & Washington Blvd    13954\n",
       "Clinton St & Madison St         13681\n",
       "Canal St & Madison St            9395\n",
       "Kingsbury St & Kinzie St         8887\n",
       "Name: to_station_name, dtype: int64"
      ]
     },
     "execution_count": 17,
     "metadata": {},
     "output_type": "execute_result"
    }
   ],
   "source": [
    "# Contar las repeticiones de valores en la columna 'to_station_name', para saber las mejores estaciones\n",
    "mejores_estaciones_final = Q1['to_station_name'].value_counts().head(5)\n",
    "mejores_estaciones_final"
   ]
  },
  {
   "cell_type": "code",
   "execution_count": 18,
   "id": "3147cbf1-5788-4f6c-8b05-154a368f3709",
   "metadata": {},
   "outputs": [
    {
     "data": {
      "image/png": "[encoded data removed]",
      "text/plain": [
       "<Figure size 1000x600 with 1 Axes>"
      ]
     },
     "metadata": {},
     "output_type": "display_data"
    }
   ],
   "source": [
    "# Crear el gráfico de barras\n",
    "plt.figure(figsize=(10, 6))\n",
    "sns.barplot(x=mejores_estaciones_final.index, y=mejores_estaciones_final.values, color='yellow')\n",
    "plt.xlabel('Estación')\n",
    "plt.ylabel('Cantidad')\n",
    "plt.title('Mejores Estaciones de Fin de los Suscriptores en el 1º Trimestre')\n",
    "# Establecer límites del eje y del gráfico \n",
    "plt.ylim(0, 40000)\n",
    "plt.xticks(rotation=45)\n",
    "\n",
    "# Mostrar el gráfico\n",
    "plt.show()"
   ]
  },
  {
   "cell_type": "markdown",
   "id": "01da8698-5313-47c2-adf8-1ffde9bd5597",
   "metadata": {},
   "source": [
    "RELACIONAR ESTACION DE INICIO Y FINAL."
   ]
  },
  {
   "cell_type": "code",
   "execution_count": 19,
   "id": "b618f290-74f3-43c2-af50-a9354f26c037",
   "metadata": {},
   "outputs": [
    {
     "data": {
      "text/html": [
       "<div>\n",
       "<style scoped>\n",
       "    .dataframe tbody tr th:only-of-type {\n",
       "        vertical-align: middle;\n",
       "    }\n",
       "\n",
       "    .dataframe tbody tr th {\n",
       "        vertical-align: top;\n",
       "    }\n",
       "\n",
       "    .dataframe thead th {\n",
       "        text-align: right;\n",
       "    }\n",
       "</style>\n",
       "<table border=\"1\" class=\"dataframe\">\n",
       "  <thead>\n",
       "    <tr style=\"text-align: right;\">\n",
       "      <th></th>\n",
       "      <th>tripduration</th>\n",
       "      <th>from_station_name</th>\n",
       "      <th>to_station_name</th>\n",
       "      <th>usertype</th>\n",
       "      <th>gender</th>\n",
       "      <th>start_day</th>\n",
       "      <th>start_month</th>\n",
       "      <th>start_year</th>\n",
       "      <th>Age_range</th>\n",
       "    </tr>\n",
       "  </thead>\n",
       "  <tbody>\n",
       "    <tr>\n",
       "      <th>47</th>\n",
       "      <td>1233.00</td>\n",
       "      <td>Field Blvd &amp; South Water St</td>\n",
       "      <td>Field Blvd &amp; South Water St</td>\n",
       "      <td>Subscriber</td>\n",
       "      <td>Male</td>\n",
       "      <td>1</td>\n",
       "      <td>1</td>\n",
       "      <td>2018</td>\n",
       "      <td>50-65</td>\n",
       "    </tr>\n",
       "    <tr>\n",
       "      <th>79</th>\n",
       "      <td>1871.00</td>\n",
       "      <td>Damen Ave &amp; Leland Ave</td>\n",
       "      <td>Damen Ave &amp; Leland Ave</td>\n",
       "      <td>Subscriber</td>\n",
       "      <td>Male</td>\n",
       "      <td>1</td>\n",
       "      <td>1</td>\n",
       "      <td>2018</td>\n",
       "      <td>50-65</td>\n",
       "    </tr>\n",
       "    <tr>\n",
       "      <th>177</th>\n",
       "      <td>415.00</td>\n",
       "      <td>Damen Ave &amp; Division St</td>\n",
       "      <td>Damen Ave &amp; Division St</td>\n",
       "      <td>Subscriber</td>\n",
       "      <td>Male</td>\n",
       "      <td>1</td>\n",
       "      <td>1</td>\n",
       "      <td>2018</td>\n",
       "      <td>18-29</td>\n",
       "    </tr>\n",
       "    <tr>\n",
       "      <th>179</th>\n",
       "      <td>114.00</td>\n",
       "      <td>Leavitt St &amp; North Ave</td>\n",
       "      <td>Leavitt St &amp; North Ave</td>\n",
       "      <td>Subscriber</td>\n",
       "      <td>Male</td>\n",
       "      <td>1</td>\n",
       "      <td>1</td>\n",
       "      <td>2018</td>\n",
       "      <td>30-50</td>\n",
       "    </tr>\n",
       "    <tr>\n",
       "      <th>198</th>\n",
       "      <td>6430.00</td>\n",
       "      <td>Clark St &amp; Bryn Mawr Ave</td>\n",
       "      <td>Clark St &amp; Bryn Mawr Ave</td>\n",
       "      <td>Subscriber</td>\n",
       "      <td>Male</td>\n",
       "      <td>1</td>\n",
       "      <td>1</td>\n",
       "      <td>2018</td>\n",
       "      <td>30-50</td>\n",
       "    </tr>\n",
       "    <tr>\n",
       "      <th>...</th>\n",
       "      <td>...</td>\n",
       "      <td>...</td>\n",
       "      <td>...</td>\n",
       "      <td>...</td>\n",
       "      <td>...</td>\n",
       "      <td>...</td>\n",
       "      <td>...</td>\n",
       "      <td>...</td>\n",
       "      <td>...</td>\n",
       "    </tr>\n",
       "    <tr>\n",
       "      <th>336206</th>\n",
       "      <td>139.00</td>\n",
       "      <td>McClurg Ct &amp; Illinois St</td>\n",
       "      <td>McClurg Ct &amp; Illinois St</td>\n",
       "      <td>Subscriber</td>\n",
       "      <td>Male</td>\n",
       "      <td>31</td>\n",
       "      <td>3</td>\n",
       "      <td>2019</td>\n",
       "      <td>30-50</td>\n",
       "    </tr>\n",
       "    <tr>\n",
       "      <th>336255</th>\n",
       "      <td>502.00</td>\n",
       "      <td>Lake Shore Dr &amp; Belmont Ave</td>\n",
       "      <td>Lake Shore Dr &amp; Belmont Ave</td>\n",
       "      <td>Subscriber</td>\n",
       "      <td>Male</td>\n",
       "      <td>31</td>\n",
       "      <td>3</td>\n",
       "      <td>2019</td>\n",
       "      <td>30-50</td>\n",
       "    </tr>\n",
       "    <tr>\n",
       "      <th>336305</th>\n",
       "      <td>2493.00</td>\n",
       "      <td>Fairbanks Ct &amp; Grand Ave</td>\n",
       "      <td>Fairbanks Ct &amp; Grand Ave</td>\n",
       "      <td>Subscriber</td>\n",
       "      <td>Male</td>\n",
       "      <td>31</td>\n",
       "      <td>3</td>\n",
       "      <td>2019</td>\n",
       "      <td>30-50</td>\n",
       "    </tr>\n",
       "    <tr>\n",
       "      <th>336333</th>\n",
       "      <td>674.00</td>\n",
       "      <td>Clark St &amp; Ida B Wells Dr</td>\n",
       "      <td>Clark St &amp; Ida B Wells Dr</td>\n",
       "      <td>Subscriber</td>\n",
       "      <td>Male</td>\n",
       "      <td>31</td>\n",
       "      <td>3</td>\n",
       "      <td>2019</td>\n",
       "      <td>50-65</td>\n",
       "    </tr>\n",
       "    <tr>\n",
       "      <th>336342</th>\n",
       "      <td>613.00</td>\n",
       "      <td>Ashland Ave &amp; Division St</td>\n",
       "      <td>Ashland Ave &amp; Division St</td>\n",
       "      <td>Subscriber</td>\n",
       "      <td>Male</td>\n",
       "      <td>31</td>\n",
       "      <td>3</td>\n",
       "      <td>2019</td>\n",
       "      <td>30-50</td>\n",
       "    </tr>\n",
       "  </tbody>\n",
       "</table>\n",
       "<p>7569 rows × 9 columns</p>\n",
       "</div>"
      ],
      "text/plain": [
       "        tripduration            from_station_name  \\\n",
       "47           1233.00  Field Blvd & South Water St   \n",
       "79           1871.00       Damen Ave & Leland Ave   \n",
       "177           415.00      Damen Ave & Division St   \n",
       "179           114.00       Leavitt St & North Ave   \n",
       "198          6430.00     Clark St & Bryn Mawr Ave   \n",
       "...              ...                          ...   \n",
       "336206        139.00     McClurg Ct & Illinois St   \n",
       "336255        502.00  Lake Shore Dr & Belmont Ave   \n",
       "336305       2493.00     Fairbanks Ct & Grand Ave   \n",
       "336333        674.00    Clark St & Ida B Wells Dr   \n",
       "336342        613.00    Ashland Ave & Division St   \n",
       "\n",
       "                    to_station_name    usertype gender  start_day  \\\n",
       "47      Field Blvd & South Water St  Subscriber   Male          1   \n",
       "79           Damen Ave & Leland Ave  Subscriber   Male          1   \n",
       "177         Damen Ave & Division St  Subscriber   Male          1   \n",
       "179          Leavitt St & North Ave  Subscriber   Male          1   \n",
       "198        Clark St & Bryn Mawr Ave  Subscriber   Male          1   \n",
       "...                             ...         ...    ...        ...   \n",
       "336206     McClurg Ct & Illinois St  Subscriber   Male         31   \n",
       "336255  Lake Shore Dr & Belmont Ave  Subscriber   Male         31   \n",
       "336305     Fairbanks Ct & Grand Ave  Subscriber   Male         31   \n",
       "336333    Clark St & Ida B Wells Dr  Subscriber   Male         31   \n",
       "336342    Ashland Ave & Division St  Subscriber   Male         31   \n",
       "\n",
       "        start_month  start_year Age_range  \n",
       "47                1        2018     50-65  \n",
       "79                1        2018     50-65  \n",
       "177               1        2018     18-29  \n",
       "179               1        2018     30-50  \n",
       "198               1        2018     30-50  \n",
       "...             ...         ...       ...  \n",
       "336206            3        2019     30-50  \n",
       "336255            3        2019     30-50  \n",
       "336305            3        2019     30-50  \n",
       "336333            3        2019     50-65  \n",
       "336342            3        2019     30-50  \n",
       "\n",
       "[7569 rows x 9 columns]"
      ]
     },
     "execution_count": 19,
     "metadata": {},
     "output_type": "execute_result"
    }
   ],
   "source": [
    "# Encontrar los viajes que coinciden en inicio y fin de recorrido\n",
    "viajes_coincidentes = Q1[Q1['from_station_name'] == Q1['to_station_name']]\n",
    "viajes_coincidentes"
   ]
  },
  {
   "cell_type": "code",
   "execution_count": 20,
   "id": "9f32edfa-4533-47e3-9895-e1c8eddd64ae",
   "metadata": {},
   "outputs": [
    {
     "data": {
      "text/plain": [
       "7569"
      ]
     },
     "execution_count": 20,
     "metadata": {},
     "output_type": "execute_result"
    }
   ],
   "source": [
    "# Calcular la suma de los recorridos coincidentes por estación\n",
    "suma_recorridos = viajes_coincidentes['from_station_name'].value_counts().sum()\n",
    "suma_recorridos"
   ]
  },
  {
   "cell_type": "code",
   "execution_count": 21,
   "id": "9ff73695-9743-4c9d-bf2b-06579c32ad7a",
   "metadata": {},
   "outputs": [
    {
     "data": {
      "text/plain": [
       "1.0897530958403943"
      ]
     },
     "execution_count": 21,
     "metadata": {},
     "output_type": "execute_result"
    }
   ],
   "source": [
    "proporcion_viajes_iguales = suma_recorridos / len(Q1) * 100 #proporcion de viajes coincidentes\n",
    "proporcion_viajes_iguales"
   ]
  },
  {
   "cell_type": "markdown",
   "id": "cd028169-f658-4c87-b791-12186e488d67",
   "metadata": {},
   "source": [
    "SABER CUANTOS DE ESTOS VIAJES QUE COINCIDEN SON DE LAS MEJORES ESTACIONES"
   ]
  },
  {
   "cell_type": "code",
   "execution_count": 22,
   "id": "24111624-c6fd-4670-bf12-867a5e7a2f5b",
   "metadata": {},
   "outputs": [],
   "source": [
    "#estaciones mejores\n",
    "estaciones1=['Clinton St & Washington Blvd','Canal St & Adams St','Clinton St & Madison St','Canal St & Madison St','Kingsbury St & Kinzie St']"
   ]
  },
  {
   "cell_type": "code",
   "execution_count": 23,
   "id": "3ddfad14-907e-4317-af94-716f08857f66",
   "metadata": {},
   "outputs": [
    {
     "data": {
      "text/html": [
       "<div>\n",
       "<style scoped>\n",
       "    .dataframe tbody tr th:only-of-type {\n",
       "        vertical-align: middle;\n",
       "    }\n",
       "\n",
       "    .dataframe tbody tr th {\n",
       "        vertical-align: top;\n",
       "    }\n",
       "\n",
       "    .dataframe thead th {\n",
       "        text-align: right;\n",
       "    }\n",
       "</style>\n",
       "<table border=\"1\" class=\"dataframe\">\n",
       "  <thead>\n",
       "    <tr style=\"text-align: right;\">\n",
       "      <th></th>\n",
       "      <th>tripduration</th>\n",
       "      <th>from_station_name</th>\n",
       "      <th>to_station_name</th>\n",
       "      <th>usertype</th>\n",
       "      <th>gender</th>\n",
       "      <th>start_day</th>\n",
       "      <th>start_month</th>\n",
       "      <th>start_year</th>\n",
       "      <th>Age_range</th>\n",
       "    </tr>\n",
       "  </thead>\n",
       "  <tbody>\n",
       "    <tr>\n",
       "      <th>4439</th>\n",
       "      <td>61.00</td>\n",
       "      <td>Clinton St &amp; Washington Blvd</td>\n",
       "      <td>Clinton St &amp; Washington Blvd</td>\n",
       "      <td>Subscriber</td>\n",
       "      <td>Male</td>\n",
       "      <td>4</td>\n",
       "      <td>1</td>\n",
       "      <td>2018</td>\n",
       "      <td>30-50</td>\n",
       "    </tr>\n",
       "    <tr>\n",
       "      <th>7240</th>\n",
       "      <td>66.00</td>\n",
       "      <td>Clinton St &amp; Washington Blvd</td>\n",
       "      <td>Clinton St &amp; Washington Blvd</td>\n",
       "      <td>Subscriber</td>\n",
       "      <td>Male</td>\n",
       "      <td>5</td>\n",
       "      <td>1</td>\n",
       "      <td>2018</td>\n",
       "      <td>30-50</td>\n",
       "    </tr>\n",
       "    <tr>\n",
       "      <th>8077</th>\n",
       "      <td>66.00</td>\n",
       "      <td>Kingsbury St &amp; Kinzie St</td>\n",
       "      <td>Kingsbury St &amp; Kinzie St</td>\n",
       "      <td>Subscriber</td>\n",
       "      <td>Male</td>\n",
       "      <td>5</td>\n",
       "      <td>1</td>\n",
       "      <td>2018</td>\n",
       "      <td>18-29</td>\n",
       "    </tr>\n",
       "    <tr>\n",
       "      <th>8795</th>\n",
       "      <td>88.00</td>\n",
       "      <td>Clinton St &amp; Madison St</td>\n",
       "      <td>Clinton St &amp; Madison St</td>\n",
       "      <td>Subscriber</td>\n",
       "      <td>Male</td>\n",
       "      <td>5</td>\n",
       "      <td>1</td>\n",
       "      <td>2018</td>\n",
       "      <td>18-29</td>\n",
       "    </tr>\n",
       "    <tr>\n",
       "      <th>11116</th>\n",
       "      <td>105.00</td>\n",
       "      <td>Clinton St &amp; Washington Blvd</td>\n",
       "      <td>Clinton St &amp; Washington Blvd</td>\n",
       "      <td>Subscriber</td>\n",
       "      <td>Male</td>\n",
       "      <td>8</td>\n",
       "      <td>1</td>\n",
       "      <td>2018</td>\n",
       "      <td>50-65</td>\n",
       "    </tr>\n",
       "    <tr>\n",
       "      <th>...</th>\n",
       "      <td>...</td>\n",
       "      <td>...</td>\n",
       "      <td>...</td>\n",
       "      <td>...</td>\n",
       "      <td>...</td>\n",
       "      <td>...</td>\n",
       "      <td>...</td>\n",
       "      <td>...</td>\n",
       "      <td>...</td>\n",
       "    </tr>\n",
       "    <tr>\n",
       "      <th>311141</th>\n",
       "      <td>1095.00</td>\n",
       "      <td>Clinton St &amp; Madison St</td>\n",
       "      <td>Clinton St &amp; Madison St</td>\n",
       "      <td>Subscriber</td>\n",
       "      <td>Male</td>\n",
       "      <td>27</td>\n",
       "      <td>3</td>\n",
       "      <td>2019</td>\n",
       "      <td>30-50</td>\n",
       "    </tr>\n",
       "    <tr>\n",
       "      <th>321735</th>\n",
       "      <td>118.00</td>\n",
       "      <td>Kingsbury St &amp; Kinzie St</td>\n",
       "      <td>Kingsbury St &amp; Kinzie St</td>\n",
       "      <td>Subscriber</td>\n",
       "      <td>Female</td>\n",
       "      <td>28</td>\n",
       "      <td>3</td>\n",
       "      <td>2019</td>\n",
       "      <td>30-50</td>\n",
       "    </tr>\n",
       "    <tr>\n",
       "      <th>326801</th>\n",
       "      <td>773.00</td>\n",
       "      <td>Kingsbury St &amp; Kinzie St</td>\n",
       "      <td>Kingsbury St &amp; Kinzie St</td>\n",
       "      <td>Subscriber</td>\n",
       "      <td>Male</td>\n",
       "      <td>29</td>\n",
       "      <td>3</td>\n",
       "      <td>2019</td>\n",
       "      <td>18-29</td>\n",
       "    </tr>\n",
       "    <tr>\n",
       "      <th>330290</th>\n",
       "      <td>628.00</td>\n",
       "      <td>Clinton St &amp; Washington Blvd</td>\n",
       "      <td>Clinton St &amp; Washington Blvd</td>\n",
       "      <td>Subscriber</td>\n",
       "      <td>Male</td>\n",
       "      <td>29</td>\n",
       "      <td>3</td>\n",
       "      <td>2019</td>\n",
       "      <td>18-29</td>\n",
       "    </tr>\n",
       "    <tr>\n",
       "      <th>330793</th>\n",
       "      <td>799.00</td>\n",
       "      <td>Canal St &amp; Adams St</td>\n",
       "      <td>Canal St &amp; Adams St</td>\n",
       "      <td>Subscriber</td>\n",
       "      <td>Male</td>\n",
       "      <td>29</td>\n",
       "      <td>3</td>\n",
       "      <td>2019</td>\n",
       "      <td>30-50</td>\n",
       "    </tr>\n",
       "  </tbody>\n",
       "</table>\n",
       "<p>216 rows × 9 columns</p>\n",
       "</div>"
      ],
      "text/plain": [
       "        tripduration             from_station_name  \\\n",
       "4439           61.00  Clinton St & Washington Blvd   \n",
       "7240           66.00  Clinton St & Washington Blvd   \n",
       "8077           66.00      Kingsbury St & Kinzie St   \n",
       "8795           88.00       Clinton St & Madison St   \n",
       "11116         105.00  Clinton St & Washington Blvd   \n",
       "...              ...                           ...   \n",
       "311141       1095.00       Clinton St & Madison St   \n",
       "321735        118.00      Kingsbury St & Kinzie St   \n",
       "326801        773.00      Kingsbury St & Kinzie St   \n",
       "330290        628.00  Clinton St & Washington Blvd   \n",
       "330793        799.00           Canal St & Adams St   \n",
       "\n",
       "                     to_station_name    usertype  gender  start_day  \\\n",
       "4439    Clinton St & Washington Blvd  Subscriber    Male          4   \n",
       "7240    Clinton St & Washington Blvd  Subscriber    Male          5   \n",
       "8077        Kingsbury St & Kinzie St  Subscriber    Male          5   \n",
       "8795         Clinton St & Madison St  Subscriber    Male          5   \n",
       "11116   Clinton St & Washington Blvd  Subscriber    Male          8   \n",
       "...                              ...         ...     ...        ...   \n",
       "311141       Clinton St & Madison St  Subscriber    Male         27   \n",
       "321735      Kingsbury St & Kinzie St  Subscriber  Female         28   \n",
       "326801      Kingsbury St & Kinzie St  Subscriber    Male         29   \n",
       "330290  Clinton St & Washington Blvd  Subscriber    Male         29   \n",
       "330793           Canal St & Adams St  Subscriber    Male         29   \n",
       "\n",
       "        start_month  start_year Age_range  \n",
       "4439              1        2018     30-50  \n",
       "7240              1        2018     30-50  \n",
       "8077              1        2018     18-29  \n",
       "8795              1        2018     18-29  \n",
       "11116             1        2018     50-65  \n",
       "...             ...         ...       ...  \n",
       "311141            3        2019     30-50  \n",
       "321735            3        2019     30-50  \n",
       "326801            3        2019     18-29  \n",
       "330290            3        2019     18-29  \n",
       "330793            3        2019     30-50  \n",
       "\n",
       "[216 rows x 9 columns]"
      ]
     },
     "execution_count": 23,
     "metadata": {},
     "output_type": "execute_result"
    }
   ],
   "source": [
    "# Filtrar los viajes coincidentes con las mejores estaciones\n",
    "viajesft = Q1[Q1['from_station_name'].isin(estaciones1) & Q1['to_station_name'].isin(estaciones1) & (Q1['from_station_name'] == Q1['to_station_name'])]\n",
    "viajesft"
   ]
  },
  {
   "cell_type": "code",
   "execution_count": 24,
   "id": "585caab6-c000-4c52-9d07-0322de8e5cda",
   "metadata": {},
   "outputs": [
    {
     "data": {
      "text/plain": [
       "216"
      ]
     },
     "execution_count": 24,
     "metadata": {},
     "output_type": "execute_result"
    }
   ],
   "source": [
    "sum_viajesft = viajesft['from_station_name'].value_counts().sum()\n",
    "sum_viajesft"
   ]
  },
  {
   "cell_type": "code",
   "execution_count": 25,
   "id": "37bf570f-4f9a-4bb2-88dc-8092d41ecccd",
   "metadata": {},
   "outputs": [
    {
     "data": {
      "text/plain": [
       "2.853745541022592"
      ]
     },
     "execution_count": 25,
     "metadata": {},
     "output_type": "execute_result"
    }
   ],
   "source": [
    "# Calcular el porcentaje de viajes coincidentes con las mejores estaciones\n",
    "porcentaje_coincidentes = (sum_viajesft / suma_recorridos) * 100\n",
    "porcentaje_coincidentes"
   ]
  },
  {
   "cell_type": "markdown",
   "id": "8fcb4249-943a-4b38-bbac-6f62b4851cfd",
   "metadata": {
    "tags": []
   },
   "source": [
    "# 2º TRIMESTRE 2018 y 2019"
   ]
  },
  {
   "cell_type": "code",
   "execution_count": 26,
   "id": "7630b035-76b8-424e-843d-e06aaf8e72a5",
   "metadata": {},
   "outputs": [],
   "source": [
    "# Cargar los dataset dataset\n",
    "Q22018 = pd.read_csv('SUSQ218CLEAN.csv')\n",
    "Q22019 = pd.read_csv('SUSQ219CLEAN.csv')\n",
    "# Fusionar los datasets por columnas comunes\n",
    "Q2 = pd.concat([Q22018, Q22019])"
   ]
  },
  {
   "cell_type": "code",
   "execution_count": 27,
   "id": "4dfc53a3-0c73-46a9-8155-92e04a59b126",
   "metadata": {},
   "outputs": [
    {
     "data": {
      "text/html": [
       "<div>\n",
       "<style scoped>\n",
       "    .dataframe tbody tr th:only-of-type {\n",
       "        vertical-align: middle;\n",
       "    }\n",
       "\n",
       "    .dataframe tbody tr th {\n",
       "        vertical-align: top;\n",
       "    }\n",
       "\n",
       "    .dataframe thead th {\n",
       "        text-align: right;\n",
       "    }\n",
       "</style>\n",
       "<table border=\"1\" class=\"dataframe\">\n",
       "  <thead>\n",
       "    <tr style=\"text-align: right;\">\n",
       "      <th></th>\n",
       "      <th>tripduration</th>\n",
       "      <th>from_station_name</th>\n",
       "      <th>to_station_name</th>\n",
       "      <th>usertype</th>\n",
       "      <th>gender</th>\n",
       "      <th>start_day</th>\n",
       "      <th>start_month</th>\n",
       "      <th>start_year</th>\n",
       "      <th>Age_range</th>\n",
       "    </tr>\n",
       "  </thead>\n",
       "  <tbody>\n",
       "    <tr>\n",
       "      <th>0</th>\n",
       "      <td>499.00</td>\n",
       "      <td>May St &amp; Taylor St</td>\n",
       "      <td>May St &amp; Cullerton St</td>\n",
       "      <td>Subscriber</td>\n",
       "      <td>Male</td>\n",
       "      <td>1</td>\n",
       "      <td>4</td>\n",
       "      <td>2018</td>\n",
       "      <td>18-29</td>\n",
       "    </tr>\n",
       "    <tr>\n",
       "      <th>1</th>\n",
       "      <td>1225.00</td>\n",
       "      <td>Lake Shore Dr &amp; Wellington Ave</td>\n",
       "      <td>Southport Ave &amp; Wrightwood Ave</td>\n",
       "      <td>Subscriber</td>\n",
       "      <td>Male</td>\n",
       "      <td>1</td>\n",
       "      <td>4</td>\n",
       "      <td>2018</td>\n",
       "      <td>50-65</td>\n",
       "    </tr>\n",
       "    <tr>\n",
       "      <th>2</th>\n",
       "      <td>434.00</td>\n",
       "      <td>Morgan St &amp; Polk St</td>\n",
       "      <td>May St &amp; Cullerton St</td>\n",
       "      <td>Subscriber</td>\n",
       "      <td>Male</td>\n",
       "      <td>1</td>\n",
       "      <td>4</td>\n",
       "      <td>2018</td>\n",
       "      <td>18-29</td>\n",
       "    </tr>\n",
       "    <tr>\n",
       "      <th>3</th>\n",
       "      <td>709.00</td>\n",
       "      <td>Damen Ave &amp; Melrose Ave</td>\n",
       "      <td>Damen Ave &amp; Cortland St</td>\n",
       "      <td>Subscriber</td>\n",
       "      <td>Male</td>\n",
       "      <td>1</td>\n",
       "      <td>4</td>\n",
       "      <td>2018</td>\n",
       "      <td>30-50</td>\n",
       "    </tr>\n",
       "    <tr>\n",
       "      <th>4</th>\n",
       "      <td>659.00</td>\n",
       "      <td>Ravenswood Ave &amp; Irving Park Rd</td>\n",
       "      <td>Clark St &amp; Winnemac Ave (Temp)</td>\n",
       "      <td>Subscriber</td>\n",
       "      <td>Male</td>\n",
       "      <td>1</td>\n",
       "      <td>4</td>\n",
       "      <td>2018</td>\n",
       "      <td>18-29</td>\n",
       "    </tr>\n",
       "  </tbody>\n",
       "</table>\n",
       "</div>"
      ],
      "text/plain": [
       "   tripduration                from_station_name  \\\n",
       "0        499.00               May St & Taylor St   \n",
       "1       1225.00   Lake Shore Dr & Wellington Ave   \n",
       "2        434.00              Morgan St & Polk St   \n",
       "3        709.00          Damen Ave & Melrose Ave   \n",
       "4        659.00  Ravenswood Ave & Irving Park Rd   \n",
       "\n",
       "                  to_station_name    usertype gender  start_day  start_month  \\\n",
       "0           May St & Cullerton St  Subscriber   Male          1            4   \n",
       "1  Southport Ave & Wrightwood Ave  Subscriber   Male          1            4   \n",
       "2           May St & Cullerton St  Subscriber   Male          1            4   \n",
       "3         Damen Ave & Cortland St  Subscriber   Male          1            4   \n",
       "4  Clark St & Winnemac Ave (Temp)  Subscriber   Male          1            4   \n",
       "\n",
       "   start_year Age_range  \n",
       "0        2018     18-29  \n",
       "1        2018     50-65  \n",
       "2        2018     18-29  \n",
       "3        2018     30-50  \n",
       "4        2018     18-29  "
      ]
     },
     "execution_count": 27,
     "metadata": {},
     "output_type": "execute_result"
    }
   ],
   "source": [
    "Q2.head()"
   ]
  },
  {
   "cell_type": "code",
   "execution_count": 28,
   "id": "94050469-d861-4ea3-af3a-6088a9919f4d",
   "metadata": {},
   "outputs": [
    {
     "data": {
      "text/plain": [
       "(1646264, 9)"
      ]
     },
     "execution_count": 28,
     "metadata": {},
     "output_type": "execute_result"
    }
   ],
   "source": [
    "Q2.shape"
   ]
  },
  {
   "cell_type": "code",
   "execution_count": 29,
   "id": "c0bc1bbf-a771-4732-972a-06b7ffb72ecd",
   "metadata": {},
   "outputs": [
    {
     "data": {
      "text/html": [
       "<div>\n",
       "<style scoped>\n",
       "    .dataframe tbody tr th:only-of-type {\n",
       "        vertical-align: middle;\n",
       "    }\n",
       "\n",
       "    .dataframe tbody tr th {\n",
       "        vertical-align: top;\n",
       "    }\n",
       "\n",
       "    .dataframe thead th {\n",
       "        text-align: right;\n",
       "    }\n",
       "</style>\n",
       "<table border=\"1\" class=\"dataframe\">\n",
       "  <thead>\n",
       "    <tr style=\"text-align: right;\">\n",
       "      <th></th>\n",
       "      <th>tripduration</th>\n",
       "      <th>start_day</th>\n",
       "      <th>start_month</th>\n",
       "      <th>start_year</th>\n",
       "    </tr>\n",
       "  </thead>\n",
       "  <tbody>\n",
       "    <tr>\n",
       "      <th>count</th>\n",
       "      <td>1646264.00</td>\n",
       "      <td>1646264.00</td>\n",
       "      <td>1646264.00</td>\n",
       "      <td>1646264.00</td>\n",
       "    </tr>\n",
       "    <tr>\n",
       "      <th>mean</th>\n",
       "      <td>732.52</td>\n",
       "      <td>16.08</td>\n",
       "      <td>5.18</td>\n",
       "      <td>2018.50</td>\n",
       "    </tr>\n",
       "    <tr>\n",
       "      <th>std</th>\n",
       "      <td>493.01</td>\n",
       "      <td>8.85</td>\n",
       "      <td>0.78</td>\n",
       "      <td>0.50</td>\n",
       "    </tr>\n",
       "    <tr>\n",
       "      <th>min</th>\n",
       "      <td>61.00</td>\n",
       "      <td>1.00</td>\n",
       "      <td>4.00</td>\n",
       "      <td>2018.00</td>\n",
       "    </tr>\n",
       "    <tr>\n",
       "      <th>25%</th>\n",
       "      <td>367.00</td>\n",
       "      <td>8.00</td>\n",
       "      <td>5.00</td>\n",
       "      <td>2018.00</td>\n",
       "    </tr>\n",
       "    <tr>\n",
       "      <th>50%</th>\n",
       "      <td>595.00</td>\n",
       "      <td>16.00</td>\n",
       "      <td>5.00</td>\n",
       "      <td>2018.00</td>\n",
       "    </tr>\n",
       "    <tr>\n",
       "      <th>75%</th>\n",
       "      <td>967.00</td>\n",
       "      <td>24.00</td>\n",
       "      <td>6.00</td>\n",
       "      <td>2019.00</td>\n",
       "    </tr>\n",
       "    <tr>\n",
       "      <th>max</th>\n",
       "      <td>3419.00</td>\n",
       "      <td>31.00</td>\n",
       "      <td>6.00</td>\n",
       "      <td>2019.00</td>\n",
       "    </tr>\n",
       "  </tbody>\n",
       "</table>\n",
       "</div>"
      ],
      "text/plain": [
       "       tripduration  start_day  start_month  start_year\n",
       "count    1646264.00 1646264.00   1646264.00  1646264.00\n",
       "mean         732.52      16.08         5.18     2018.50\n",
       "std          493.01       8.85         0.78        0.50\n",
       "min           61.00       1.00         4.00     2018.00\n",
       "25%          367.00       8.00         5.00     2018.00\n",
       "50%          595.00      16.00         5.00     2018.00\n",
       "75%          967.00      24.00         6.00     2019.00\n",
       "max         3419.00      31.00         6.00     2019.00"
      ]
     },
     "execution_count": 29,
     "metadata": {},
     "output_type": "execute_result"
    }
   ],
   "source": [
    "# Desactivar la notación científica\n",
    "pd.set_option('display.float_format', '{:.2f}'.format)\n",
    "Q2.describe()"
   ]
  },
  {
   "cell_type": "markdown",
   "id": "8e8dbe17-d1e6-4b8c-841f-c9c58cd4d28f",
   "metadata": {},
   "source": [
    "Trabajar con la edad"
   ]
  },
  {
   "cell_type": "code",
   "execution_count": 30,
   "id": "eeb73838-b81f-4216-a006-7f577dc1ba14",
   "metadata": {},
   "outputs": [
    {
     "data": {
      "text/html": [
       "<div>\n",
       "<style scoped>\n",
       "    .dataframe tbody tr th:only-of-type {\n",
       "        vertical-align: middle;\n",
       "    }\n",
       "\n",
       "    .dataframe tbody tr th {\n",
       "        vertical-align: top;\n",
       "    }\n",
       "\n",
       "    .dataframe thead th {\n",
       "        text-align: right;\n",
       "    }\n",
       "</style>\n",
       "<table border=\"1\" class=\"dataframe\">\n",
       "  <thead>\n",
       "    <tr style=\"text-align: right;\">\n",
       "      <th></th>\n",
       "      <th>Age_range</th>\n",
       "      <th>start_year</th>\n",
       "      <th>count</th>\n",
       "    </tr>\n",
       "  </thead>\n",
       "  <tbody>\n",
       "    <tr>\n",
       "      <th>0</th>\n",
       "      <td>18-29</td>\n",
       "      <td>2018</td>\n",
       "      <td>256255</td>\n",
       "    </tr>\n",
       "    <tr>\n",
       "      <th>1</th>\n",
       "      <td>18-29</td>\n",
       "      <td>2019</td>\n",
       "      <td>300147</td>\n",
       "    </tr>\n",
       "    <tr>\n",
       "      <th>2</th>\n",
       "      <td>30-50</td>\n",
       "      <td>2018</td>\n",
       "      <td>468226</td>\n",
       "    </tr>\n",
       "    <tr>\n",
       "      <th>3</th>\n",
       "      <td>30-50</td>\n",
       "      <td>2019</td>\n",
       "      <td>428375</td>\n",
       "    </tr>\n",
       "    <tr>\n",
       "      <th>4</th>\n",
       "      <td>50-65</td>\n",
       "      <td>2018</td>\n",
       "      <td>99693</td>\n",
       "    </tr>\n",
       "    <tr>\n",
       "      <th>5</th>\n",
       "      <td>50-65</td>\n",
       "      <td>2019</td>\n",
       "      <td>93568</td>\n",
       "    </tr>\n",
       "  </tbody>\n",
       "</table>\n",
       "</div>"
      ],
      "text/plain": [
       "  Age_range  start_year   count\n",
       "0     18-29        2018  256255\n",
       "1     18-29        2019  300147\n",
       "2     30-50        2018  468226\n",
       "3     30-50        2019  428375\n",
       "4     50-65        2018   99693\n",
       "5     50-65        2019   93568"
      ]
     },
     "execution_count": 30,
     "metadata": {},
     "output_type": "execute_result"
    }
   ],
   "source": [
    "# Calcular la suma de cada rango de edad\n",
    "rang_anoS2 = Q2.groupby(['Age_range','start_year']).size().reset_index(name='count')\n",
    "rang_anoS2"
   ]
  },
  {
   "cell_type": "code",
   "execution_count": 31,
   "id": "0de820c9-1d56-47f6-b7fe-922894be9111",
   "metadata": {},
   "outputs": [
    {
     "data": {
      "image/png": "[encoded data removed]",
      "text/plain": [
       "<Figure size 640x480 with 1 Axes>"
      ]
     },
     "metadata": {},
     "output_type": "display_data"
    }
   ],
   "source": [
    "# Crear el gráfico de barras utilizando Seaborn\n",
    "sns.barplot(x='Age_range', y='count', hue='start_year', data=rang_anoS2)\n",
    "\n",
    "# Configurar el título del gráfico\n",
    "plt.title('Rango de Edad por Año de los Suscriptores en el 2º Trimestre')\n",
    "\n",
    "# Establecer límites del eje y del gráfico \n",
    "plt.ylim(0, 600000)\n",
    "\n",
    "# Mostrar el gráfico\n",
    "plt.show()"
   ]
  },
  {
   "cell_type": "markdown",
   "id": "baa94ab4-8d2c-49ad-8d42-dfae640bfbd9",
   "metadata": {},
   "source": [
    "Trabajar con la duracion del viaje"
   ]
  },
  {
   "cell_type": "code",
   "execution_count": 32,
   "id": "1d4cd856-5d65-4275-b70b-715281cf9c52",
   "metadata": {},
   "outputs": [
    {
     "data": {
      "text/html": [
       "<div>\n",
       "<style scoped>\n",
       "    .dataframe tbody tr th:only-of-type {\n",
       "        vertical-align: middle;\n",
       "    }\n",
       "\n",
       "    .dataframe tbody tr th {\n",
       "        vertical-align: top;\n",
       "    }\n",
       "\n",
       "    .dataframe thead th {\n",
       "        text-align: right;\n",
       "    }\n",
       "</style>\n",
       "<table border=\"1\" class=\"dataframe\">\n",
       "  <thead>\n",
       "    <tr style=\"text-align: right;\">\n",
       "      <th></th>\n",
       "      <th>Age_range</th>\n",
       "      <th>start_year</th>\n",
       "      <th>mean_tripduration</th>\n",
       "    </tr>\n",
       "  </thead>\n",
       "  <tbody>\n",
       "    <tr>\n",
       "      <th>0</th>\n",
       "      <td>18-29</td>\n",
       "      <td>2018</td>\n",
       "      <td>743.24</td>\n",
       "    </tr>\n",
       "    <tr>\n",
       "      <th>1</th>\n",
       "      <td>18-29</td>\n",
       "      <td>2019</td>\n",
       "      <td>734.85</td>\n",
       "    </tr>\n",
       "    <tr>\n",
       "      <th>2</th>\n",
       "      <td>30-50</td>\n",
       "      <td>2018</td>\n",
       "      <td>735.80</td>\n",
       "    </tr>\n",
       "    <tr>\n",
       "      <th>3</th>\n",
       "      <td>30-50</td>\n",
       "      <td>2019</td>\n",
       "      <td>731.19</td>\n",
       "    </tr>\n",
       "    <tr>\n",
       "      <th>4</th>\n",
       "      <td>50-65</td>\n",
       "      <td>2018</td>\n",
       "      <td>712.44</td>\n",
       "    </tr>\n",
       "    <tr>\n",
       "      <th>5</th>\n",
       "      <td>50-65</td>\n",
       "      <td>2019</td>\n",
       "      <td>706.80</td>\n",
       "    </tr>\n",
       "  </tbody>\n",
       "</table>\n",
       "</div>"
      ],
      "text/plain": [
       "  Age_range  start_year  mean_tripduration\n",
       "0     18-29        2018             743.24\n",
       "1     18-29        2019             734.85\n",
       "2     30-50        2018             735.80\n",
       "3     30-50        2019             731.19\n",
       "4     50-65        2018             712.44\n",
       "5     50-65        2019             706.80"
      ]
     },
     "execution_count": 32,
     "metadata": {},
     "output_type": "execute_result"
    }
   ],
   "source": [
    "# Calcular la media de la columna 'tripduration' por rango de edad y año\n",
    "trip2 = Q2.groupby(['Age_range', 'start_year'])['tripduration'].mean().reset_index(name='mean_tripduration')\n",
    "trip2"
   ]
  },
  {
   "cell_type": "code",
   "execution_count": 33,
   "id": "a7d406ef-ceab-45a2-a83d-4171676875d9",
   "metadata": {},
   "outputs": [
    {
     "data": {
      "image/png": "[encoded data removed]",
      "text/plain": [
       "<Figure size 640x480 with 1 Axes>"
      ]
     },
     "metadata": {},
     "output_type": "display_data"
    }
   ],
   "source": [
    "# Crear el gráfico de barras utilizando Seaborn\n",
    "sns.barplot(x='Age_range', y='mean_tripduration', hue='start_year', data=trip2)\n",
    "\n",
    "# Configurar el título del gráfico\n",
    "plt.title('Duración del Viaje de los Suscriptores en el 2º Trimestre')\n",
    "\n",
    "# Establecer límites del eje y del gráfico \n",
    "plt.ylim(0, 1000)\n",
    "\n",
    "# Mostrar el gráfico\n",
    "plt.show()"
   ]
  },
  {
   "cell_type": "markdown",
   "id": "1eebe11d-14f9-49a5-8387-aa7b89ad25b7",
   "metadata": {},
   "source": [
    "Trabajar con el género"
   ]
  },
  {
   "cell_type": "code",
   "execution_count": 34,
   "id": "71042e4b-d324-4602-8315-d01a5c83aae4",
   "metadata": {},
   "outputs": [
    {
     "data": {
      "text/html": [
       "<div>\n",
       "<style scoped>\n",
       "    .dataframe tbody tr th:only-of-type {\n",
       "        vertical-align: middle;\n",
       "    }\n",
       "\n",
       "    .dataframe tbody tr th {\n",
       "        vertical-align: top;\n",
       "    }\n",
       "\n",
       "    .dataframe thead th {\n",
       "        text-align: right;\n",
       "    }\n",
       "</style>\n",
       "<table border=\"1\" class=\"dataframe\">\n",
       "  <thead>\n",
       "    <tr style=\"text-align: right;\">\n",
       "      <th></th>\n",
       "      <th>gender</th>\n",
       "      <th>start_year</th>\n",
       "      <th>count</th>\n",
       "    </tr>\n",
       "  </thead>\n",
       "  <tbody>\n",
       "    <tr>\n",
       "      <th>0</th>\n",
       "      <td>Female</td>\n",
       "      <td>2018</td>\n",
       "      <td>207840</td>\n",
       "    </tr>\n",
       "    <tr>\n",
       "      <th>1</th>\n",
       "      <td>Female</td>\n",
       "      <td>2019</td>\n",
       "      <td>204069</td>\n",
       "    </tr>\n",
       "    <tr>\n",
       "      <th>2</th>\n",
       "      <td>Male</td>\n",
       "      <td>2018</td>\n",
       "      <td>616334</td>\n",
       "    </tr>\n",
       "    <tr>\n",
       "      <th>3</th>\n",
       "      <td>Male</td>\n",
       "      <td>2019</td>\n",
       "      <td>618021</td>\n",
       "    </tr>\n",
       "  </tbody>\n",
       "</table>\n",
       "</div>"
      ],
      "text/plain": [
       "   gender  start_year   count\n",
       "0  Female        2018  207840\n",
       "1  Female        2019  204069\n",
       "2    Male        2018  616334\n",
       "3    Male        2019  618021"
      ]
     },
     "execution_count": 34,
     "metadata": {},
     "output_type": "execute_result"
    }
   ],
   "source": [
    "# Calcular la suma de cada rango de edad\n",
    "gend_ano2 = Q2.groupby(['gender','start_year']).size().reset_index(name='count')\n",
    "gend_ano2"
   ]
  },
  {
   "cell_type": "code",
   "execution_count": 35,
   "id": "bdb8730d-a809-4752-a6e8-3bd677e09157",
   "metadata": {},
   "outputs": [
    {
     "data": {
      "image/png": "[encoded data removed]",
      "text/plain": [
       "<Figure size 640x480 with 1 Axes>"
      ]
     },
     "metadata": {},
     "output_type": "display_data"
    }
   ],
   "source": [
    "# Crear el gráfico de barras utilizando Seaborn\n",
    "sns.barplot(x='gender', y='count', hue='start_year', data=gend_ano2)\n",
    "\n",
    "# Establecer el título del gráfico\n",
    "plt.title('Género en los Suscriptores en el 2º Trimestre')\n",
    "\n",
    "# Establecer límites del eje y del gráfico \n",
    "plt.ylim(0, 900000)\n",
    "\n",
    "# Mostrar el gráfico\n",
    "plt.show()"
   ]
  },
  {
   "cell_type": "markdown",
   "id": "293867dc-014d-4cd8-adcb-e895bef55f92",
   "metadata": {},
   "source": [
    "Dia de inicio por año y mes"
   ]
  },
  {
   "cell_type": "code",
   "execution_count": 36,
   "id": "ed648aef-e2cb-4f36-9655-da76c65ef4a6",
   "metadata": {},
   "outputs": [
    {
     "data": {
      "text/html": [
       "<div>\n",
       "<style scoped>\n",
       "    .dataframe tbody tr th:only-of-type {\n",
       "        vertical-align: middle;\n",
       "    }\n",
       "\n",
       "    .dataframe tbody tr th {\n",
       "        vertical-align: top;\n",
       "    }\n",
       "\n",
       "    .dataframe thead th {\n",
       "        text-align: right;\n",
       "    }\n",
       "</style>\n",
       "<table border=\"1\" class=\"dataframe\">\n",
       "  <thead>\n",
       "    <tr style=\"text-align: right;\">\n",
       "      <th></th>\n",
       "      <th>start_year</th>\n",
       "      <th>start_month</th>\n",
       "      <th>dia_frecuente</th>\n",
       "    </tr>\n",
       "  </thead>\n",
       "  <tbody>\n",
       "    <tr>\n",
       "      <th>0</th>\n",
       "      <td>2018</td>\n",
       "      <td>4</td>\n",
       "      <td>30</td>\n",
       "    </tr>\n",
       "    <tr>\n",
       "      <th>1</th>\n",
       "      <td>2018</td>\n",
       "      <td>5</td>\n",
       "      <td>31</td>\n",
       "    </tr>\n",
       "    <tr>\n",
       "      <th>2</th>\n",
       "      <td>2018</td>\n",
       "      <td>6</td>\n",
       "      <td>13</td>\n",
       "    </tr>\n",
       "    <tr>\n",
       "      <th>3</th>\n",
       "      <td>2019</td>\n",
       "      <td>4</td>\n",
       "      <td>8</td>\n",
       "    </tr>\n",
       "    <tr>\n",
       "      <th>4</th>\n",
       "      <td>2019</td>\n",
       "      <td>5</td>\n",
       "      <td>23</td>\n",
       "    </tr>\n",
       "    <tr>\n",
       "      <th>5</th>\n",
       "      <td>2019</td>\n",
       "      <td>6</td>\n",
       "      <td>26</td>\n",
       "    </tr>\n",
       "  </tbody>\n",
       "</table>\n",
       "</div>"
      ],
      "text/plain": [
       "   start_year  start_month  dia_frecuente\n",
       "0        2018            4             30\n",
       "1        2018            5             31\n",
       "2        2018            6             13\n",
       "3        2019            4              8\n",
       "4        2019            5             23\n",
       "5        2019            6             26"
      ]
     },
     "execution_count": 36,
     "metadata": {},
     "output_type": "execute_result"
    }
   ],
   "source": [
    "# Calcular la moda de la columna 'star_day' agrupada por 'Start Year' y star_month\n",
    "moda_por_day2 = Q2.groupby(['start_year','start_month'])['start_day'].apply(lambda x: x.mode()).reset_index(name='dia_frecuente')\n",
    "moda_por_day2 = moda_por_day2.drop(columns='level_2')\n",
    "moda_por_day2"
   ]
  },
  {
   "cell_type": "code",
   "execution_count": 37,
   "id": "d65e1c2d-c6c4-494e-b5a6-41c8ae3106ca",
   "metadata": {},
   "outputs": [
    {
     "data": {
      "image/png": "[encoded data removed]",
      "text/plain": [
       "<Figure size 640x480 with 1 Axes>"
      ]
     },
     "metadata": {},
     "output_type": "display_data"
    }
   ],
   "source": [
    "# Crear el gráfico de barras utilizando Seaborn\n",
    "sns.pointplot(x='start_month', y='dia_frecuente', hue='start_year', data=moda_por_day2)\n",
    "\n",
    "# Configurar el título del gráfico\n",
    "plt.title('Moda del Día de Inicio por Mes y Año')\n",
    "\n",
    "# Establecer el rango del eje y desde 0 hasta 30\n",
    "plt.ylim(0, 31)\n",
    "\n",
    "# Mostrar el gráfico\n",
    "plt.show()"
   ]
  },
  {
   "cell_type": "markdown",
   "id": "bd31610f-4a36-416f-8512-834aeaf36a05",
   "metadata": {},
   "source": [
    "Estaciones mejores y peores de inicio"
   ]
  },
  {
   "cell_type": "code",
   "execution_count": 38,
   "id": "dab9458e-06f4-4db3-bf89-0070dd4d4e0c",
   "metadata": {},
   "outputs": [
    {
     "data": {
      "text/plain": [
       "Canal St & Adams St             30208\n",
       "Clinton St & Washington Blvd    25506\n",
       "Clinton St & Madison St         24471\n",
       "Franklin St & Monroe St         17793\n",
       "Daley Center Plaza              17778\n",
       "Name: from_station_name, dtype: int64"
      ]
     },
     "execution_count": 38,
     "metadata": {},
     "output_type": "execute_result"
    }
   ],
   "source": [
    "# Contar las repeticiones de valores en la columna 'from_station_name', para saber las mejores estaciones\n",
    "mejores_estaciones2 = Q2['from_station_name'].value_counts().head(5)\n",
    "mejores_estaciones2"
   ]
  },
  {
   "cell_type": "code",
   "execution_count": 39,
   "id": "bd82b59b-a923-40ea-82f2-b67036bab852",
   "metadata": {},
   "outputs": [
    {
     "data": {
      "image/png": "[encoded data removed]",
      "text/plain": [
       "<Figure size 1000x600 with 1 Axes>"
      ]
     },
     "metadata": {},
     "output_type": "display_data"
    }
   ],
   "source": [
    "# Crear el gráfico de barras\n",
    "plt.figure(figsize=(10, 6))\n",
    "sns.barplot(x=mejores_estaciones2.index, y=mejores_estaciones2.values, color='yellow')\n",
    "plt.xlabel('Estación')\n",
    "plt.ylabel('Cantidad')\n",
    "plt.title('Mejores Estaciones de Inicio de los Suscriptores en el 2º Trimestre')\n",
    "# Establecer límites del eje y del gráfico \n",
    "plt.ylim(0, 40000)\n",
    "plt.xticks(rotation=45)\n",
    "\n",
    "# Mostrar el gráfico\n",
    "plt.show()"
   ]
  },
  {
   "cell_type": "code",
   "execution_count": 40,
   "id": "c5ffa07b-2156-4baa-a228-caa3cdab9091",
   "metadata": {},
   "outputs": [
    {
     "data": {
      "text/plain": [
       "Canal St & Adams St             28846\n",
       "Clinton St & Madison St         25653\n",
       "Clinton St & Washington Blvd    24861\n",
       "Daley Center Plaza              18144\n",
       "Kingsbury St & Kinzie St        17194\n",
       "Name: to_station_name, dtype: int64"
      ]
     },
     "execution_count": 40,
     "metadata": {},
     "output_type": "execute_result"
    }
   ],
   "source": [
    "# Contar las repeticiones de valores en la columna 'to_station_name', para saber las mejores estaciones\n",
    "mejores_estaciones_final2 = Q2['to_station_name'].value_counts().head(5)\n",
    "mejores_estaciones_final2"
   ]
  },
  {
   "cell_type": "code",
   "execution_count": 41,
   "id": "c73cffdc-5c70-498e-a41a-babe05584c25",
   "metadata": {},
   "outputs": [
    {
     "data": {
      "image/png": "[encoded data removed]",
      "text/plain": [
       "<Figure size 1000x600 with 1 Axes>"
      ]
     },
     "metadata": {},
     "output_type": "display_data"
    }
   ],
   "source": [
    "# Crear el gráfico de barras\n",
    "plt.figure(figsize=(10, 6))\n",
    "sns.barplot(x=mejores_estaciones_final2.index, y=mejores_estaciones_final2.values, color='yellow')\n",
    "plt.xlabel('Estación')\n",
    "plt.ylabel('Cantidad')\n",
    "plt.title('Mejores Estaciones de Fin de los Suscriptores en el 2º Trimestre')\n",
    "# Establecer límites del eje y del gráfico \n",
    "plt.ylim(0, 40000)\n",
    "plt.xticks(rotation=45)\n",
    "\n",
    "# Mostrar el gráfico\n",
    "plt.show()"
   ]
  },
  {
   "cell_type": "markdown",
   "id": "f5c450e0-82d1-4e49-9ecf-656f69c50be0",
   "metadata": {},
   "source": [
    "Alrededor de oficinas"
   ]
  },
  {
   "cell_type": "markdown",
   "id": "fc00937f-0b6e-4a1d-9162-9bb102189350",
   "metadata": {},
   "source": [
    "RELACIONAR ESTACION DE INICIO Y FINAL."
   ]
  },
  {
   "cell_type": "code",
   "execution_count": 42,
   "id": "a92e9fbf-512d-429b-8674-d0c9d3201e3e",
   "metadata": {},
   "outputs": [
    {
     "data": {
      "text/html": [
       "<div>\n",
       "<style scoped>\n",
       "    .dataframe tbody tr th:only-of-type {\n",
       "        vertical-align: middle;\n",
       "    }\n",
       "\n",
       "    .dataframe tbody tr th {\n",
       "        vertical-align: top;\n",
       "    }\n",
       "\n",
       "    .dataframe thead th {\n",
       "        text-align: right;\n",
       "    }\n",
       "</style>\n",
       "<table border=\"1\" class=\"dataframe\">\n",
       "  <thead>\n",
       "    <tr style=\"text-align: right;\">\n",
       "      <th></th>\n",
       "      <th>tripduration</th>\n",
       "      <th>from_station_name</th>\n",
       "      <th>to_station_name</th>\n",
       "      <th>usertype</th>\n",
       "      <th>gender</th>\n",
       "      <th>start_day</th>\n",
       "      <th>start_month</th>\n",
       "      <th>start_year</th>\n",
       "      <th>Age_range</th>\n",
       "    </tr>\n",
       "  </thead>\n",
       "  <tbody>\n",
       "    <tr>\n",
       "      <th>52</th>\n",
       "      <td>924.00</td>\n",
       "      <td>Racine Ave &amp; 18th St</td>\n",
       "      <td>Racine Ave &amp; 18th St</td>\n",
       "      <td>Subscriber</td>\n",
       "      <td>Male</td>\n",
       "      <td>1</td>\n",
       "      <td>4</td>\n",
       "      <td>2018</td>\n",
       "      <td>18-29</td>\n",
       "    </tr>\n",
       "    <tr>\n",
       "      <th>107</th>\n",
       "      <td>1027.00</td>\n",
       "      <td>Field Blvd &amp; South Water St</td>\n",
       "      <td>Field Blvd &amp; South Water St</td>\n",
       "      <td>Subscriber</td>\n",
       "      <td>Male</td>\n",
       "      <td>1</td>\n",
       "      <td>4</td>\n",
       "      <td>2018</td>\n",
       "      <td>50-65</td>\n",
       "    </tr>\n",
       "    <tr>\n",
       "      <th>173</th>\n",
       "      <td>150.00</td>\n",
       "      <td>Emerald Ave &amp; 28th St</td>\n",
       "      <td>Emerald Ave &amp; 28th St</td>\n",
       "      <td>Subscriber</td>\n",
       "      <td>Male</td>\n",
       "      <td>1</td>\n",
       "      <td>4</td>\n",
       "      <td>2018</td>\n",
       "      <td>30-50</td>\n",
       "    </tr>\n",
       "    <tr>\n",
       "      <th>175</th>\n",
       "      <td>1379.00</td>\n",
       "      <td>Orleans St &amp; Chestnut St (NEXT Apts)</td>\n",
       "      <td>Orleans St &amp; Chestnut St (NEXT Apts)</td>\n",
       "      <td>Subscriber</td>\n",
       "      <td>Male</td>\n",
       "      <td>1</td>\n",
       "      <td>4</td>\n",
       "      <td>2018</td>\n",
       "      <td>18-29</td>\n",
       "    </tr>\n",
       "    <tr>\n",
       "      <th>284</th>\n",
       "      <td>737.00</td>\n",
       "      <td>Morgan St &amp; Polk St</td>\n",
       "      <td>Morgan St &amp; Polk St</td>\n",
       "      <td>Subscriber</td>\n",
       "      <td>Male</td>\n",
       "      <td>1</td>\n",
       "      <td>4</td>\n",
       "      <td>2018</td>\n",
       "      <td>18-29</td>\n",
       "    </tr>\n",
       "    <tr>\n",
       "      <th>...</th>\n",
       "      <td>...</td>\n",
       "      <td>...</td>\n",
       "      <td>...</td>\n",
       "      <td>...</td>\n",
       "      <td>...</td>\n",
       "      <td>...</td>\n",
       "      <td>...</td>\n",
       "      <td>...</td>\n",
       "      <td>...</td>\n",
       "    </tr>\n",
       "    <tr>\n",
       "      <th>821995</th>\n",
       "      <td>499.00</td>\n",
       "      <td>Blue Island Ave &amp; 18th St</td>\n",
       "      <td>Blue Island Ave &amp; 18th St</td>\n",
       "      <td>Subscriber</td>\n",
       "      <td>Male</td>\n",
       "      <td>30</td>\n",
       "      <td>6</td>\n",
       "      <td>2019</td>\n",
       "      <td>30-50</td>\n",
       "    </tr>\n",
       "    <tr>\n",
       "      <th>822020</th>\n",
       "      <td>803.00</td>\n",
       "      <td>Calumet Ave &amp; 18th St</td>\n",
       "      <td>Calumet Ave &amp; 18th St</td>\n",
       "      <td>Subscriber</td>\n",
       "      <td>Male</td>\n",
       "      <td>30</td>\n",
       "      <td>6</td>\n",
       "      <td>2019</td>\n",
       "      <td>30-50</td>\n",
       "    </tr>\n",
       "    <tr>\n",
       "      <th>822025</th>\n",
       "      <td>662.00</td>\n",
       "      <td>Green St &amp; Madison St</td>\n",
       "      <td>Green St &amp; Madison St</td>\n",
       "      <td>Subscriber</td>\n",
       "      <td>Male</td>\n",
       "      <td>30</td>\n",
       "      <td>6</td>\n",
       "      <td>2019</td>\n",
       "      <td>18-29</td>\n",
       "    </tr>\n",
       "    <tr>\n",
       "      <th>822041</th>\n",
       "      <td>619.00</td>\n",
       "      <td>Western Ave &amp; 21st St</td>\n",
       "      <td>Western Ave &amp; 21st St</td>\n",
       "      <td>Subscriber</td>\n",
       "      <td>Male</td>\n",
       "      <td>30</td>\n",
       "      <td>6</td>\n",
       "      <td>2019</td>\n",
       "      <td>30-50</td>\n",
       "    </tr>\n",
       "    <tr>\n",
       "      <th>822042</th>\n",
       "      <td>1344.00</td>\n",
       "      <td>Morgan St &amp; 18th St</td>\n",
       "      <td>Morgan St &amp; 18th St</td>\n",
       "      <td>Subscriber</td>\n",
       "      <td>Male</td>\n",
       "      <td>30</td>\n",
       "      <td>6</td>\n",
       "      <td>2019</td>\n",
       "      <td>18-29</td>\n",
       "    </tr>\n",
       "  </tbody>\n",
       "</table>\n",
       "<p>26061 rows × 9 columns</p>\n",
       "</div>"
      ],
      "text/plain": [
       "        tripduration                     from_station_name  \\\n",
       "52            924.00                  Racine Ave & 18th St   \n",
       "107          1027.00           Field Blvd & South Water St   \n",
       "173           150.00                 Emerald Ave & 28th St   \n",
       "175          1379.00  Orleans St & Chestnut St (NEXT Apts)   \n",
       "284           737.00                   Morgan St & Polk St   \n",
       "...              ...                                   ...   \n",
       "821995        499.00             Blue Island Ave & 18th St   \n",
       "822020        803.00                 Calumet Ave & 18th St   \n",
       "822025        662.00                 Green St & Madison St   \n",
       "822041        619.00                 Western Ave & 21st St   \n",
       "822042       1344.00                   Morgan St & 18th St   \n",
       "\n",
       "                             to_station_name    usertype gender  start_day  \\\n",
       "52                      Racine Ave & 18th St  Subscriber   Male          1   \n",
       "107              Field Blvd & South Water St  Subscriber   Male          1   \n",
       "173                    Emerald Ave & 28th St  Subscriber   Male          1   \n",
       "175     Orleans St & Chestnut St (NEXT Apts)  Subscriber   Male          1   \n",
       "284                      Morgan St & Polk St  Subscriber   Male          1   \n",
       "...                                      ...         ...    ...        ...   \n",
       "821995             Blue Island Ave & 18th St  Subscriber   Male         30   \n",
       "822020                 Calumet Ave & 18th St  Subscriber   Male         30   \n",
       "822025                 Green St & Madison St  Subscriber   Male         30   \n",
       "822041                 Western Ave & 21st St  Subscriber   Male         30   \n",
       "822042                   Morgan St & 18th St  Subscriber   Male         30   \n",
       "\n",
       "        start_month  start_year Age_range  \n",
       "52                4        2018     18-29  \n",
       "107               4        2018     50-65  \n",
       "173               4        2018     30-50  \n",
       "175               4        2018     18-29  \n",
       "284               4        2018     18-29  \n",
       "...             ...         ...       ...  \n",
       "821995            6        2019     30-50  \n",
       "822020            6        2019     30-50  \n",
       "822025            6        2019     18-29  \n",
       "822041            6        2019     30-50  \n",
       "822042            6        2019     18-29  \n",
       "\n",
       "[26061 rows x 9 columns]"
      ]
     },
     "execution_count": 42,
     "metadata": {},
     "output_type": "execute_result"
    }
   ],
   "source": [
    "# Encontrar los viajes que coinciden en inicio y fin de recorrido\n",
    "viajes_coincidentes2 = Q2[Q2['from_station_name'] == Q2['to_station_name']]\n",
    "viajes_coincidentes2"
   ]
  },
  {
   "cell_type": "code",
   "execution_count": 43,
   "id": "ea1f87a4-9cd6-4878-8b95-096bc27f680a",
   "metadata": {},
   "outputs": [
    {
     "data": {
      "text/plain": [
       "26061"
      ]
     },
     "execution_count": 43,
     "metadata": {},
     "output_type": "execute_result"
    }
   ],
   "source": [
    "# Calcular la suma de los recorridos coincidentes por estación\n",
    "suma_recorridos2 = viajes_coincidentes2['from_station_name'].value_counts().sum()\n",
    "suma_recorridos2"
   ]
  },
  {
   "cell_type": "code",
   "execution_count": 44,
   "id": "b3937355-f0da-4a9e-a39f-95ba027a6e46",
   "metadata": {},
   "outputs": [
    {
     "data": {
      "text/plain": [
       "1.5830389293576244"
      ]
     },
     "execution_count": 44,
     "metadata": {},
     "output_type": "execute_result"
    }
   ],
   "source": [
    "proporcion_viajes_iguales2 = suma_recorridos2 / len(Q2) * 100 #proporcion de viajes coincidentes\n",
    "proporcion_viajes_iguales2"
   ]
  },
  {
   "cell_type": "markdown",
   "id": "6c9587eb-a257-4376-a33b-d5297e2363e8",
   "metadata": {},
   "source": [
    "SABER CUANTOS DE ESTOS VIAJES QUE COINCIDEN SON DE LAS MEJORES ESTACIONES"
   ]
  },
  {
   "cell_type": "code",
   "execution_count": 45,
   "id": "3e47cce1-46aa-46ee-9ecf-f0bd017faeda",
   "metadata": {},
   "outputs": [],
   "source": [
    "#estaciones mejores\n",
    "estaciones2=['Clinton St & Washington Blvd','Canal St & Adams St','Clinton St & Madison St','Franklin St & Monroe St','Daley Center Plaza']"
   ]
  },
  {
   "cell_type": "code",
   "execution_count": 46,
   "id": "63c63777-529c-4ac1-83a8-a6f9d9cd621a",
   "metadata": {},
   "outputs": [
    {
     "data": {
      "text/html": [
       "<div>\n",
       "<style scoped>\n",
       "    .dataframe tbody tr th:only-of-type {\n",
       "        vertical-align: middle;\n",
       "    }\n",
       "\n",
       "    .dataframe tbody tr th {\n",
       "        vertical-align: top;\n",
       "    }\n",
       "\n",
       "    .dataframe thead th {\n",
       "        text-align: right;\n",
       "    }\n",
       "</style>\n",
       "<table border=\"1\" class=\"dataframe\">\n",
       "  <thead>\n",
       "    <tr style=\"text-align: right;\">\n",
       "      <th></th>\n",
       "      <th>tripduration</th>\n",
       "      <th>from_station_name</th>\n",
       "      <th>to_station_name</th>\n",
       "      <th>usertype</th>\n",
       "      <th>gender</th>\n",
       "      <th>start_day</th>\n",
       "      <th>start_month</th>\n",
       "      <th>start_year</th>\n",
       "      <th>Age_range</th>\n",
       "    </tr>\n",
       "  </thead>\n",
       "  <tbody>\n",
       "    <tr>\n",
       "      <th>3847</th>\n",
       "      <td>110.00</td>\n",
       "      <td>Franklin St &amp; Monroe St</td>\n",
       "      <td>Franklin St &amp; Monroe St</td>\n",
       "      <td>Subscriber</td>\n",
       "      <td>Male</td>\n",
       "      <td>2</td>\n",
       "      <td>4</td>\n",
       "      <td>2018</td>\n",
       "      <td>30-50</td>\n",
       "    </tr>\n",
       "    <tr>\n",
       "      <th>11868</th>\n",
       "      <td>61.00</td>\n",
       "      <td>Canal St &amp; Adams St</td>\n",
       "      <td>Canal St &amp; Adams St</td>\n",
       "      <td>Subscriber</td>\n",
       "      <td>Male</td>\n",
       "      <td>3</td>\n",
       "      <td>4</td>\n",
       "      <td>2018</td>\n",
       "      <td>18-29</td>\n",
       "    </tr>\n",
       "    <tr>\n",
       "      <th>22447</th>\n",
       "      <td>526.00</td>\n",
       "      <td>Canal St &amp; Adams St</td>\n",
       "      <td>Canal St &amp; Adams St</td>\n",
       "      <td>Subscriber</td>\n",
       "      <td>Male</td>\n",
       "      <td>5</td>\n",
       "      <td>4</td>\n",
       "      <td>2018</td>\n",
       "      <td>30-50</td>\n",
       "    </tr>\n",
       "    <tr>\n",
       "      <th>27867</th>\n",
       "      <td>438.00</td>\n",
       "      <td>Canal St &amp; Adams St</td>\n",
       "      <td>Canal St &amp; Adams St</td>\n",
       "      <td>Subscriber</td>\n",
       "      <td>Male</td>\n",
       "      <td>6</td>\n",
       "      <td>4</td>\n",
       "      <td>2018</td>\n",
       "      <td>30-50</td>\n",
       "    </tr>\n",
       "    <tr>\n",
       "      <th>31207</th>\n",
       "      <td>573.00</td>\n",
       "      <td>Clinton St &amp; Madison St</td>\n",
       "      <td>Clinton St &amp; Madison St</td>\n",
       "      <td>Subscriber</td>\n",
       "      <td>Female</td>\n",
       "      <td>8</td>\n",
       "      <td>4</td>\n",
       "      <td>2018</td>\n",
       "      <td>30-50</td>\n",
       "    </tr>\n",
       "    <tr>\n",
       "      <th>...</th>\n",
       "      <td>...</td>\n",
       "      <td>...</td>\n",
       "      <td>...</td>\n",
       "      <td>...</td>\n",
       "      <td>...</td>\n",
       "      <td>...</td>\n",
       "      <td>...</td>\n",
       "      <td>...</td>\n",
       "      <td>...</td>\n",
       "    </tr>\n",
       "    <tr>\n",
       "      <th>786927</th>\n",
       "      <td>85.00</td>\n",
       "      <td>Daley Center Plaza</td>\n",
       "      <td>Daley Center Plaza</td>\n",
       "      <td>Subscriber</td>\n",
       "      <td>Male</td>\n",
       "      <td>27</td>\n",
       "      <td>6</td>\n",
       "      <td>2019</td>\n",
       "      <td>30-50</td>\n",
       "    </tr>\n",
       "    <tr>\n",
       "      <th>796905</th>\n",
       "      <td>181.00</td>\n",
       "      <td>Clinton St &amp; Washington Blvd</td>\n",
       "      <td>Clinton St &amp; Washington Blvd</td>\n",
       "      <td>Subscriber</td>\n",
       "      <td>Female</td>\n",
       "      <td>28</td>\n",
       "      <td>6</td>\n",
       "      <td>2019</td>\n",
       "      <td>18-29</td>\n",
       "    </tr>\n",
       "    <tr>\n",
       "      <th>797750</th>\n",
       "      <td>68.00</td>\n",
       "      <td>Canal St &amp; Adams St</td>\n",
       "      <td>Canal St &amp; Adams St</td>\n",
       "      <td>Subscriber</td>\n",
       "      <td>Male</td>\n",
       "      <td>28</td>\n",
       "      <td>6</td>\n",
       "      <td>2019</td>\n",
       "      <td>18-29</td>\n",
       "    </tr>\n",
       "    <tr>\n",
       "      <th>802899</th>\n",
       "      <td>969.00</td>\n",
       "      <td>Daley Center Plaza</td>\n",
       "      <td>Daley Center Plaza</td>\n",
       "      <td>Subscriber</td>\n",
       "      <td>Male</td>\n",
       "      <td>28</td>\n",
       "      <td>6</td>\n",
       "      <td>2019</td>\n",
       "      <td>50-65</td>\n",
       "    </tr>\n",
       "    <tr>\n",
       "      <th>820430</th>\n",
       "      <td>106.00</td>\n",
       "      <td>Clinton St &amp; Madison St</td>\n",
       "      <td>Clinton St &amp; Madison St</td>\n",
       "      <td>Subscriber</td>\n",
       "      <td>Male</td>\n",
       "      <td>30</td>\n",
       "      <td>6</td>\n",
       "      <td>2019</td>\n",
       "      <td>30-50</td>\n",
       "    </tr>\n",
       "  </tbody>\n",
       "</table>\n",
       "<p>530 rows × 9 columns</p>\n",
       "</div>"
      ],
      "text/plain": [
       "        tripduration             from_station_name  \\\n",
       "3847          110.00       Franklin St & Monroe St   \n",
       "11868          61.00           Canal St & Adams St   \n",
       "22447         526.00           Canal St & Adams St   \n",
       "27867         438.00           Canal St & Adams St   \n",
       "31207         573.00       Clinton St & Madison St   \n",
       "...              ...                           ...   \n",
       "786927         85.00            Daley Center Plaza   \n",
       "796905        181.00  Clinton St & Washington Blvd   \n",
       "797750         68.00           Canal St & Adams St   \n",
       "802899        969.00            Daley Center Plaza   \n",
       "820430        106.00       Clinton St & Madison St   \n",
       "\n",
       "                     to_station_name    usertype  gender  start_day  \\\n",
       "3847         Franklin St & Monroe St  Subscriber    Male          2   \n",
       "11868            Canal St & Adams St  Subscriber    Male          3   \n",
       "22447            Canal St & Adams St  Subscriber    Male          5   \n",
       "27867            Canal St & Adams St  Subscriber    Male          6   \n",
       "31207        Clinton St & Madison St  Subscriber  Female          8   \n",
       "...                              ...         ...     ...        ...   \n",
       "786927            Daley Center Plaza  Subscriber    Male         27   \n",
       "796905  Clinton St & Washington Blvd  Subscriber  Female         28   \n",
       "797750           Canal St & Adams St  Subscriber    Male         28   \n",
       "802899            Daley Center Plaza  Subscriber    Male         28   \n",
       "820430       Clinton St & Madison St  Subscriber    Male         30   \n",
       "\n",
       "        start_month  start_year Age_range  \n",
       "3847              4        2018     30-50  \n",
       "11868             4        2018     18-29  \n",
       "22447             4        2018     30-50  \n",
       "27867             4        2018     30-50  \n",
       "31207             4        2018     30-50  \n",
       "...             ...         ...       ...  \n",
       "786927            6        2019     30-50  \n",
       "796905            6        2019     18-29  \n",
       "797750            6        2019     18-29  \n",
       "802899            6        2019     50-65  \n",
       "820430            6        2019     30-50  \n",
       "\n",
       "[530 rows x 9 columns]"
      ]
     },
     "execution_count": 46,
     "metadata": {},
     "output_type": "execute_result"
    }
   ],
   "source": [
    "# Filtrar los viajes coincidentes con las mejores estaciones\n",
    "viajesft2 = Q2[Q2['from_station_name'].isin(estaciones2) & Q2['to_station_name'].isin(estaciones2) & (Q2['from_station_name'] == Q2['to_station_name'])]\n",
    "viajesft2"
   ]
  },
  {
   "cell_type": "code",
   "execution_count": 47,
   "id": "2ad95378-58d1-4818-9cd7-f9786623278b",
   "metadata": {},
   "outputs": [
    {
     "data": {
      "text/plain": [
       "530"
      ]
     },
     "execution_count": 47,
     "metadata": {},
     "output_type": "execute_result"
    }
   ],
   "source": [
    "sum_viajesft2 = viajesft2['from_station_name'].value_counts().sum()\n",
    "sum_viajesft2"
   ]
  },
  {
   "cell_type": "code",
   "execution_count": 48,
   "id": "196c3161-0889-47c2-906c-5731b770cb35",
   "metadata": {},
   "outputs": [
    {
     "data": {
      "text/plain": [
       "2.0336901884041287"
      ]
     },
     "execution_count": 48,
     "metadata": {},
     "output_type": "execute_result"
    }
   ],
   "source": [
    "# Calcular el porcentaje de viajes coincidentes con las mejores estaciones\n",
    "porcentaje_coincidentes2 = (sum_viajesft2 / suma_recorridos2) * 100\n",
    "porcentaje_coincidentes2"
   ]
  },
  {
   "cell_type": "markdown",
   "id": "c767feb4-6c39-421a-bcda-4d00b504ce09",
   "metadata": {
    "tags": []
   },
   "source": [
    "# 3º TRIMESTRE 2018 y 2019"
   ]
  },
  {
   "cell_type": "code",
   "execution_count": null,
   "id": "4de2b309-35ee-45e8-9e0d-c13b5e7a2f43",
   "metadata": {},
   "outputs": [],
   "source": [
    "# Cargar los dataset dataset\n",
    "Q32018 = pd.read_csv('SUSQ318CLEAN.csv')\n",
    "Q32019 = pd.read_csv('SUSQ319CLEAN.csv')\n",
    "# Fusionar los datasets por columnas comunes\n",
    "Q3 = pd.concat([Q32018, Q32019])"
   ]
  },
  {
   "cell_type": "code",
   "execution_count": null,
   "id": "378503b9-e1cc-47e1-9b2e-ac51a0383454",
   "metadata": {},
   "outputs": [],
   "source": [
    "Q3.head()"
   ]
  },
  {
   "cell_type": "code",
   "execution_count": null,
   "id": "18de6e3b-f7d0-4a57-af10-69a940e7a4a0",
   "metadata": {},
   "outputs": [],
   "source": [
    "Q3.shape"
   ]
  },
  {
   "cell_type": "code",
   "execution_count": null,
   "id": "2259d54f-33eb-44b8-9208-c66dfe40bd7c",
   "metadata": {},
   "outputs": [],
   "source": [
    "# Desactivar la notación científica\n",
    "pd.set_option('display.float_format', '{:.2f}'.format)\n",
    "Q3.describe()"
   ]
  },
  {
   "cell_type": "markdown",
   "id": "580071a1-3228-4a8f-836c-c5fc8797daa4",
   "metadata": {},
   "source": [
    "Trabajar con la edad"
   ]
  },
  {
   "cell_type": "code",
   "execution_count": null,
   "id": "f02b02c7-9606-483b-9cba-a92183ab183c",
   "metadata": {},
   "outputs": [],
   "source": [
    "# Calcular la suma de cada rango de edad\n",
    "rang_anoS3 = Q3.groupby(['Age_range','start_year']).size().reset_index(name='count')\n",
    "rang_anoS3"
   ]
  },
  {
   "cell_type": "code",
   "execution_count": null,
   "id": "13555fa1-5fdf-4355-b072-89628f7b9fad",
   "metadata": {},
   "outputs": [],
   "source": [
    "# Crear el gráfico de barras utilizando Seaborn\n",
    "sns.barplot(x='Age_range', y='count', hue='start_year', data=rang_anoS3)\n",
    "\n",
    "# Configurar el título del gráfico\n",
    "plt.title('Rango de Edad por Año de los Suscriptores en el 3º Trimestre')\n",
    "\n",
    "# Establecer límites del eje y del gráfico \n",
    "plt.ylim(0, 600000)\n",
    "\n",
    "# Mostrar el gráfico\n",
    "plt.show()"
   ]
  },
  {
   "cell_type": "markdown",
   "id": "507b78db-b2cd-4a26-9100-216c713baed2",
   "metadata": {},
   "source": [
    "Trabajar con la duracion del viaje"
   ]
  },
  {
   "cell_type": "code",
   "execution_count": null,
   "id": "369ceef3-443d-4fb6-97bd-14525e793947",
   "metadata": {},
   "outputs": [],
   "source": [
    "# Calcular la media de la columna 'tripduration' por rango de edad y año\n",
    "trip3 = Q3.groupby(['Age_range', 'start_year'])['tripduration'].mean().reset_index(name='mean_tripduration')\n",
    "trip3"
   ]
  },
  {
   "cell_type": "code",
   "execution_count": null,
   "id": "3f043331-1d7a-41a7-8925-6bf217bef299",
   "metadata": {},
   "outputs": [],
   "source": [
    "# Crear el gráfico de barras utilizando Seaborn\n",
    "sns.barplot(x='Age_range', y='mean_tripduration', hue='start_year', data=trip3)\n",
    "\n",
    "# Configurar el título del gráfico\n",
    "plt.title('Duración del Viaje de los Suscriptores en el 3º Trimestre')\n",
    "\n",
    "# Establecer límites del eje y del gráfico \n",
    "plt.ylim(0, 1000)\n",
    "\n",
    "# Mostrar el gráfico\n",
    "plt.show()"
   ]
  },
  {
   "cell_type": "markdown",
   "id": "39328d26-becd-4569-b26c-c369e0c33188",
   "metadata": {},
   "source": [
    "Trabajar con el género"
   ]
  },
  {
   "cell_type": "code",
   "execution_count": null,
   "id": "a4d78494-b9ce-43f6-9382-c19481abfc76",
   "metadata": {},
   "outputs": [],
   "source": [
    "# Calcular la suma de cada rango de edad\n",
    "gend_ano3 = Q3.groupby(['gender','start_year']).size().reset_index(name='count')\n",
    "gend_ano3"
   ]
  },
  {
   "cell_type": "code",
   "execution_count": null,
   "id": "e9c83d80-fd12-4c51-8f9a-5bde69c19aa6",
   "metadata": {},
   "outputs": [],
   "source": [
    "# Crear el gráfico de barras utilizando Seaborn\n",
    "sns.barplot(x='gender', y='count', hue='start_year', data=gend_ano3)\n",
    "\n",
    "# Establecer el título del gráfico\n",
    "plt.title('Género en los Suscriptores en el 3º Trimestre')\n",
    "# Establecer límites del eje y del gráfico \n",
    "plt.ylim(0, 900000)\n",
    "\n",
    "# Mostrar el gráfico\n",
    "plt.show()"
   ]
  },
  {
   "cell_type": "markdown",
   "id": "1d7dcaa3-fce0-437c-af86-677215cceb5c",
   "metadata": {},
   "source": [
    "Dia de inicio por año y mes"
   ]
  },
  {
   "cell_type": "code",
   "execution_count": null,
   "id": "c206153e-502e-47e5-a78e-8d291ad084ac",
   "metadata": {},
   "outputs": [],
   "source": [
    "# Calcular la moda de la columna 'star_day' agrupada por 'Start Year' y star_month\n",
    "moda_por_day3 = Q3.groupby(['start_year','start_month'])['start_day'].apply(lambda x: x.mode()).reset_index(name='dia_frecuente')\n",
    "moda_por_day3 = moda_por_day3.drop(columns='level_2')\n",
    "moda_por_day3"
   ]
  },
  {
   "cell_type": "code",
   "execution_count": null,
   "id": "8c9307a8-4894-45c6-b7a5-ea9cb917d3dc",
   "metadata": {},
   "outputs": [],
   "source": [
    "# Crear el gráfico de barras utilizando Seaborn\n",
    "sns.pointplot(x='start_month', y='dia_frecuente', hue='start_year', data=moda_por_day3)\n",
    "\n",
    "# Configurar el título del gráfico\n",
    "plt.title('Moda del Día de Inicio por Mes y Año')\n",
    "\n",
    "# Establecer el rango del eje y desde 0 hasta 30\n",
    "plt.ylim(0, 31)\n",
    "\n",
    "# Mostrar el gráfico\n",
    "plt.show()"
   ]
  },
  {
   "cell_type": "markdown",
   "id": "828b4350-9a31-474b-8813-d4064d39c0b9",
   "metadata": {},
   "source": [
    "Estaciones mejores y peores de inicio"
   ]
  },
  {
   "cell_type": "code",
   "execution_count": null,
   "id": "17156d47-237d-4a4e-8455-08c2fa0e1f87",
   "metadata": {},
   "outputs": [],
   "source": [
    "# Contar las repeticiones de valores en la columna 'from_station_name', para saber las mejores estaciones\n",
    "mejores_estaciones3 = Q3['from_station_name'].value_counts().head(5)\n",
    "mejores_estaciones3"
   ]
  },
  {
   "cell_type": "code",
   "execution_count": null,
   "id": "4bf02d05-0611-4f6c-9f79-d6c461567952",
   "metadata": {},
   "outputs": [],
   "source": [
    "# Crear el gráfico de barras\n",
    "plt.figure(figsize=(10, 6))\n",
    "sns.barplot(x=mejores_estaciones3.index, y=mejores_estaciones3.values, color='yellow')\n",
    "plt.xlabel('Estación')\n",
    "plt.ylabel('Cantidad')\n",
    "plt.title('Mejores Estaciones de Inicio de los Suscriptores en el 3º Trimestre')\n",
    "# Establecer límites del eje y del gráfico \n",
    "plt.ylim(0, 40000)\n",
    "plt.xticks(rotation=45)\n",
    "\n",
    "# Mostrar el gráfico\n",
    "plt.show()"
   ]
  },
  {
   "cell_type": "code",
   "execution_count": null,
   "id": "0f085893-33c7-4aab-b2a4-355518a79f88",
   "metadata": {},
   "outputs": [],
   "source": [
    "# Contar las repeticiones de valores en la columna 'to_station_name', para saber las mejores estaciones\n",
    "mejores_estaciones_final3 = Q3['to_station_name'].value_counts().head(5)\n",
    "mejores_estaciones_final3"
   ]
  },
  {
   "cell_type": "code",
   "execution_count": null,
   "id": "52f1d6cc-3be9-42de-8d5a-677bce447229",
   "metadata": {},
   "outputs": [],
   "source": [
    "# Crear el gráfico de barras\n",
    "plt.figure(figsize=(10, 6))\n",
    "sns.barplot(x=mejores_estaciones_final3.index, y=mejores_estaciones_final3.values, color='yellow')\n",
    "plt.xlabel('Estación')\n",
    "plt.ylabel('Cantidad')\n",
    "plt.title('Mejores Estaciones de Fin de los Suscriptores en el 3º Trimestre')\n",
    "# Establecer límites del eje y del gráfico \n",
    "plt.ylim(0, 40000)\n",
    "plt.xticks(rotation=45)\n",
    "\n",
    "# Mostrar el gráfico\n",
    "plt.show()"
   ]
  },
  {
   "cell_type": "markdown",
   "id": "2580aec4-ec25-4ce6-b722-6738954fb2a0",
   "metadata": {},
   "source": [
    "RELACIONAR ESTACION DE INICIO Y FINAL."
   ]
  },
  {
   "cell_type": "code",
   "execution_count": null,
   "id": "562cf56f-918e-4aba-a36a-2b3d17d9098e",
   "metadata": {},
   "outputs": [],
   "source": [
    "# Encontrar los viajes que coinciden en inicio y fin de recorrido\n",
    "viajes_coincidentes3 = Q3[Q3['from_station_name'] == Q3['to_station_name']]\n",
    "viajes_coincidentes3"
   ]
  },
  {
   "cell_type": "code",
   "execution_count": null,
   "id": "73883716-fa71-4edd-8b3d-47fdbcdea65f",
   "metadata": {},
   "outputs": [],
   "source": [
    "# Calcular la suma de los recorridos coincidentes por estación\n",
    "suma_recorridos3 = viajes_coincidentes3['from_station_name'].value_counts().sum()\n",
    "suma_recorridos3"
   ]
  },
  {
   "cell_type": "code",
   "execution_count": null,
   "id": "d3188721-4b75-4264-9ab5-43ac0a53e5c9",
   "metadata": {},
   "outputs": [],
   "source": [
    "proporcion_viajes_iguales3 = suma_recorridos3 / len(Q3) * 100 #proporcion de viajes coincidentes\n",
    "proporcion_viajes_iguales3"
   ]
  },
  {
   "cell_type": "markdown",
   "id": "b5607558-2389-4949-ab45-de869453cd57",
   "metadata": {},
   "source": [
    "SABER CUANTOS DE ESTOS VIAJES QUE COINCIDEN SON DE LAS MEJORES ESTACIONES"
   ]
  },
  {
   "cell_type": "code",
   "execution_count": null,
   "id": "68c95de2-10a4-4b8e-b87f-ad8210d9472a",
   "metadata": {},
   "outputs": [],
   "source": [
    "#estaciones mejores\n",
    "estaciones3=['Clinton St & Washington Blvd','Canal St & Adams St','Clinton St & Madison St','Daley Center Plaza ','Kingsbury St & Kinzie St']"
   ]
  },
  {
   "cell_type": "code",
   "execution_count": null,
   "id": "78a10824-b11f-419a-9008-89dc7faa4b57",
   "metadata": {},
   "outputs": [],
   "source": [
    "# Filtrar los viajes coincidentes con las mejores estaciones\n",
    "viajesft3 = Q3[Q3['from_station_name'].isin(estaciones3) & Q3['to_station_name'].isin(estaciones3) & (Q3['from_station_name'] == Q3['to_station_name'])]\n",
    "viajesft3"
   ]
  },
  {
   "cell_type": "code",
   "execution_count": null,
   "id": "7e801fe9-98c3-438a-b29b-e97abd07cd93",
   "metadata": {},
   "outputs": [],
   "source": [
    "sum_viajesft3 = viajesft3['from_station_name'].value_counts().sum()\n",
    "sum_viajesft3"
   ]
  },
  {
   "cell_type": "code",
   "execution_count": null,
   "id": "f84eecfc-6c51-431d-9711-377b71e122ae",
   "metadata": {},
   "outputs": [],
   "source": [
    "# Calcular el porcentaje de viajes coincidentes con las mejores estaciones\n",
    "porcentaje_coincidentes3 = (sum_viajesft3 / suma_recorridos3) * 100\n",
    "porcentaje_coincidentes3"
   ]
  },
  {
   "cell_type": "markdown",
   "id": "6b94e1b2-8d6a-4fec-9cb8-d4dc318f8d0c",
   "metadata": {
    "tags": []
   },
   "source": [
    "# 4º TRIMESTRE 2018 y 2019"
   ]
  },
  {
   "cell_type": "code",
   "execution_count": null,
   "id": "8be8e317-f5c9-4dc7-a691-27fe9588a268",
   "metadata": {},
   "outputs": [],
   "source": [
    "# Cargar los dataset dataset\n",
    "Q42018 = pd.read_csv('SUSQ418CLEAN.csv')\n",
    "Q42019 = pd.read_csv('SUSQ419CLEAN.csv')\n",
    "# Fusionar los datasets por columnas comunes\n",
    "Q4 = pd.concat([Q42018, Q42019])"
   ]
  },
  {
   "cell_type": "code",
   "execution_count": null,
   "id": "24627358-9968-4a28-adfa-97fad70ddb77",
   "metadata": {},
   "outputs": [],
   "source": [
    "Q4.head()"
   ]
  },
  {
   "cell_type": "code",
   "execution_count": null,
   "id": "6d528cc4-4ddf-4903-a40e-7036eac6005d",
   "metadata": {},
   "outputs": [],
   "source": [
    "Q4.shape"
   ]
  },
  {
   "cell_type": "code",
   "execution_count": null,
   "id": "58a86e96-47b6-4b1d-8e3b-ac9c967c90c2",
   "metadata": {},
   "outputs": [],
   "source": [
    "# Desactivar la notación científica\n",
    "pd.set_option('display.float_format', '{:.2f}'.format)\n",
    "Q4.describe()"
   ]
  },
  {
   "cell_type": "markdown",
   "id": "bf2b00b0-4684-4eb9-9ace-bbc67a1da369",
   "metadata": {},
   "source": [
    "Trabajar con la edad"
   ]
  },
  {
   "cell_type": "code",
   "execution_count": null,
   "id": "9083a7c2-a82a-4763-b2de-eda1e94e189d",
   "metadata": {},
   "outputs": [],
   "source": [
    "# Calcular la suma de cada rango de edad\n",
    "rang_anoS4 = Q4.groupby(['Age_range','start_year']).size().reset_index(name='count')\n",
    "rang_anoS4"
   ]
  },
  {
   "cell_type": "code",
   "execution_count": null,
   "id": "b67f96e0-b45f-4b88-9834-828c4db63de9",
   "metadata": {},
   "outputs": [],
   "source": [
    "# Crear el gráfico de barras utilizando Seaborn\n",
    "sns.barplot(x='Age_range', y='count', hue='start_year', data=rang_anoS4)\n",
    "\n",
    "# Configurar el título del gráfico\n",
    "plt.title('Rango de Edad por Año de los Suscriptores en el 4º Trimestre')\n",
    "\n",
    "# Establecer límites del eje y del gráfico \n",
    "plt.ylim(0, 600000)\n",
    "\n",
    "# Mostrar el gráfico\n",
    "plt.show()"
   ]
  },
  {
   "cell_type": "markdown",
   "id": "0479c3ea-51a2-4784-a9ee-1ca420ca8089",
   "metadata": {},
   "source": [
    "Trabajar con la duracion del viaje"
   ]
  },
  {
   "cell_type": "code",
   "execution_count": null,
   "id": "091d3f30-74b4-4b7b-8b87-367e91cdf17d",
   "metadata": {},
   "outputs": [],
   "source": [
    "# Calcular la media de la columna 'tripduration' por rango de edad y año\n",
    "trip4 = Q4.groupby(['Age_range', 'start_year'])['tripduration'].mean().reset_index(name='mean_tripduration')\n",
    "trip4"
   ]
  },
  {
   "cell_type": "code",
   "execution_count": null,
   "id": "706d22e3-fd8c-4edc-b2d1-b402854fba86",
   "metadata": {},
   "outputs": [],
   "source": [
    "# Crear el gráfico de barras utilizando Seaborn\n",
    "sns.barplot(x='Age_range', y='mean_tripduration', hue='start_year', data=trip4)\n",
    "\n",
    "# Configurar el título del gráfico\n",
    "plt.title('Duración del Viaje de los Suscriptores en el 4º Trimestre')\n",
    "\n",
    "# Establecer límites del eje y del gráfico \n",
    "plt.ylim(0, 1000)\n",
    "\n",
    "# Mostrar el gráfico\n",
    "plt.show()"
   ]
  },
  {
   "cell_type": "markdown",
   "id": "7ab4807c-b492-4562-892f-b6bd4cb10c55",
   "metadata": {},
   "source": [
    "Trabajar con el género"
   ]
  },
  {
   "cell_type": "code",
   "execution_count": null,
   "id": "aee75567-1cdd-4a0d-b8d6-736b2839f68a",
   "metadata": {},
   "outputs": [],
   "source": [
    "# Calcular la suma de cada rango de edad\n",
    "gend_ano4 = Q4.groupby(['gender','start_year']).size().reset_index(name='count')\n",
    "gend_ano4"
   ]
  },
  {
   "cell_type": "code",
   "execution_count": null,
   "id": "24d00405-9558-4359-b6d0-42c68f3490a1",
   "metadata": {},
   "outputs": [],
   "source": [
    "# Crear el gráfico de barras utilizando Seaborn\n",
    "sns.barplot(x='gender', y='count', hue='start_year', data=gend_ano4)\n",
    "\n",
    "# Establecer el título del gráfico\n",
    "plt.title('Género en los Suscriptores en el 4º Trimestre')\n",
    "# Establecer límites del eje y del gráfico \n",
    "plt.ylim(0, 900000)\n",
    "\n",
    "# Mostrar el gráfico\n",
    "plt.show()"
   ]
  },
  {
   "cell_type": "markdown",
   "id": "10c86711-8d83-4891-9e31-9ef5fa60c466",
   "metadata": {},
   "source": [
    "Dia de inicio por año y mes"
   ]
  },
  {
   "cell_type": "code",
   "execution_count": null,
   "id": "ecd75f4b-ef1d-4dfc-b899-d11ce9953ce8",
   "metadata": {},
   "outputs": [],
   "source": [
    "# Calcular la moda de la columna 'star_day' agrupada por 'Start Year' y star_month\n",
    "moda_por_day4 = Q4.groupby(['start_year','start_month'])['start_day'].apply(lambda x: x.mode()).reset_index(name='dia_frecuente')\n",
    "moda_por_day4 = moda_por_day4.drop(columns='level_2')\n",
    "moda_por_day4"
   ]
  },
  {
   "cell_type": "code",
   "execution_count": null,
   "id": "ce612542-68ef-4ceb-ad55-31b1433b56aa",
   "metadata": {},
   "outputs": [],
   "source": [
    "# Crear el gráfico de barras utilizando Seaborn\n",
    "sns.pointplot(x='start_month', y='dia_frecuente', hue='start_year', data=moda_por_day4)\n",
    "\n",
    "# Configurar el título del gráfico\n",
    "plt.title('Moda del Día de Inicio por Mes y Año')\n",
    "\n",
    "# Establecer el rango del eje y desde 0 hasta 30\n",
    "plt.ylim(0, 31)\n",
    "\n",
    "# Mostrar el gráfico\n",
    "plt.show()"
   ]
  },
  {
   "cell_type": "markdown",
   "id": "5a3f3c6f-e7d5-4a55-8721-5e28dea5401f",
   "metadata": {},
   "source": [
    "Estaciones mejores de inicio"
   ]
  },
  {
   "cell_type": "code",
   "execution_count": null,
   "id": "4eec7bf3-dfd3-4469-985f-ba536d38f32a",
   "metadata": {},
   "outputs": [],
   "source": [
    "# Contar las repeticiones de valores en la columna 'from_station_name', para saber las mejores estaciones\n",
    "mejores_estaciones4 = Q4['from_station_name'].value_counts().head(5)\n",
    "mejores_estaciones4"
   ]
  },
  {
   "cell_type": "code",
   "execution_count": null,
   "id": "682054f0-c6f2-48d1-be89-ce04fa4f924c",
   "metadata": {},
   "outputs": [],
   "source": [
    "# Crear el gráfico de barras\n",
    "plt.figure(figsize=(10, 6))\n",
    "sns.barplot(x=mejores_estaciones4.index, y=mejores_estaciones4.values, color='yellow')\n",
    "plt.xlabel('Estación')\n",
    "plt.ylabel('Cantidad')\n",
    "plt.title('Mejores Estaciones de Inicio de los Suscriptores en el 4º Trimestre')\n",
    "# Establecer límites del eje y del gráfico \n",
    "plt.ylim(0, 40000)\n",
    "plt.xticks(rotation=45)\n",
    "\n",
    "# Mostrar el gráfico\n",
    "plt.show()"
   ]
  },
  {
   "cell_type": "code",
   "execution_count": null,
   "id": "51723673-c0c2-4359-aa22-8cca26e04397",
   "metadata": {},
   "outputs": [],
   "source": [
    "# Contar las repeticiones de valores en la columna 'to_station_name', para saber las mejores estaciones\n",
    "mejores_estaciones_final4 = Q4['to_station_name'].value_counts().head(5)\n",
    "mejores_estaciones_final4"
   ]
  },
  {
   "cell_type": "code",
   "execution_count": null,
   "id": "82c63a2d-6bcc-47cc-9586-14a9e10084be",
   "metadata": {},
   "outputs": [],
   "source": [
    "# Crear el gráfico de barras\n",
    "plt.figure(figsize=(10, 6))\n",
    "sns.barplot(x=mejores_estaciones_final4.index, y=mejores_estaciones_final4.values, color='yellow')\n",
    "plt.xlabel('Estación')\n",
    "plt.ylabel('Cantidad')\n",
    "plt.title('Mejores Estaciones de Fin de los Suscriptores en el 4º Trimestre')\n",
    "# Establecer límites del eje y del gráfico \n",
    "plt.ylim(0, 40000)\n",
    "plt.xticks(rotation=45)\n",
    "\n",
    "# Mostrar el gráfico\n",
    "plt.show()"
   ]
  },
  {
   "cell_type": "markdown",
   "id": "1ac1580c-d3a8-44e9-babd-463eebdc2378",
   "metadata": {},
   "source": [
    "RELACIONAR ESTACION DE INICIO Y FINAL."
   ]
  },
  {
   "cell_type": "code",
   "execution_count": null,
   "id": "cfa89cb2-34c6-48f8-acbc-98d3f02f0881",
   "metadata": {},
   "outputs": [],
   "source": [
    "# Encontrar los viajes que coinciden en inicio y fin de recorrido\n",
    "viajes_coincidentes4 = Q4[Q4['from_station_name'] == Q4['to_station_name']]\n",
    "viajes_coincidentes4"
   ]
  },
  {
   "cell_type": "code",
   "execution_count": null,
   "id": "1420df63-1aa7-4bad-a311-04742829c282",
   "metadata": {},
   "outputs": [],
   "source": [
    "# Calcular la suma de los recorridos coincidentes por estación\n",
    "suma_recorridos4 = viajes_coincidentes['from_station_name'].value_counts().sum()\n",
    "suma_recorridos4"
   ]
  },
  {
   "cell_type": "code",
   "execution_count": null,
   "id": "f2a00cc2-c089-4eec-a510-413ae58c542a",
   "metadata": {},
   "outputs": [],
   "source": [
    "proporcion_viajes_iguales4 = suma_recorridos4 / len(Q4) * 100 #proporcion de viajes coincidentes\n",
    "proporcion_viajes_iguales4"
   ]
  },
  {
   "cell_type": "markdown",
   "id": "b823fdde-ad2a-443f-b828-c8cbda14ad99",
   "metadata": {},
   "source": [
    "SABER CUANTOS DE ESTOS VIAJES QUE COINCIDEN SON DE LAS MEJORES ESTACIONES"
   ]
  },
  {
   "cell_type": "code",
   "execution_count": null,
   "id": "de7149d6-a70b-4fbd-a818-9b9f3968b416",
   "metadata": {},
   "outputs": [],
   "source": [
    "#estaciones mejores\n",
    "estaciones4=['Clinton St & Washington Blvd','Canal St & Adams St','Clinton St & Madison St','Columbus Dr & Randolph St ','Kingsbury St & Kinzie St']"
   ]
  },
  {
   "cell_type": "code",
   "execution_count": null,
   "id": "f6501c81-1fec-4ff4-9703-44340992efe4",
   "metadata": {},
   "outputs": [],
   "source": [
    "# Filtrar los viajes coincidentes con las mejores estaciones\n",
    "viajesft4 = Q4[Q4['from_station_name'].isin(estaciones4) & Q4['to_station_name'].isin(estaciones4) & (Q4['from_station_name'] == Q4['to_station_name'])]\n",
    "viajesft4"
   ]
  },
  {
   "cell_type": "code",
   "execution_count": null,
   "id": "48e23253-242f-4d3f-beda-9b127f36e169",
   "metadata": {},
   "outputs": [],
   "source": [
    "sum_viajesft4 = viajesft4['from_station_name'].value_counts().sum()\n",
    "sum_viajesft4"
   ]
  },
  {
   "cell_type": "code",
   "execution_count": null,
   "id": "7fddb894-526d-4420-b8a5-3f79114e82c0",
   "metadata": {},
   "outputs": [],
   "source": [
    "# Calcular el porcentaje de viajes coincidentes con las mejores estaciones\n",
    "porcentaje_coincidentes4 = (sum_viajesft4 / suma_recorridos4) * 100\n",
    "porcentaje_coincidentes4"
   ]
  },
  {
   "cell_type": "markdown",
   "id": "b38c9005-972a-42db-8ee1-60be5e9e5ca8",
   "metadata": {},
   "source": [
    "# CONCLUSIONES SUSCRIPTORES"
   ]
  },
  {
   "cell_type": "raw",
   "id": "bbba11f4-d385-43bc-907b-8591e58794ae",
   "metadata": {},
   "source": [
    "-El rango de edad predominantes es de 30 a 50 años.\n",
    "-Duración media del Viaje son entre 10 y 13 minutos.\n",
    "-Género predominante el masculino.\n",
    "-Las estaciones de inicio son cercanas a un complejo de oficinas y tienen muy cerca estaciones de trenes. \n",
    "-Relacionando viajes que inicien y acaben en la misma estación ronda el 1% de coincidencia.\n"
   ]
  }
 ],
 "metadata": {
  "kernelspec": {
   "display_name": "Python 3 (ipykernel)",
   "language": "python",
   "name": "python3"
  },
  "language_info": {
   "codemirror_mode": {
    "name": "ipython",
    "version": 3
   },
   "file_extension": ".py",
   "mimetype": "text/x-python",
   "name": "python",
   "nbconvert_exporter": "python",
   "pygments_lexer": "ipython3",
   "version": "3.10.8"
  }
 },
 "nbformat": 4,
 "nbformat_minor": 5
}
